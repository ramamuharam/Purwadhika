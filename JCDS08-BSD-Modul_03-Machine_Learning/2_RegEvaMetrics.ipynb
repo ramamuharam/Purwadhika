{
 "cells": [
  {
   "cell_type": "markdown",
   "metadata": {},
   "source": [
    "# Regression Evaluation Metrics"
   ]
  },
  {
   "cell_type": "code",
   "execution_count": 5,
   "metadata": {},
   "outputs": [],
   "source": [
    "import numpy as np\n",
    "import pandas as pd\n",
    "import matplotlib.pyplot as plt"
   ]
  },
  {
   "cell_type": "code",
   "execution_count": 6,
   "metadata": {},
   "outputs": [
    {
     "data": {
      "text/html": [
       "<div>\n",
       "<style scoped>\n",
       "    .dataframe tbody tr th:only-of-type {\n",
       "        vertical-align: middle;\n",
       "    }\n",
       "\n",
       "    .dataframe tbody tr th {\n",
       "        vertical-align: top;\n",
       "    }\n",
       "\n",
       "    .dataframe thead th {\n",
       "        text-align: right;\n",
       "    }\n",
       "</style>\n",
       "<table border=\"1\" class=\"dataframe\">\n",
       "  <thead>\n",
       "    <tr style=\"text-align: right;\">\n",
       "      <th></th>\n",
       "      <th>mesin</th>\n",
       "      <th>harga</th>\n",
       "    </tr>\n",
       "  </thead>\n",
       "  <tbody>\n",
       "    <tr>\n",
       "      <th>0</th>\n",
       "      <td>1000</td>\n",
       "      <td>10</td>\n",
       "    </tr>\n",
       "    <tr>\n",
       "      <th>1</th>\n",
       "      <td>2000</td>\n",
       "      <td>25</td>\n",
       "    </tr>\n",
       "    <tr>\n",
       "      <th>2</th>\n",
       "      <td>3000</td>\n",
       "      <td>30</td>\n",
       "    </tr>\n",
       "    <tr>\n",
       "      <th>3</th>\n",
       "      <td>4000</td>\n",
       "      <td>65</td>\n",
       "    </tr>\n",
       "    <tr>\n",
       "      <th>4</th>\n",
       "      <td>5000</td>\n",
       "      <td>80</td>\n",
       "    </tr>\n",
       "  </tbody>\n",
       "</table>\n",
       "</div>"
      ],
      "text/plain": [
       "   mesin  harga\n",
       "0   1000     10\n",
       "1   2000     25\n",
       "2   3000     30\n",
       "3   4000     65\n",
       "4   5000     80"
      ]
     },
     "execution_count": 6,
     "metadata": {},
     "output_type": "execute_result"
    }
   ],
   "source": [
    "df = pd.DataFrame({\n",
    "    'mesin': [1000, 2000, 3000, 4000, 5000], \n",
    "    'harga': [10, 25, 30, 65, 80]\n",
    "})\n",
    "df"
   ]
  },
  {
   "cell_type": "code",
   "execution_count": 7,
   "metadata": {},
   "outputs": [
    {
     "data": {
      "image/png": "[encoded data removed]",
      "text/plain": [
       "<Figure size 432x288 with 1 Axes>"
      ]
     },
     "metadata": {
      "needs_background": "light"
     },
     "output_type": "display_data"
    }
   ],
   "source": [
    "plt.plot(df['mesin'], df['harga'], 'r-o')\n",
    "plt.show()"
   ]
  },
  {
   "cell_type": "code",
   "execution_count": 8,
   "metadata": {},
   "outputs": [
    {
     "data": {
      "text/html": [
       "<div>\n",
       "<style scoped>\n",
       "    .dataframe tbody tr th:only-of-type {\n",
       "        vertical-align: middle;\n",
       "    }\n",
       "\n",
       "    .dataframe tbody tr th {\n",
       "        vertical-align: top;\n",
       "    }\n",
       "\n",
       "    .dataframe thead th {\n",
       "        text-align: right;\n",
       "    }\n",
       "</style>\n",
       "<table border=\"1\" class=\"dataframe\">\n",
       "  <thead>\n",
       "    <tr style=\"text-align: right;\">\n",
       "      <th></th>\n",
       "      <th>mesin</th>\n",
       "      <th>harga</th>\n",
       "    </tr>\n",
       "  </thead>\n",
       "  <tbody>\n",
       "    <tr>\n",
       "      <th>mesin</th>\n",
       "      <td>1.000000</td>\n",
       "      <td>0.971909</td>\n",
       "    </tr>\n",
       "    <tr>\n",
       "      <th>harga</th>\n",
       "      <td>0.971909</td>\n",
       "      <td>1.000000</td>\n",
       "    </tr>\n",
       "  </tbody>\n",
       "</table>\n",
       "</div>"
      ],
      "text/plain": [
       "          mesin     harga\n",
       "mesin  1.000000  0.971909\n",
       "harga  0.971909  1.000000"
      ]
     },
     "execution_count": 8,
     "metadata": {},
     "output_type": "execute_result"
    }
   ],
   "source": [
    "df.corr()"
   ]
  },
  {
   "cell_type": "code",
   "execution_count": 9,
   "metadata": {},
   "outputs": [],
   "source": [
    "from sklearn.linear_model import LinearRegression"
   ]
  },
  {
   "cell_type": "code",
   "execution_count": 10,
   "metadata": {},
   "outputs": [],
   "source": [
    "model = LinearRegression()"
   ]
  },
  {
   "cell_type": "code",
   "execution_count": 11,
   "metadata": {},
   "outputs": [
    {
     "data": {
      "text/plain": [
       "LinearRegression(copy_X=True, fit_intercept=True, n_jobs=None, normalize=False)"
      ]
     },
     "execution_count": 11,
     "metadata": {},
     "output_type": "execute_result"
    }
   ],
   "source": [
    "# .fit(x feature independent 2d, y target dependent 1d)\n",
    "model.fit(df[['mesin']], df['harga'])"
   ]
  },
  {
   "cell_type": "code",
   "execution_count": 12,
   "metadata": {},
   "outputs": [
    {
     "name": "stdout",
     "output_type": "stream",
     "text": [
      "0.018\n",
      "-11.999999999999993\n"
     ]
    }
   ],
   "source": [
    "print(model.coef_[0])\n",
    "# gradien = selisih y untuk |x1 - x2| = 1\n",
    "\n",
    "print(model.intercept_) \n",
    "# titik potong plot best fit line dg sb y ~~~ titik y di mana x = 0"
   ]
  },
  {
   "cell_type": "code",
   "execution_count": 13,
   "metadata": {},
   "outputs": [
    {
     "data": {
      "text/html": [
       "<div>\n",
       "<style scoped>\n",
       "    .dataframe tbody tr th:only-of-type {\n",
       "        vertical-align: middle;\n",
       "    }\n",
       "\n",
       "    .dataframe tbody tr th {\n",
       "        vertical-align: top;\n",
       "    }\n",
       "\n",
       "    .dataframe thead th {\n",
       "        text-align: right;\n",
       "    }\n",
       "</style>\n",
       "<table border=\"1\" class=\"dataframe\">\n",
       "  <thead>\n",
       "    <tr style=\"text-align: right;\">\n",
       "      <th></th>\n",
       "      <th>mesin</th>\n",
       "      <th>harga</th>\n",
       "      <th>y\"</th>\n",
       "    </tr>\n",
       "  </thead>\n",
       "  <tbody>\n",
       "    <tr>\n",
       "      <th>0</th>\n",
       "      <td>1000</td>\n",
       "      <td>10</td>\n",
       "      <td>6.0</td>\n",
       "    </tr>\n",
       "    <tr>\n",
       "      <th>1</th>\n",
       "      <td>2000</td>\n",
       "      <td>25</td>\n",
       "      <td>24.0</td>\n",
       "    </tr>\n",
       "    <tr>\n",
       "      <th>2</th>\n",
       "      <td>3000</td>\n",
       "      <td>30</td>\n",
       "      <td>42.0</td>\n",
       "    </tr>\n",
       "    <tr>\n",
       "      <th>3</th>\n",
       "      <td>4000</td>\n",
       "      <td>65</td>\n",
       "      <td>60.0</td>\n",
       "    </tr>\n",
       "    <tr>\n",
       "      <th>4</th>\n",
       "      <td>5000</td>\n",
       "      <td>80</td>\n",
       "      <td>78.0</td>\n",
       "    </tr>\n",
       "  </tbody>\n",
       "</table>\n",
       "</div>"
      ],
      "text/plain": [
       "   mesin  harga    y\"\n",
       "0   1000     10   6.0\n",
       "1   2000     25  24.0\n",
       "2   3000     30  42.0\n",
       "3   4000     65  60.0\n",
       "4   5000     80  78.0"
      ]
     },
     "execution_count": 13,
     "metadata": {},
     "output_type": "execute_result"
    }
   ],
   "source": [
    "df['y\"'] = model.predict(df[['mesin']])\n",
    "df"
   ]
  },
  {
   "cell_type": "code",
   "execution_count": 14,
   "metadata": {},
   "outputs": [
    {
     "name": "stdout",
     "output_type": "stream",
     "text": [
      "-11.999999999999993\n",
      "-11.999999999999993\n",
      "-11.981999999999992\n",
      "0.018000000000000682\n",
      "0.018\n",
      "0.018000000000000682\n"
     ]
    }
   ],
   "source": [
    "# mesin = 0cc maka harga = intercept\n",
    "print(model.predict([[0]])[0])\n",
    "print(model.intercept_)\n",
    "\n",
    "# mesin = 1cc maka harga = ?\n",
    "print(model.predict([[1]])[0])\n",
    "\n",
    "# selisih harga mesin 1cc & 0cc = slope/gradien/kemiringan best fit line\n",
    "# setiap naik 1cc, maka harga akan naik 0.018juta\n",
    "print(model.predict([[1]])[0] - model.intercept_)\n",
    "print(model.coef_[0])\n",
    "\n",
    "# selisih harga mesin 1000cc dg harga mesin 999cc\n",
    "print((model.predict([[1000]]) - model.predict([[999]]))[0])"
   ]
  },
  {
   "cell_type": "code",
   "execution_count": 11,
   "metadata": {},
   "outputs": [
    {
     "data": {
      "image/png": "[encoded data removed]",
      "text/plain": [
       "<Figure size 432x288 with 1 Axes>"
      ]
     },
     "metadata": {
      "needs_background": "light"
     },
     "output_type": "display_data"
    }
   ],
   "source": [
    "plt.plot(df['mesin'], df['harga'], 'r-o')\n",
    "plt.plot(df['mesin'], df['y\"'], 'g-')\n",
    "plt.show()"
   ]
  },
  {
   "cell_type": "code",
   "execution_count": 12,
   "metadata": {},
   "outputs": [
    {
     "data": {
      "text/html": [
       "<div>\n",
       "<style scoped>\n",
       "    .dataframe tbody tr th:only-of-type {\n",
       "        vertical-align: middle;\n",
       "    }\n",
       "\n",
       "    .dataframe tbody tr th {\n",
       "        vertical-align: top;\n",
       "    }\n",
       "\n",
       "    .dataframe thead th {\n",
       "        text-align: right;\n",
       "    }\n",
       "</style>\n",
       "<table border=\"1\" class=\"dataframe\">\n",
       "  <thead>\n",
       "    <tr style=\"text-align: right;\">\n",
       "      <th></th>\n",
       "      <th>mesin</th>\n",
       "      <th>harga</th>\n",
       "      <th>y\"</th>\n",
       "      <th>|y-y\"|</th>\n",
       "    </tr>\n",
       "  </thead>\n",
       "  <tbody>\n",
       "    <tr>\n",
       "      <th>0</th>\n",
       "      <td>1000</td>\n",
       "      <td>10</td>\n",
       "      <td>6.0</td>\n",
       "      <td>4.0</td>\n",
       "    </tr>\n",
       "    <tr>\n",
       "      <th>1</th>\n",
       "      <td>2000</td>\n",
       "      <td>25</td>\n",
       "      <td>24.0</td>\n",
       "      <td>1.0</td>\n",
       "    </tr>\n",
       "    <tr>\n",
       "      <th>2</th>\n",
       "      <td>3000</td>\n",
       "      <td>30</td>\n",
       "      <td>42.0</td>\n",
       "      <td>12.0</td>\n",
       "    </tr>\n",
       "    <tr>\n",
       "      <th>3</th>\n",
       "      <td>4000</td>\n",
       "      <td>65</td>\n",
       "      <td>60.0</td>\n",
       "      <td>5.0</td>\n",
       "    </tr>\n",
       "    <tr>\n",
       "      <th>4</th>\n",
       "      <td>5000</td>\n",
       "      <td>80</td>\n",
       "      <td>78.0</td>\n",
       "      <td>2.0</td>\n",
       "    </tr>\n",
       "  </tbody>\n",
       "</table>\n",
       "</div>"
      ],
      "text/plain": [
       "   mesin  harga    y\"  |y-y\"|\n",
       "0   1000     10   6.0     4.0\n",
       "1   2000     25  24.0     1.0\n",
       "2   3000     30  42.0    12.0\n",
       "3   4000     65  60.0     5.0\n",
       "4   5000     80  78.0     2.0"
      ]
     },
     "execution_count": 12,
     "metadata": {},
     "output_type": "execute_result"
    }
   ],
   "source": [
    "# hitung residual/error/ralat/galat/toleransi\n",
    "# |harga prediksi - harga aktual| = |y-y\"|\n",
    "df['|y-y\"|'] = np.abs(df['y\"'] - df['harga'])\n",
    "df"
   ]
  },
  {
   "cell_type": "markdown",
   "metadata": {},
   "source": [
    "<hr>\n",
    "\n",
    "### 1. Max Error\n",
    "\n",
    "- Residual/error/selisih y aktual & y prediksi tertinggi \n",
    "- Makin kecil max error, maka model makin bagus\n",
    "- $\\displaystyle \\textrm{max Error} = \\textrm{max} (|y - \\hat{y}|)$"
   ]
  },
  {
   "cell_type": "code",
   "execution_count": 13,
   "metadata": {},
   "outputs": [
    {
     "data": {
      "text/plain": [
       "12.0"
      ]
     },
     "execution_count": 13,
     "metadata": {},
     "output_type": "execute_result"
    }
   ],
   "source": [
    "maxErr = df['|y-y\"|'].max()\n",
    "maxErr"
   ]
  },
  {
   "cell_type": "markdown",
   "metadata": {},
   "source": [
    "<hr>\n",
    "\n",
    "### 2. Mean Absolute Error (MAE)\n",
    "\n",
    "- Rata-rata nilai residual/error\n",
    "- Makin kecil MAE, maka model makin bagus\n",
    "- $\\displaystyle \\textrm{MAE} = \\frac{1} {n} \\sum (|y - \\hat{y}|)$"
   ]
  },
  {
   "cell_type": "code",
   "execution_count": 14,
   "metadata": {},
   "outputs": [
    {
     "data": {
      "text/plain": [
       "4.8"
      ]
     },
     "execution_count": 14,
     "metadata": {},
     "output_type": "execute_result"
    }
   ],
   "source": [
    "n = df['mesin'].count()\n",
    "MAE = round(df['|y-y\"|'].sum()) / n\n",
    "MAE"
   ]
  },
  {
   "cell_type": "markdown",
   "metadata": {},
   "source": [
    "<hr>\n",
    "\n",
    "### Sum Squared Error (SSE)\n",
    "\n",
    "- __SSE__ = $\\displaystyle \\sum (y - \\hat{y}) ^ 2$"
   ]
  },
  {
   "cell_type": "code",
   "execution_count": 15,
   "metadata": {},
   "outputs": [],
   "source": [
    "df['|y-y\"|^2'] = df['|y-y\"|'] ** 2"
   ]
  },
  {
   "cell_type": "code",
   "execution_count": 16,
   "metadata": {},
   "outputs": [
    {
     "data": {
      "text/plain": [
       "190.0"
      ]
     },
     "execution_count": 16,
     "metadata": {},
     "output_type": "execute_result"
    }
   ],
   "source": [
    "sse = round(df['|y-y\"|^2'].sum())\n",
    "sse"
   ]
  },
  {
   "cell_type": "markdown",
   "metadata": {},
   "source": [
    "<hr>\n",
    "\n",
    "### 3. Mean Squared Error (MSE)\n",
    "\n",
    "- __MSE__: rata-rata SSE = SSE / jumlah data \n",
    "- $\\displaystyle \\textrm{MSE} = \\frac{1}{n} \\sum (y-\\hat{y})^2$"
   ]
  },
  {
   "cell_type": "code",
   "execution_count": 17,
   "metadata": {},
   "outputs": [
    {
     "data": {
      "text/plain": [
       "38.0"
      ]
     },
     "execution_count": 17,
     "metadata": {},
     "output_type": "execute_result"
    }
   ],
   "source": [
    "mse = sse / n\n",
    "mse"
   ]
  },
  {
   "cell_type": "markdown",
   "metadata": {},
   "source": [
    "<hr>\n",
    "\n",
    "### 4. Root of MSE (RMSE)\n",
    "\n",
    "- __RMSE__ = $\\displaystyle \\sqrt{\\textrm{MSE}} = \\sqrt{\\frac{1}{n} \\sum (y-\\hat{y})^2}$\n",
    "- Biasanya dijadikan sbg nilai ralat untuk setiap hasil prediksi"
   ]
  },
  {
   "cell_type": "code",
   "execution_count": 18,
   "metadata": {},
   "outputs": [
    {
     "data": {
      "text/plain": [
       "6.164414002968976"
      ]
     },
     "execution_count": 18,
     "metadata": {},
     "output_type": "execute_result"
    }
   ],
   "source": [
    "rmse = mse ** (0.5)\n",
    "rmse"
   ]
  },
  {
   "cell_type": "markdown",
   "metadata": {},
   "source": [
    "<hr>\n",
    "\n",
    "### 5. Median Absolute Error (MedAE)\n",
    "\n",
    "- __MedAE__ = $\\displaystyle \\textrm{median} (|y_1 - \\hat{y_1}|, ... |y_n - \\hat{y_n}|)$"
   ]
  },
  {
   "cell_type": "code",
   "execution_count": 19,
   "metadata": {},
   "outputs": [
    {
     "data": {
      "text/plain": [
       "4.0000000000000036"
      ]
     },
     "execution_count": 19,
     "metadata": {},
     "output_type": "execute_result"
    }
   ],
   "source": [
    "# medae = np.median(df['|y-y\"|'])\n",
    "medae = df['|y-y\"|'].median()\n",
    "medae"
   ]
  },
  {
   "cell_type": "markdown",
   "metadata": {},
   "source": [
    "<hr>\n",
    "\n",
    "### 6. Mean Squared Logarithmic Error (MSLE)\n",
    "\n",
    "- __MSLE__ = $\\displaystyle \\frac {1} {n} \\sum (\\ln{(1 + y_i)} - \\ln{(1 + \\hat{y_i})}) ^ 2$\n",
    "- Di mana $\\ln{x} =  ^e\\log{x}$, dengan $e$ adalah bilangan Euler"
   ]
  },
  {
   "cell_type": "code",
   "execution_count": 20,
   "metadata": {},
   "outputs": [],
   "source": [
    "df['ln(1+y)'] = np.log(1 + df['harga'])\n",
    "df['ln(1+y\")'] = np.log(1 + df['y\"'])\n",
    "df['sle'] = (df['ln(1+y)'] - df['ln(1+y\")']) ** 2"
   ]
  },
  {
   "cell_type": "code",
   "execution_count": 21,
   "metadata": {},
   "outputs": [
    {
     "data": {
      "text/plain": [
       "0.063945719502808"
      ]
     },
     "execution_count": 21,
     "metadata": {},
     "output_type": "execute_result"
    }
   ],
   "source": [
    "msle = df['sle'].sum() / n\n",
    "msle"
   ]
  },
  {
   "cell_type": "markdown",
   "metadata": {},
   "source": [
    "<hr>\n",
    "\n",
    "### 7. Root of MSLE (RMSLE)\n",
    "\n",
    "- __RMSLE__ = $\\displaystyle \\sqrt {\\frac {1} {n} \\sum (\\ln{(1 + y_i)} - \\ln{(1 + \\hat{y_i})}) ^ 2}$"
   ]
  },
  {
   "cell_type": "code",
   "execution_count": 22,
   "metadata": {},
   "outputs": [
    {
     "data": {
      "text/plain": [
       "0.2528749088043494"
      ]
     },
     "execution_count": 22,
     "metadata": {},
     "output_type": "execute_result"
    }
   ],
   "source": [
    "# rmsle = np.sqrt(msle)\n",
    "# rmsle = np.power(msle, 0.5)\n",
    "rmsle = msle ** 0.5\n",
    "rmsle"
   ]
  },
  {
   "cell_type": "markdown",
   "metadata": {},
   "source": [
    "<hr>\n",
    "\n",
    "### 8. Mean Absolute Percentage Error (MAPE)\n",
    "\n",
    "- Absolute Percentage Error = $\\displaystyle \\left | \\frac {y - \\hat{y}} {y} \\right |$\n",
    "\n",
    "- __MAPE__ = $\\displaystyle \\frac{1}{n} \\sum \\left | \\frac {y - \\hat{y}} {y} \\right |$"
   ]
  },
  {
   "cell_type": "code",
   "execution_count": 23,
   "metadata": {},
   "outputs": [],
   "source": [
    "df['ape'] = np.abs((df['harga'] - df['y\"']) / df['harga'])"
   ]
  },
  {
   "cell_type": "code",
   "execution_count": 24,
   "metadata": {},
   "outputs": [
    {
     "data": {
      "text/plain": [
       "0.18838461538461543"
      ]
     },
     "execution_count": 24,
     "metadata": {},
     "output_type": "execute_result"
    }
   ],
   "source": [
    "mape = df['ape'].sum() / n\n",
    "mape"
   ]
  },
  {
   "cell_type": "markdown",
   "metadata": {},
   "source": [
    "<hr>\n",
    "\n",
    "### 9. Mean Squared Percentage Error\n",
    "\n",
    "- __MSPE__ = $\\displaystyle \\frac{1}{n} \\sum \\left ( \\frac{y-\\hat{y}}{y} \\right ) ^ 2$"
   ]
  },
  {
   "cell_type": "code",
   "execution_count": 25,
   "metadata": {},
   "outputs": [],
   "source": [
    "df['ape^2'] = df['ape'] ** 2"
   ]
  },
  {
   "cell_type": "code",
   "execution_count": 26,
   "metadata": {},
   "outputs": [
    {
     "data": {
      "text/plain": [
       "0.06562843195266278"
      ]
     },
     "execution_count": 26,
     "metadata": {},
     "output_type": "execute_result"
    }
   ],
   "source": [
    "mspe = df['ape^2'].sum() / n\n",
    "mspe"
   ]
  },
  {
   "cell_type": "markdown",
   "metadata": {},
   "source": [
    "<hr>\n",
    "\n",
    "### 10. $R^2$ Score\n",
    "\n",
    "- $R^2$ score (coefficient of determination)\n",
    "\n",
    "- $R^2 \\textrm{score} = \\displaystyle 1 - \\frac {\\sum(y-\\hat{y})^2} {\\sum(y-\\bar{y})^2}$\n",
    "\n",
    "- Di mana $\\hat{y}$ = y prediksi dan $\\bar{y}$ = y rata-rata\n",
    "\n",
    "- Makin tinggi $R^2$ score, maka model makin bagus\n",
    "\n",
    "- $\\sqrt{R^2} = R $ correlation Pearson"
   ]
  },
  {
   "cell_type": "code",
   "execution_count": 27,
   "metadata": {},
   "outputs": [],
   "source": [
    "df['(y-yRata)^2'] = (df['harga'] - df['harga'].mean()) ** 2\n",
    "# |y-y\"|^2"
   ]
  },
  {
   "cell_type": "code",
   "execution_count": 28,
   "metadata": {},
   "outputs": [
    {
     "data": {
      "text/plain": [
       "0.9446064139941691"
      ]
     },
     "execution_count": 28,
     "metadata": {},
     "output_type": "execute_result"
    }
   ],
   "source": [
    "r2 = 1 - (df['|y-y\"|^2'].sum() / df['(y-yRata)^2'].sum())\n",
    "r2"
   ]
  },
  {
   "cell_type": "code",
   "execution_count": 29,
   "metadata": {},
   "outputs": [
    {
     "data": {
      "text/plain": [
       "0.97190864488087"
      ]
     },
     "execution_count": 29,
     "metadata": {},
     "output_type": "execute_result"
    }
   ],
   "source": [
    "r2 ** 0.5"
   ]
  },
  {
   "cell_type": "code",
   "execution_count": 30,
   "metadata": {},
   "outputs": [
    {
     "data": {
      "text/html": [
       "<div>\n",
       "<style scoped>\n",
       "    .dataframe tbody tr th:only-of-type {\n",
       "        vertical-align: middle;\n",
       "    }\n",
       "\n",
       "    .dataframe tbody tr th {\n",
       "        vertical-align: top;\n",
       "    }\n",
       "\n",
       "    .dataframe thead th {\n",
       "        text-align: right;\n",
       "    }\n",
       "</style>\n",
       "<table border=\"1\" class=\"dataframe\">\n",
       "  <thead>\n",
       "    <tr style=\"text-align: right;\">\n",
       "      <th></th>\n",
       "      <th>mesin</th>\n",
       "      <th>harga</th>\n",
       "    </tr>\n",
       "  </thead>\n",
       "  <tbody>\n",
       "    <tr>\n",
       "      <th>mesin</th>\n",
       "      <td>1.000000</td>\n",
       "      <td>0.971909</td>\n",
       "    </tr>\n",
       "    <tr>\n",
       "      <th>harga</th>\n",
       "      <td>0.971909</td>\n",
       "      <td>1.000000</td>\n",
       "    </tr>\n",
       "  </tbody>\n",
       "</table>\n",
       "</div>"
      ],
      "text/plain": [
       "          mesin     harga\n",
       "mesin  1.000000  0.971909\n",
       "harga  0.971909  1.000000"
      ]
     },
     "execution_count": 30,
     "metadata": {},
     "output_type": "execute_result"
    }
   ],
   "source": [
    "df[['mesin', 'harga']].corr()"
   ]
  },
  {
   "cell_type": "markdown",
   "metadata": {},
   "source": [
    "### 11. Evaluation Metrics using Sklearn"
   ]
  },
  {
   "cell_type": "code",
   "execution_count": 43,
   "metadata": {},
   "outputs": [],
   "source": [
    "# Evaluation Metrics using Sklearn\n",
    "from sklearn.metrics import (\n",
    "    max_error,\n",
    "    mean_absolute_error, \n",
    "    mean_squared_error, \n",
    "    mean_squared_log_error,\n",
    "    median_absolute_error,\n",
    "    r2_score\n",
    ")"
   ]
  },
  {
   "cell_type": "code",
   "execution_count": 41,
   "metadata": {},
   "outputs": [
    {
     "name": "stdout",
     "output_type": "stream",
     "text": [
      "Max Error: 12.0\n",
      "MAE 4.799999999999999\n",
      "MSE 37.999999999999986\n",
      "RMSE 6.164414002968975\n",
      "MSLE 0.063945719502808\n",
      "RMSLE 0.2528749088043494\n",
      "MedAE 4.0000000000000036\n",
      "R2 score 0.9446064139941691\n"
     ]
    }
   ],
   "source": [
    "print('Max Error: {}'.format(max_error(df['harga'], df['y\"'])))\n",
    "print('MAE {}'.format(mean_absolute_error(df['harga'], df['y\"'])))\n",
    "print('MSE {}'.format(mean_squared_error(df['harga'], df['y\"'])))\n",
    "print('RMSE {}'.format(np.sqrt(mean_squared_error(df['harga'], df['y\"']))))\n",
    "print('MSLE {}'.format(mean_squared_log_error(df['harga'], df['y\"'])))\n",
    "print('RMSLE {}'.format(np.sqrt(mean_squared_log_error(df['harga'], df['y\"']))))\n",
    "print('MedAE {}'.format(median_absolute_error(df['harga'], df['y\"'])))\n",
    "print('R2 score {}'.format(r2_score(df['harga'], df['y\"'])))"
   ]
  }
 ],
 "metadata": {
  "kernelspec": {
   "display_name": "Python 3.8.1 64-bit",
   "language": "python",
   "name": "python38164bit63509c53d8c74eeabe7ea0eb28ba448a"
  },
  "language_info": {
   "codemirror_mode": {
    "name": "ipython",
    "version": 3
   },
   "file_extension": ".py",
   "mimetype": "text/x-python",
   "name": "python",
   "nbconvert_exporter": "python",
   "pygments_lexer": "ipython3",
   "version": "3.8.1"
  }
 },
 "nbformat": 4,
 "nbformat_minor": 4
}
