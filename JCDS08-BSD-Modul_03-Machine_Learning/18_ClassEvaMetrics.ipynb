{
 "cells": [
  {
   "cell_type": "markdown",
   "metadata": {},
   "source": [
    "# Evaluation Metrics for Classification Model\n",
    "\n",
    "- Evaluation Metrics from Confusion Matrix"
   ]
  },
  {
   "cell_type": "code",
   "execution_count": 1,
   "metadata": {},
   "outputs": [],
   "source": [
    "import numpy as np\n",
    "import pandas as pd\n",
    "import matplotlib.pyplot as plt\n",
    "import seaborn as sb"
   ]
  },
  {
   "cell_type": "code",
   "execution_count": 2,
   "metadata": {},
   "outputs": [],
   "source": [
    "# y = y aktual & yp = y prediction\n",
    "y = [0,0,0,0,1,0,1,1,1,1]\n",
    "yp = [0,0,0,0,0,1,1,1,1,1]"
   ]
  },
  {
   "cell_type": "code",
   "execution_count": 3,
   "metadata": {},
   "outputs": [],
   "source": [
    "# sklearn confusion matrix\n",
    "from sklearn.metrics import confusion_matrix"
   ]
  },
  {
   "cell_type": "code",
   "execution_count": 4,
   "metadata": {},
   "outputs": [
    {
     "data": {
      "text/plain": [
       "array([[4, 1],\n",
       "       [1, 4]])"
      ]
     },
     "execution_count": 4,
     "metadata": {},
     "output_type": "execute_result"
    }
   ],
   "source": [
    "cm = confusion_matrix(y, yp, labels=[1, 0])\n",
    "# cm = confusion_matrix(y, yp)\n",
    "cm"
   ]
  },
  {
   "cell_type": "code",
   "execution_count": 9,
   "metadata": {},
   "outputs": [
    {
     "data": {
      "text/plain": [
       "<matplotlib.axes._subplots.AxesSubplot at 0xcda12b0>"
      ]
     },
     "execution_count": 9,
     "metadata": {},
     "output_type": "execute_result"
    },
    {
     "data": {
      "image/png": "[encoded data removed]",
      "text/plain": [
       "<Figure size 432x288 with 2 Axes>"
      ]
     },
     "metadata": {
      "needs_background": "light"
     },
     "output_type": "display_data"
    }
   ],
   "source": [
    "sb.heatmap(pd.DataFrame(cm), annot=True, annot_kws={'size':30})"
   ]
  },
  {
   "cell_type": "code",
   "execution_count": 10,
   "metadata": {},
   "outputs": [
    {
     "data": {
      "text/plain": [
       "(4, 1, 1, 4)"
      ]
     },
     "execution_count": 10,
     "metadata": {},
     "output_type": "execute_result"
    }
   ],
   "source": [
    "tp, fn, fp, tn = cm.reshape(-1,)\n",
    "tp, fn, fp, tn "
   ]
  },
  {
   "cell_type": "markdown",
   "metadata": {},
   "source": [
    "<hr>\n",
    "\n",
    "### Evaluation Metrics from Confusion Matrix\n",
    "\n",
    "1. __Accuracy__: Seberapa sering model memprediksi dengan benar?\n",
    "\n",
    "    Accuracy ini kurang baik diterapkan pada __imbalanced datasets__.\n",
    "    \n",
    "    ```\n",
    "    Accuracy = (TP + TN) / total data\n",
    "             = (4 + 4) / 10\n",
    "             = 80%\n",
    "    ```"
   ]
  },
  {
   "cell_type": "markdown",
   "metadata": {},
   "source": [
    "2. __Error Rate / Misclassification Rate__: Seberapa sering model memprediksi dengan salah?\n",
    "    \n",
    "    ```\n",
    "    Error Rate = 1 - Accuracy\n",
    "    \n",
    "    or \n",
    "    \n",
    "    Error Rate = (FP + FN) / total data\n",
    "               = (1 + 1) / 10\n",
    "               = 20%\n",
    "    ```\n",
    "\n",
    "> __*Accuracy + Error Rate = 100%*__"
   ]
  },
  {
   "cell_type": "markdown",
   "metadata": {},
   "source": [
    "<hr>\n",
    "\n",
    "3. __TP Rate__: Jika aktualnya = 1/yes/positif, maka seberapa sering model memprediksi 1/yes/positif? \n",
    "   \n",
    "   __TP Rate__ disebut juga __Sensitivity__ atau __Recall (positif)__\n",
    "   \n",
    "    ```\n",
    "    TP Rate  = TP / total aktual 1/yes/positif\n",
    "             = TP / (TP + FN)\n",
    "             = 4 / (4 + 1)\n",
    "             = 80%\n",
    "    ```"
   ]
  },
  {
   "cell_type": "markdown",
   "metadata": {},
   "source": [
    "4. __FN Rate__: Jika aktualnya = 1/yes/positif, maka seberapa sering model memprediksi 0/no/negatif? \n",
    "      \n",
    "    ```\n",
    "    FN Rate  = 1 - True Positive Rate\n",
    "    \n",
    "    or\n",
    "    \n",
    "    FN Rate  = FN / total aktual 1/yes/positif\n",
    "             = TP / (TP + FN)\n",
    "             = 1 / (4 + 1)\n",
    "             = 20%\n",
    "    ```\n",
    "    \n",
    "> __TP Rate + FN Rate = 100%__"
   ]
  },
  {
   "cell_type": "markdown",
   "metadata": {},
   "source": [
    "<hr>\n",
    "\n",
    "5. __TN Rate__: Jika aktualnya = 0/no/negatif, maka seberapa sering model memprediksi 0/no/negatif? \n",
    "   \n",
    "   __TN Rate__ disebut juga __Specificity__, __Selectivity__ atau __Recall (negatif)__\n",
    "   \n",
    "    ```\n",
    "    TN Rate  = TN / total aktual 0/no/negatif\n",
    "             = TN / (FP + TN)\n",
    "             = 4 / (1 + 4)\n",
    "             = 80%\n",
    "    ```"
   ]
  },
  {
   "cell_type": "markdown",
   "metadata": {},
   "source": [
    "6. __FP Rate__: Jika aktualnya = 0/no/negatif, maka seberapa sering model memprediksi 1/yes/positif? \n",
    "   \n",
    "    ```\n",
    "    FP Rate  = 1 - True Negative Rate\n",
    "    \n",
    "    or \n",
    "    \n",
    "    FP Rate  = FP / total aktual 0/no/negatif\n",
    "             = FP / (FP + TN)\n",
    "             = 1 / (1 + 4)\n",
    "             = 20%\n",
    "    ```\n",
    "    \n",
    "> __TN Rate + FP Rate = 100%__"
   ]
  },
  {
   "cell_type": "markdown",
   "metadata": {},
   "source": [
    "<hr>\n",
    "\n",
    "7. __Precision (positive)__: Jika prediksi = 1/yes/positif, seberapa sering prediksi tsb benar?\n",
    "\n",
    "    ```\n",
    "    Precision(+) = TP / total prediksi 1/yes/positif\n",
    "                 = TP / (TP + FP)\n",
    "                 = 4 / (4 + 1)\n",
    "                 = 80%\n",
    "    ```\n",
    "\n",
    "\n",
    "8. __Precision (negative)__: Jika prediksi = 0/no/negatif, seberapa sering prediksi tsb benar?\n",
    "\n",
    "    ```\n",
    "    Precision(-) = TN / total prediski 0/no/negatif\n",
    "                 = TN / (TN + FN)\n",
    "                 = 4 / (4 + 1)\n",
    "                 = 80%\n",
    "    ```"
   ]
  },
  {
   "cell_type": "markdown",
   "metadata": {},
   "source": [
    "<hr>\n",
    "\n",
    "#### Hanya untuk menggali insight dari data aktual\n",
    "\n",
    "9. __Prevalence__: Berapa kali nilai 1/yes/positif itu terjadi di data sample yg akan diprediksi model?\n",
    "    \n",
    "    ```\n",
    "    Prevalence = aktual 1/yes/positif  /  total data\n",
    "               = (TP + FN) / total data\n",
    "               = (4 + 1) / 10\n",
    "               = 50%\n",
    "    ```\n",
    "    \n",
    "    Prevalence ~ 50%, maka artinya data sample == __balanced dataset__\n",
    "\n",
    "10. __Null Error Rate__: Berapa kali nilai 0/no/negatif itu terjadi di data sample yg akan diprediksi model?\n",
    "\n",
    "    ```\n",
    "    Null Error Rate = 1 - Prevalence\n",
    "    \n",
    "    or \n",
    "    \n",
    "    Null Error Rate = aktual 0/no/negatif  /  total data\n",
    "                    = (TN + FP) / total data\n",
    "                    = (4 + 1) / 10\n",
    "                    = 50%\n",
    "    ```\n",
    "    \n",
    "> __Prevalence + Null Error Rate = 100%__"
   ]
  },
  {
   "cell_type": "markdown",
   "metadata": {},
   "source": [
    "<hr>\n",
    "\n",
    "11. __Balanced Accuracy (bACC)__\n",
    "\n",
    "- Untuk dataset __imbalanced__, nilai accuracy bukan metric yang baik untuk mengevaluasi model.\n",
    "- Misal: dataset yg akan diprediksi = 95% label A, 5% label B. Model saya ngaco => memprediksi semuanya adalah A, maka akurasi model saya = 95%. Tapi bgmn jika di hadapkan pada kasus lain?\n",
    "- Maka untuk dataset __imbalanced__, akurasinya gunakan __*Balanced Accuracy (bACC)*__\n",
    "\n",
    "```\n",
    "bACC = (Recall(+) TP Rate + Recall(-) TN Rate) / 2\n",
    "     = ( (TP / (TP + FN)) + (TN / (TN + FP) ) / 2\n",
    "     = ( (4 / (4+1)) + (4 / (4+1)) ) / 2\n",
    "     = ( 8/5 ) / 2\n",
    "     = 80%\n",
    "```"
   ]
  },
  {
   "cell_type": "markdown",
   "metadata": {},
   "source": [
    "<hr>\n",
    "\n",
    "12. __F1 Score__: harmonic mean precision(+) & recall(+)\n",
    " \n",
    "    $\\displaystyle \\textrm{F1 score} = 2 \\cdot \\frac {\\textrm{precision} \\cdot \\textrm{recall}} {\\textrm{precision} + \\textrm{recall}} = 2 \\cdot \\frac {\\frac {\\textrm{TP}} {\\textrm{TP} + \\textrm{FP}} \\cdot \\frac {\\textrm{TP}} {\\textrm{TP} + \\textrm{FN}}} {\\frac {\\textrm{TP}} {\\textrm{TP} + \\textrm{FP}} + \\frac {\\textrm{TP}} {\\textrm{TP} + \\textrm{FN}}} = 2 \\cdot \\frac {0.8 \\cdot 0.8} {0.8 + 0.8} = 0.8$"
   ]
  },
  {
   "cell_type": "code",
   "execution_count": 12,
   "metadata": {},
   "outputs": [
    {
     "data": {
      "text/plain": [
       "(4, 1, 1, 4)"
      ]
     },
     "execution_count": 12,
     "metadata": {},
     "output_type": "execute_result"
    }
   ],
   "source": [
    "tp, fn, fp, tn "
   ]
  },
  {
   "cell_type": "code",
   "execution_count": 24,
   "metadata": {},
   "outputs": [
    {
     "name": "stdout",
     "output_type": "stream",
     "text": [
      "Akurasi = 0.8\n",
      "Error rate = 0.2\n",
      "TP Rate (recall+) = 0.8\n",
      "FN Rate = 0.2\n",
      "TN Rate (recall-) = 0.8\n",
      "FP Rate = 0.2\n",
      "Precision+ = 0.8\n",
      "Precision- = 0.8\n",
      "Prevalence = 0.5\n",
      "Null Error = 0.5\n",
      "bACC = 0.8\n",
      "F1 score = 0.8000000000000002\n"
     ]
    }
   ],
   "source": [
    "print('Akurasi =', (tp + tn) / len(y))\n",
    "print('Error rate =', (fp + fn) / len(y))\n",
    "\n",
    "print('TP Rate (recall+) =', tp / (tp + fn))\n",
    "print('FN Rate =', fn / (tp + fn))\n",
    "\n",
    "print('TN Rate (recall-) =', tn / (tn + fp))\n",
    "print('FP Rate =', fp / (tn + fp))\n",
    "\n",
    "print('Precision+ =', tp / (tp + fp))\n",
    "print('Precision- =', tn / (tn + fn))\n",
    "\n",
    "print('Prevalence =', (tp + fn) / len(y))\n",
    "print('Null Error =', (tn + fp) / len(y))\n",
    "\n",
    "print('bACC =', ((tp / (tp + fn)) + (tn / (tn + fp)) ) / 2 )\n",
    "print('F1 score =', 2 * ((tp / (tp + fp)) * (tp / (tp + fn))) / ((tp / (tp + fp)) + (tp / (tp + fn))) )"
   ]
  },
  {
   "cell_type": "markdown",
   "metadata": {},
   "source": [
    "<hr>\n",
    "\n",
    "### Sklearn Evaluation Metrics for Classification Model"
   ]
  },
  {
   "cell_type": "markdown",
   "metadata": {},
   "source": [
    "1. __Accuracy Score__ & __Error / Misclassification Rate__"
   ]
  },
  {
   "cell_type": "code",
   "execution_count": 26,
   "metadata": {},
   "outputs": [],
   "source": [
    "from sklearn.metrics import accuracy_score"
   ]
  },
  {
   "cell_type": "code",
   "execution_count": 28,
   "metadata": {},
   "outputs": [
    {
     "name": "stdout",
     "output_type": "stream",
     "text": [
      "Akurasi =  0.8\n",
      "Error rate =  0.19999999999999996\n"
     ]
    }
   ],
   "source": [
    "print('Akurasi = ', accuracy_score(y, yp))\n",
    "print('Error rate = ', 1 - accuracy_score(y, yp))"
   ]
  },
  {
   "cell_type": "markdown",
   "metadata": {},
   "source": [
    "2. __Recall(+) / TP Rate & Recall(-) / TN Rate__"
   ]
  },
  {
   "cell_type": "code",
   "execution_count": 29,
   "metadata": {},
   "outputs": [],
   "source": [
    "from sklearn.metrics import recall_score"
   ]
  },
  {
   "cell_type": "code",
   "execution_count": 34,
   "metadata": {},
   "outputs": [
    {
     "name": "stdout",
     "output_type": "stream",
     "text": [
      "Recall(+) = 0.8\n",
      "Recall(-) = 0.8\n"
     ]
    }
   ],
   "source": [
    "print('Recall(+) =', recall_score(y, yp, pos_label=1))\n",
    "print('Recall(-) =', recall_score(y, yp, pos_label=0))"
   ]
  },
  {
   "cell_type": "markdown",
   "metadata": {},
   "source": [
    "3. __Precision(+) & Precision(-)__"
   ]
  },
  {
   "cell_type": "code",
   "execution_count": 32,
   "metadata": {},
   "outputs": [],
   "source": [
    "from sklearn.metrics import precision_score"
   ]
  },
  {
   "cell_type": "code",
   "execution_count": 33,
   "metadata": {},
   "outputs": [
    {
     "name": "stdout",
     "output_type": "stream",
     "text": [
      "Precision(+) = 0.8\n",
      "Precision(-) = 0.8\n"
     ]
    }
   ],
   "source": [
    "print('Precision(+) =', precision_score(y, yp, pos_label=1))\n",
    "print('Precision(-) =', precision_score(y, yp, pos_label=0))"
   ]
  },
  {
   "cell_type": "markdown",
   "metadata": {},
   "source": [
    "4. __F1 Score__\n"
   ]
  },
  {
   "cell_type": "code",
   "execution_count": 35,
   "metadata": {},
   "outputs": [],
   "source": [
    "from sklearn.metrics import f1_score"
   ]
  },
  {
   "cell_type": "code",
   "execution_count": 37,
   "metadata": {},
   "outputs": [
    {
     "name": "stdout",
     "output_type": "stream",
     "text": [
      "f1 score(+) = 0.8000000000000002\n",
      "f1 score(-) = 0.8000000000000002\n"
     ]
    }
   ],
   "source": [
    "print('f1 score(+) =', f1_score(y, yp, pos_label=1))\n",
    "print('f1 score(-) =', f1_score(y, yp, pos_label=0))"
   ]
  },
  {
   "cell_type": "markdown",
   "metadata": {},
   "source": [
    "5. __Balanced Accuracy (bACC)__"
   ]
  },
  {
   "cell_type": "code",
   "execution_count": 38,
   "metadata": {},
   "outputs": [],
   "source": [
    "from sklearn.metrics import balanced_accuracy_score"
   ]
  },
  {
   "cell_type": "code",
   "execution_count": 40,
   "metadata": {},
   "outputs": [
    {
     "name": "stdout",
     "output_type": "stream",
     "text": [
      "bACC = 0.8\n"
     ]
    }
   ],
   "source": [
    "print('bACC =', balanced_accuracy_score(y, yp))"
   ]
  },
  {
   "cell_type": "markdown",
   "metadata": {},
   "source": [
    "<hr>\n",
    "\n",
    "### Sklearn Classification Report\n",
    "\n",
    "1. __*precision_recall_fscore_support()*__"
   ]
  },
  {
   "cell_type": "code",
   "execution_count": 41,
   "metadata": {},
   "outputs": [],
   "source": [
    "from sklearn.metrics import precision_recall_fscore_support\n",
    "# SUPPORT = jumlah kejadian tiap class di y aktual"
   ]
  },
  {
   "cell_type": "code",
   "execution_count": 44,
   "metadata": {},
   "outputs": [
    {
     "data": {
      "text/plain": [
       "(array([0.8, 0.8]),\n",
       " array([0.8, 0.8]),\n",
       " array([0.8, 0.8]),\n",
       " array([5, 5], dtype=int32))"
      ]
     },
     "execution_count": 44,
     "metadata": {},
     "output_type": "execute_result"
    }
   ],
   "source": [
    "precision_recall_fscore_support(y, yp)"
   ]
  },
  {
   "cell_type": "code",
   "execution_count": 50,
   "metadata": {},
   "outputs": [
    {
     "name": "stdout",
     "output_type": "stream",
     "text": [
      "Precision[0, 1] = [0.8 0.8]\n",
      "Recall[0, 1] = [0.8 0.8]\n",
      "F1 Score[0, 1] = [0.8 0.8]\n",
      "Support[0, 1] = [5 5]\n"
     ]
    }
   ],
   "source": [
    "pre, rec, f1, sup = precision_recall_fscore_support(y, yp)\n",
    "print('Precision[0, 1] =', pre)\n",
    "print('Recall[0, 1] =', rec)\n",
    "print('F1 Score[0, 1] =', f1)\n",
    "print('Support[0, 1] =', sup)"
   ]
  },
  {
   "cell_type": "markdown",
   "metadata": {},
   "source": [
    "2. __*classification_report()*__"
   ]
  },
  {
   "cell_type": "code",
   "execution_count": 51,
   "metadata": {},
   "outputs": [],
   "source": [
    "from sklearn.metrics import classification_report"
   ]
  },
  {
   "cell_type": "code",
   "execution_count": 53,
   "metadata": {},
   "outputs": [
    {
     "name": "stdout",
     "output_type": "stream",
     "text": [
      "              precision    recall  f1-score   support\n",
      "\n",
      "           0       0.80      0.80      0.80         5\n",
      "           1       0.80      0.80      0.80         5\n",
      "\n",
      "    accuracy                           0.80        10\n",
      "   macro avg       0.80      0.80      0.80        10\n",
      "weighted avg       0.80      0.80      0.80        10\n",
      "\n"
     ]
    }
   ],
   "source": [
    "print(classification_report(y, yp))"
   ]
  }
 ],
 "metadata": {
  "kernelspec": {
   "display_name": "Python 3.8.1 64-bit",
   "language": "python",
   "name": "python38164bitb5bd62bf3fff44ff964437feb55a01f8"
  },
  "language_info": {
   "codemirror_mode": {
    "name": "ipython",
    "version": 3
   },
   "file_extension": ".py",
   "mimetype": "text/x-python",
   "name": "python",
   "nbconvert_exporter": "python",
   "pygments_lexer": "ipython3",
   "version": "3.8.1"
  }
 },
 "nbformat": 4,
 "nbformat_minor": 4
}
