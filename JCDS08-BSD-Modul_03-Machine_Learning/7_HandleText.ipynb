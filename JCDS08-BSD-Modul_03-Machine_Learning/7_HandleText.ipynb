{
 "cells": [
  {
   "cell_type": "code",
   "execution_count": 1,
   "metadata": {},
   "outputs": [],
   "source": [
    "import numpy as np\n",
    "import pandas as pd\n",
    "import matplotlib.pyplot as plt"
   ]
  },
  {
   "cell_type": "markdown",
   "metadata": {},
   "source": [
    "# How to handle categorical data?\n",
    "\n",
    "- String/text data values\n",
    "\n",
    "- Categorical data:\n",
    "        \n",
    "    - __Ordinal data__: Categorical data yang dapat diwakili oleh angka\n",
    "        \n",
    "        _contoh_: ranking, level, degree, jabatan\n",
    "        \n",
    "        _teknik:_ __Labelling__, misal ```S1 = 0``` dan ```S2 = 1```\n",
    "        \n",
    "    - __Nominal data__: Categorical data tidak dapat diwakili oleh angka\n",
    "        \n",
    "        _contoh:_ nama, gender, warna\n",
    "        \n",
    "        _teknik:_ __Dummy Variables__ & __One Hot Encoder__"
   ]
  },
  {
   "cell_type": "markdown",
   "metadata": {},
   "source": [
    "<hr>\n",
    "\n",
    "### 1a. Labelling without Sklearn\n",
    "\n",
    "- Categorical data yang dapat diwakili dengan angka: rangking, degree, level"
   ]
  },
  {
   "cell_type": "code",
   "execution_count": 41,
   "metadata": {},
   "outputs": [
    {
     "data": {
      "text/html": [
       "<div>\n",
       "<style scoped>\n",
       "    .dataframe tbody tr th:only-of-type {\n",
       "        vertical-align: middle;\n",
       "    }\n",
       "\n",
       "    .dataframe tbody tr th {\n",
       "        vertical-align: top;\n",
       "    }\n",
       "\n",
       "    .dataframe thead th {\n",
       "        text-align: right;\n",
       "    }\n",
       "</style>\n",
       "<table border=\"1\" class=\"dataframe\">\n",
       "  <thead>\n",
       "    <tr style=\"text-align: right;\">\n",
       "      <th></th>\n",
       "      <th>no</th>\n",
       "      <th>nama</th>\n",
       "      <th>jabatan</th>\n",
       "      <th>gaji</th>\n",
       "    </tr>\n",
       "  </thead>\n",
       "  <tbody>\n",
       "    <tr>\n",
       "      <th>0</th>\n",
       "      <td>1</td>\n",
       "      <td>Andi</td>\n",
       "      <td>Staff</td>\n",
       "      <td>8000000</td>\n",
       "    </tr>\n",
       "    <tr>\n",
       "      <th>1</th>\n",
       "      <td>2</td>\n",
       "      <td>Budi</td>\n",
       "      <td>Staff</td>\n",
       "      <td>8000000</td>\n",
       "    </tr>\n",
       "    <tr>\n",
       "      <th>2</th>\n",
       "      <td>3</td>\n",
       "      <td>Caca</td>\n",
       "      <td>Head</td>\n",
       "      <td>20000000</td>\n",
       "    </tr>\n",
       "    <tr>\n",
       "      <th>3</th>\n",
       "      <td>4</td>\n",
       "      <td>Deni</td>\n",
       "      <td>Head</td>\n",
       "      <td>20000000</td>\n",
       "    </tr>\n",
       "    <tr>\n",
       "      <th>4</th>\n",
       "      <td>5</td>\n",
       "      <td>Euis</td>\n",
       "      <td>Manager</td>\n",
       "      <td>55000000</td>\n",
       "    </tr>\n",
       "  </tbody>\n",
       "</table>\n",
       "</div>"
      ],
      "text/plain": [
       "   no  nama  jabatan      gaji\n",
       "0   1  Andi    Staff   8000000\n",
       "1   2  Budi    Staff   8000000\n",
       "2   3  Caca     Head  20000000\n",
       "3   4  Deni     Head  20000000\n",
       "4   5  Euis  Manager  55000000"
      ]
     },
     "execution_count": 41,
     "metadata": {},
     "output_type": "execute_result"
    }
   ],
   "source": [
    "df = pd.DataFrame([\n",
    "    {'no': 1, 'nama': 'Andi', 'jabatan': 'Staff', 'gaji': 8000000},\n",
    "    {'no': 2, 'nama': 'Budi', 'jabatan': 'Staff', 'gaji': 8000000},\n",
    "    {'no': 3, 'nama': 'Caca', 'jabatan': 'Head', 'gaji': 20000000},\n",
    "    {'no': 4, 'nama': 'Deni', 'jabatan': 'Head', 'gaji': 20000000},\n",
    "    {'no': 5, 'nama': 'Euis', 'jabatan': 'Manager', 'gaji': 55000000},\n",
    "])\n",
    "df"
   ]
  },
  {
   "cell_type": "code",
   "execution_count": 15,
   "metadata": {},
   "outputs": [
    {
     "data": {
      "text/plain": [
       "['Staff', 'Head', 'Manager']"
      ]
     },
     "execution_count": 15,
     "metadata": {},
     "output_type": "execute_result"
    }
   ],
   "source": [
    "dfA = df.copy()\n",
    "dfA['jabatan'].unique().tolist()"
   ]
  },
  {
   "cell_type": "code",
   "execution_count": 16,
   "metadata": {},
   "outputs": [
    {
     "data": {
      "text/html": [
       "<div>\n",
       "<style scoped>\n",
       "    .dataframe tbody tr th:only-of-type {\n",
       "        vertical-align: middle;\n",
       "    }\n",
       "\n",
       "    .dataframe tbody tr th {\n",
       "        vertical-align: top;\n",
       "    }\n",
       "\n",
       "    .dataframe thead th {\n",
       "        text-align: right;\n",
       "    }\n",
       "</style>\n",
       "<table border=\"1\" class=\"dataframe\">\n",
       "  <thead>\n",
       "    <tr style=\"text-align: right;\">\n",
       "      <th></th>\n",
       "      <th>no</th>\n",
       "      <th>nama</th>\n",
       "      <th>jabatan</th>\n",
       "      <th>gaji</th>\n",
       "      <th>labelJabatan</th>\n",
       "    </tr>\n",
       "  </thead>\n",
       "  <tbody>\n",
       "    <tr>\n",
       "      <th>0</th>\n",
       "      <td>1</td>\n",
       "      <td>Andi</td>\n",
       "      <td>Staff</td>\n",
       "      <td>8000000</td>\n",
       "      <td>1</td>\n",
       "    </tr>\n",
       "    <tr>\n",
       "      <th>1</th>\n",
       "      <td>2</td>\n",
       "      <td>Budi</td>\n",
       "      <td>Staff</td>\n",
       "      <td>8000000</td>\n",
       "      <td>1</td>\n",
       "    </tr>\n",
       "    <tr>\n",
       "      <th>2</th>\n",
       "      <td>3</td>\n",
       "      <td>Caca</td>\n",
       "      <td>Head</td>\n",
       "      <td>20000000</td>\n",
       "      <td>2</td>\n",
       "    </tr>\n",
       "    <tr>\n",
       "      <th>3</th>\n",
       "      <td>4</td>\n",
       "      <td>Deni</td>\n",
       "      <td>Head</td>\n",
       "      <td>20000000</td>\n",
       "      <td>2</td>\n",
       "    </tr>\n",
       "    <tr>\n",
       "      <th>4</th>\n",
       "      <td>5</td>\n",
       "      <td>Euis</td>\n",
       "      <td>Manager</td>\n",
       "      <td>55000000</td>\n",
       "      <td>3</td>\n",
       "    </tr>\n",
       "  </tbody>\n",
       "</table>\n",
       "</div>"
      ],
      "text/plain": [
       "   no  nama  jabatan      gaji  labelJabatan\n",
       "0   1  Andi    Staff   8000000             1\n",
       "1   2  Budi    Staff   8000000             1\n",
       "2   3  Caca     Head  20000000             2\n",
       "3   4  Deni     Head  20000000             2\n",
       "4   5  Euis  Manager  55000000             3"
      ]
     },
     "execution_count": 16,
     "metadata": {},
     "output_type": "execute_result"
    }
   ],
   "source": [
    "# labelling: staff 1, head 2, manager 3\n",
    "dfA['labelJabatan'] = dfA['jabatan'].apply(\n",
    "    lambda x: 1 if x == 'Staff' else (2 if x == 'Head' else 3)\n",
    ")\n",
    "dfA"
   ]
  },
  {
   "cell_type": "markdown",
   "metadata": {},
   "source": [
    "<hr>\n",
    "\n",
    "### 1b. Labelling with Sklearn ```LabelEncoder()```\n",
    "\n",
    "- Categorical data yang dapat diwakili dengan angka: rangking, degree, level.\n",
    "- ```LabelEncoder()``` sebaiknya digunakan untuk labelling data target y, terutama pada kasus  klasifikasi.\n",
    "- ```LabelEncoder()``` melakukan labelling sesuai urutan alphabetis."
   ]
  },
  {
   "cell_type": "code",
   "execution_count": 21,
   "metadata": {},
   "outputs": [
    {
     "data": {
      "text/html": [
       "<div>\n",
       "<style scoped>\n",
       "    .dataframe tbody tr th:only-of-type {\n",
       "        vertical-align: middle;\n",
       "    }\n",
       "\n",
       "    .dataframe tbody tr th {\n",
       "        vertical-align: top;\n",
       "    }\n",
       "\n",
       "    .dataframe thead th {\n",
       "        text-align: right;\n",
       "    }\n",
       "</style>\n",
       "<table border=\"1\" class=\"dataframe\">\n",
       "  <thead>\n",
       "    <tr style=\"text-align: right;\">\n",
       "      <th></th>\n",
       "      <th>no</th>\n",
       "      <th>nama</th>\n",
       "      <th>jabatan</th>\n",
       "      <th>gaji</th>\n",
       "    </tr>\n",
       "  </thead>\n",
       "  <tbody>\n",
       "    <tr>\n",
       "      <th>0</th>\n",
       "      <td>1</td>\n",
       "      <td>Andi</td>\n",
       "      <td>Staff</td>\n",
       "      <td>8000000</td>\n",
       "    </tr>\n",
       "    <tr>\n",
       "      <th>1</th>\n",
       "      <td>2</td>\n",
       "      <td>Budi</td>\n",
       "      <td>Staff</td>\n",
       "      <td>8000000</td>\n",
       "    </tr>\n",
       "    <tr>\n",
       "      <th>2</th>\n",
       "      <td>3</td>\n",
       "      <td>Caca</td>\n",
       "      <td>Head</td>\n",
       "      <td>20000000</td>\n",
       "    </tr>\n",
       "    <tr>\n",
       "      <th>3</th>\n",
       "      <td>4</td>\n",
       "      <td>Deni</td>\n",
       "      <td>Head</td>\n",
       "      <td>20000000</td>\n",
       "    </tr>\n",
       "    <tr>\n",
       "      <th>4</th>\n",
       "      <td>5</td>\n",
       "      <td>Euis</td>\n",
       "      <td>Manager</td>\n",
       "      <td>55000000</td>\n",
       "    </tr>\n",
       "  </tbody>\n",
       "</table>\n",
       "</div>"
      ],
      "text/plain": [
       "   no  nama  jabatan      gaji\n",
       "0   1  Andi    Staff   8000000\n",
       "1   2  Budi    Staff   8000000\n",
       "2   3  Caca     Head  20000000\n",
       "3   4  Deni     Head  20000000\n",
       "4   5  Euis  Manager  55000000"
      ]
     },
     "execution_count": 21,
     "metadata": {},
     "output_type": "execute_result"
    }
   ],
   "source": [
    "dfB = df.copy()\n",
    "dfB"
   ]
  },
  {
   "cell_type": "code",
   "execution_count": 20,
   "metadata": {},
   "outputs": [
    {
     "data": {
      "text/plain": [
       "['Staff', 'Head', 'Manager']"
      ]
     },
     "execution_count": 20,
     "metadata": {},
     "output_type": "execute_result"
    }
   ],
   "source": [
    "dfB['jabatan'].unique().tolist()"
   ]
  },
  {
   "cell_type": "code",
   "execution_count": 22,
   "metadata": {},
   "outputs": [],
   "source": [
    "from sklearn.preprocessing import LabelEncoder"
   ]
  },
  {
   "cell_type": "code",
   "execution_count": 23,
   "metadata": {},
   "outputs": [],
   "source": [
    "label = LabelEncoder()"
   ]
  },
  {
   "cell_type": "code",
   "execution_count": 24,
   "metadata": {},
   "outputs": [
    {
     "data": {
      "text/plain": [
       "LabelEncoder()"
      ]
     },
     "execution_count": 24,
     "metadata": {},
     "output_type": "execute_result"
    }
   ],
   "source": [
    "label.fit(df['jabatan']) # create transformer"
   ]
  },
  {
   "cell_type": "code",
   "execution_count": 31,
   "metadata": {},
   "outputs": [
    {
     "name": "stdout",
     "output_type": "stream",
     "text": [
      "[2 2 0 0 1]\n",
      "['Staff', 'Staff', 'Head', 'Head', 'Manager']\n",
      "['Head' 'Manager' 'Staff']\n"
     ]
    }
   ],
   "source": [
    "# cek hasil labelling:\n",
    "print(label.transform(df['jabatan']))\n",
    "print(df['jabatan'].values.tolist())\n",
    "\n",
    "# cek urutan label:\n",
    "print(label.classes_)"
   ]
  },
  {
   "cell_type": "code",
   "execution_count": 32,
   "metadata": {},
   "outputs": [
    {
     "name": "stdout",
     "output_type": "stream",
     "text": [
      "['Head' 'Manager' 'Staff']\n",
      "['Staff' 'Manager' 'Staff' 'Head']\n"
     ]
    }
   ],
   "source": [
    "# inverse transform:\n",
    "print(label.inverse_transform([0, 1, 2]))\n",
    "print(label.inverse_transform([2, 1, 2, 0]))"
   ]
  },
  {
   "cell_type": "code",
   "execution_count": 33,
   "metadata": {},
   "outputs": [
    {
     "data": {
      "text/plain": [
       "array([2, 2, 0, 0, 1])"
      ]
     },
     "execution_count": 33,
     "metadata": {},
     "output_type": "execute_result"
    }
   ],
   "source": [
    "# create label + transformer\n",
    "label.fit_transform(df['jabatan'])"
   ]
  },
  {
   "cell_type": "code",
   "execution_count": 35,
   "metadata": {},
   "outputs": [
    {
     "data": {
      "text/html": [
       "<div>\n",
       "<style scoped>\n",
       "    .dataframe tbody tr th:only-of-type {\n",
       "        vertical-align: middle;\n",
       "    }\n",
       "\n",
       "    .dataframe tbody tr th {\n",
       "        vertical-align: top;\n",
       "    }\n",
       "\n",
       "    .dataframe thead th {\n",
       "        text-align: right;\n",
       "    }\n",
       "</style>\n",
       "<table border=\"1\" class=\"dataframe\">\n",
       "  <thead>\n",
       "    <tr style=\"text-align: right;\">\n",
       "      <th></th>\n",
       "      <th>tinggi</th>\n",
       "      <th>berat</th>\n",
       "      <th>spesies</th>\n",
       "    </tr>\n",
       "  </thead>\n",
       "  <tbody>\n",
       "    <tr>\n",
       "      <th>0</th>\n",
       "      <td>500</td>\n",
       "      <td>175</td>\n",
       "      <td>Jerapah</td>\n",
       "    </tr>\n",
       "    <tr>\n",
       "      <th>1</th>\n",
       "      <td>520</td>\n",
       "      <td>200</td>\n",
       "      <td>Jerapah</td>\n",
       "    </tr>\n",
       "    <tr>\n",
       "      <th>2</th>\n",
       "      <td>460</td>\n",
       "      <td>180</td>\n",
       "      <td>Jerapah</td>\n",
       "    </tr>\n",
       "    <tr>\n",
       "      <th>3</th>\n",
       "      <td>25</td>\n",
       "      <td>4</td>\n",
       "      <td>Kucing</td>\n",
       "    </tr>\n",
       "    <tr>\n",
       "      <th>4</th>\n",
       "      <td>20</td>\n",
       "      <td>3</td>\n",
       "      <td>Kucing</td>\n",
       "    </tr>\n",
       "    <tr>\n",
       "      <th>5</th>\n",
       "      <td>21</td>\n",
       "      <td>5</td>\n",
       "      <td>Kucing</td>\n",
       "    </tr>\n",
       "  </tbody>\n",
       "</table>\n",
       "</div>"
      ],
      "text/plain": [
       "   tinggi  berat  spesies\n",
       "0     500    175  Jerapah\n",
       "1     520    200  Jerapah\n",
       "2     460    180  Jerapah\n",
       "3      25      4   Kucing\n",
       "4      20      3   Kucing\n",
       "5      21      5   Kucing"
      ]
     },
     "execution_count": 35,
     "metadata": {},
     "output_type": "execute_result"
    }
   ],
   "source": [
    "# contoh kasus yg cocok untuk LabelEncoder: klasifikasi/clustering labelling pada y\n",
    "dfSp = pd.DataFrame([\n",
    "    {'tinggi': 500, 'berat': 175, 'spesies': 'Jerapah'},\n",
    "    {'tinggi': 520, 'berat': 200, 'spesies': 'Jerapah'},\n",
    "    {'tinggi': 460, 'berat': 180, 'spesies': 'Jerapah'},\n",
    "    {'tinggi': 25, 'berat': 4, 'spesies': 'Kucing'},\n",
    "    {'tinggi': 20, 'berat': 3, 'spesies': 'Kucing'},\n",
    "    {'tinggi': 21, 'berat': 5, 'spesies': 'Kucing'}\n",
    "])\n",
    "dfSp"
   ]
  },
  {
   "cell_type": "code",
   "execution_count": 38,
   "metadata": {},
   "outputs": [
    {
     "name": "stdout",
     "output_type": "stream",
     "text": [
      "[0 0 0 1 1 1]\n",
      "['Jerapah' 'Jerapah' 'Jerapah' 'Kucing' 'Kucing' 'Kucing']\n"
     ]
    }
   ],
   "source": [
    "labelSp = LabelEncoder()\n",
    "print(labelSp.fit_transform(dfSp['spesies']))\n",
    "print(labelSp.inverse_transform(labelSp.fit_transform(dfSp['spesies'])))"
   ]
  },
  {
   "cell_type": "markdown",
   "metadata": {},
   "source": [
    "<hr>\n",
    "\n",
    "### 1c. Labelling with Sklearn ```OrdinalEncoder()```\n",
    "\n",
    "- Categorical data yang dapat diwakili dengan angka: rangking, degree, level.\n",
    "- ```OrdinalEncoder()``` parameternya value 2D, urutan kategori dapat diatur."
   ]
  },
  {
   "cell_type": "code",
   "execution_count": 42,
   "metadata": {},
   "outputs": [
    {
     "data": {
      "text/html": [
       "<div>\n",
       "<style scoped>\n",
       "    .dataframe tbody tr th:only-of-type {\n",
       "        vertical-align: middle;\n",
       "    }\n",
       "\n",
       "    .dataframe tbody tr th {\n",
       "        vertical-align: top;\n",
       "    }\n",
       "\n",
       "    .dataframe thead th {\n",
       "        text-align: right;\n",
       "    }\n",
       "</style>\n",
       "<table border=\"1\" class=\"dataframe\">\n",
       "  <thead>\n",
       "    <tr style=\"text-align: right;\">\n",
       "      <th></th>\n",
       "      <th>no</th>\n",
       "      <th>nama</th>\n",
       "      <th>jabatan</th>\n",
       "      <th>gaji</th>\n",
       "    </tr>\n",
       "  </thead>\n",
       "  <tbody>\n",
       "    <tr>\n",
       "      <th>0</th>\n",
       "      <td>1</td>\n",
       "      <td>Andi</td>\n",
       "      <td>Staff</td>\n",
       "      <td>8000000</td>\n",
       "    </tr>\n",
       "    <tr>\n",
       "      <th>1</th>\n",
       "      <td>2</td>\n",
       "      <td>Budi</td>\n",
       "      <td>Staff</td>\n",
       "      <td>8000000</td>\n",
       "    </tr>\n",
       "    <tr>\n",
       "      <th>2</th>\n",
       "      <td>3</td>\n",
       "      <td>Caca</td>\n",
       "      <td>Head</td>\n",
       "      <td>20000000</td>\n",
       "    </tr>\n",
       "    <tr>\n",
       "      <th>3</th>\n",
       "      <td>4</td>\n",
       "      <td>Deni</td>\n",
       "      <td>Head</td>\n",
       "      <td>20000000</td>\n",
       "    </tr>\n",
       "    <tr>\n",
       "      <th>4</th>\n",
       "      <td>5</td>\n",
       "      <td>Euis</td>\n",
       "      <td>Manager</td>\n",
       "      <td>55000000</td>\n",
       "    </tr>\n",
       "  </tbody>\n",
       "</table>\n",
       "</div>"
      ],
      "text/plain": [
       "   no  nama  jabatan      gaji\n",
       "0   1  Andi    Staff   8000000\n",
       "1   2  Budi    Staff   8000000\n",
       "2   3  Caca     Head  20000000\n",
       "3   4  Deni     Head  20000000\n",
       "4   5  Euis  Manager  55000000"
      ]
     },
     "execution_count": 42,
     "metadata": {},
     "output_type": "execute_result"
    }
   ],
   "source": [
    "dfC = df.copy()\n",
    "dfC"
   ]
  },
  {
   "cell_type": "code",
   "execution_count": 43,
   "metadata": {},
   "outputs": [],
   "source": [
    "from sklearn.preprocessing import OrdinalEncoder"
   ]
  },
  {
   "cell_type": "code",
   "execution_count": 70,
   "metadata": {},
   "outputs": [
    {
     "data": {
      "text/plain": [
       "OrdinalEncoder(categories=[['Staff', 'Head', 'Manager']],\n",
       "               dtype=<class 'numpy.float64'>)"
      ]
     },
     "execution_count": 70,
     "metadata": {},
     "output_type": "execute_result"
    }
   ],
   "source": [
    "# labelling dengan urutan kategori: 'Staff', 'Head', 'Manager'\n",
    "# defaultnya urutan kategori alfabetis\n",
    "\n",
    "labelOE = OrdinalEncoder(categories=[['Staff', 'Head', 'Manager']])\n",
    "labelOE.fit(dfC[['jabatan']])"
   ]
  },
  {
   "cell_type": "code",
   "execution_count": 71,
   "metadata": {},
   "outputs": [
    {
     "name": "stdout",
     "output_type": "stream",
     "text": [
      "[array(['Staff', 'Head', 'Manager'], dtype=object)]\n",
      "[[0.]\n",
      " [0.]\n",
      " [1.]\n",
      " [1.]\n",
      " [2.]]\n"
     ]
    }
   ],
   "source": [
    "print(labelOE.categories_)\n",
    "print(labelOE.transform(dfC[['jabatan']]))"
   ]
  },
  {
   "cell_type": "code",
   "execution_count": 72,
   "metadata": {},
   "outputs": [
    {
     "name": "stdout",
     "output_type": "stream",
     "text": [
      "[['Head']\n",
      " ['Manager']\n",
      " ['Manager']\n",
      " ['Head']]\n"
     ]
    }
   ],
   "source": [
    "print(labelOE.inverse_transform(np.array([1, 2, 2, 1]).reshape(-1, 1)))"
   ]
  },
  {
   "cell_type": "markdown",
   "metadata": {},
   "source": [
    "<hr>\n",
    "\n",
    "### 2a. Dummy Variables\n",
    "\n",
    "- Categorical data tidak dapat diwakili dengan angka: nama, gender, spesies, jenis, warna"
   ]
  },
  {
   "cell_type": "code",
   "execution_count": 74,
   "metadata": {},
   "outputs": [
    {
     "data": {
      "text/html": [
       "<div>\n",
       "<style scoped>\n",
       "    .dataframe tbody tr th:only-of-type {\n",
       "        vertical-align: middle;\n",
       "    }\n",
       "\n",
       "    .dataframe tbody tr th {\n",
       "        vertical-align: top;\n",
       "    }\n",
       "\n",
       "    .dataframe thead th {\n",
       "        text-align: right;\n",
       "    }\n",
       "</style>\n",
       "<table border=\"1\" class=\"dataframe\">\n",
       "  <thead>\n",
       "    <tr style=\"text-align: right;\">\n",
       "      <th></th>\n",
       "      <th>luas</th>\n",
       "      <th>kota</th>\n",
       "      <th>harga</th>\n",
       "    </tr>\n",
       "  </thead>\n",
       "  <tbody>\n",
       "    <tr>\n",
       "      <th>0</th>\n",
       "      <td>50</td>\n",
       "      <td>Jakarta</td>\n",
       "      <td>500</td>\n",
       "    </tr>\n",
       "    <tr>\n",
       "      <th>1</th>\n",
       "      <td>100</td>\n",
       "      <td>Jakarta</td>\n",
       "      <td>1000</td>\n",
       "    </tr>\n",
       "    <tr>\n",
       "      <th>2</th>\n",
       "      <td>150</td>\n",
       "      <td>Jakarta</td>\n",
       "      <td>1500</td>\n",
       "    </tr>\n",
       "    <tr>\n",
       "      <th>3</th>\n",
       "      <td>50</td>\n",
       "      <td>Yogyakarta</td>\n",
       "      <td>200</td>\n",
       "    </tr>\n",
       "    <tr>\n",
       "      <th>4</th>\n",
       "      <td>100</td>\n",
       "      <td>Yogyakarta</td>\n",
       "      <td>400</td>\n",
       "    </tr>\n",
       "    <tr>\n",
       "      <th>5</th>\n",
       "      <td>150</td>\n",
       "      <td>Yogyakarta</td>\n",
       "      <td>600</td>\n",
       "    </tr>\n",
       "  </tbody>\n",
       "</table>\n",
       "</div>"
      ],
      "text/plain": [
       "   luas        kota  harga\n",
       "0    50     Jakarta    500\n",
       "1   100     Jakarta   1000\n",
       "2   150     Jakarta   1500\n",
       "3    50  Yogyakarta    200\n",
       "4   100  Yogyakarta    400\n",
       "5   150  Yogyakarta    600"
      ]
     },
     "execution_count": 74,
     "metadata": {},
     "output_type": "execute_result"
    }
   ],
   "source": [
    "df = pd.DataFrame([\n",
    "    {'luas': 50, 'kota': 'Jakarta', 'harga': 500},\n",
    "    {'luas': 100, 'kota': 'Jakarta', 'harga': 1000},\n",
    "    {'luas': 150, 'kota': 'Jakarta', 'harga': 1500},\n",
    "    {'luas': 50, 'kota': 'Yogyakarta', 'harga': 200},\n",
    "    {'luas': 100, 'kota': 'Yogyakarta', 'harga': 400},\n",
    "    {'luas': 150, 'kota': 'Yogyakarta', 'harga': 600},\n",
    "])\n",
    "df"
   ]
  },
  {
   "cell_type": "code",
   "execution_count": 75,
   "metadata": {},
   "outputs": [
    {
     "data": {
      "text/html": [
       "<div>\n",
       "<style scoped>\n",
       "    .dataframe tbody tr th:only-of-type {\n",
       "        vertical-align: middle;\n",
       "    }\n",
       "\n",
       "    .dataframe tbody tr th {\n",
       "        vertical-align: top;\n",
       "    }\n",
       "\n",
       "    .dataframe thead th {\n",
       "        text-align: right;\n",
       "    }\n",
       "</style>\n",
       "<table border=\"1\" class=\"dataframe\">\n",
       "  <thead>\n",
       "    <tr style=\"text-align: right;\">\n",
       "      <th></th>\n",
       "      <th>luas</th>\n",
       "      <th>harga</th>\n",
       "    </tr>\n",
       "  </thead>\n",
       "  <tbody>\n",
       "    <tr>\n",
       "      <th>luas</th>\n",
       "      <td>1.000000</td>\n",
       "      <td>0.661438</td>\n",
       "    </tr>\n",
       "    <tr>\n",
       "      <th>harga</th>\n",
       "      <td>0.661438</td>\n",
       "      <td>1.000000</td>\n",
       "    </tr>\n",
       "  </tbody>\n",
       "</table>\n",
       "</div>"
      ],
      "text/plain": [
       "           luas     harga\n",
       "luas   1.000000  0.661438\n",
       "harga  0.661438  1.000000"
      ]
     },
     "execution_count": 75,
     "metadata": {},
     "output_type": "execute_result"
    }
   ],
   "source": [
    "df.corr()"
   ]
  },
  {
   "cell_type": "code",
   "execution_count": 76,
   "metadata": {},
   "outputs": [
    {
     "data": {
      "text/html": [
       "<div>\n",
       "<style scoped>\n",
       "    .dataframe tbody tr th:only-of-type {\n",
       "        vertical-align: middle;\n",
       "    }\n",
       "\n",
       "    .dataframe tbody tr th {\n",
       "        vertical-align: top;\n",
       "    }\n",
       "\n",
       "    .dataframe thead th {\n",
       "        text-align: right;\n",
       "    }\n",
       "</style>\n",
       "<table border=\"1\" class=\"dataframe\">\n",
       "  <thead>\n",
       "    <tr style=\"text-align: right;\">\n",
       "      <th></th>\n",
       "      <th>Jakarta</th>\n",
       "      <th>Yogyakarta</th>\n",
       "    </tr>\n",
       "  </thead>\n",
       "  <tbody>\n",
       "    <tr>\n",
       "      <th>0</th>\n",
       "      <td>1</td>\n",
       "      <td>0</td>\n",
       "    </tr>\n",
       "    <tr>\n",
       "      <th>1</th>\n",
       "      <td>1</td>\n",
       "      <td>0</td>\n",
       "    </tr>\n",
       "    <tr>\n",
       "      <th>2</th>\n",
       "      <td>1</td>\n",
       "      <td>0</td>\n",
       "    </tr>\n",
       "    <tr>\n",
       "      <th>3</th>\n",
       "      <td>0</td>\n",
       "      <td>1</td>\n",
       "    </tr>\n",
       "    <tr>\n",
       "      <th>4</th>\n",
       "      <td>0</td>\n",
       "      <td>1</td>\n",
       "    </tr>\n",
       "    <tr>\n",
       "      <th>5</th>\n",
       "      <td>0</td>\n",
       "      <td>1</td>\n",
       "    </tr>\n",
       "  </tbody>\n",
       "</table>\n",
       "</div>"
      ],
      "text/plain": [
       "   Jakarta  Yogyakarta\n",
       "0        1           0\n",
       "1        1           0\n",
       "2        1           0\n",
       "3        0           1\n",
       "4        0           1\n",
       "5        0           1"
      ]
     },
     "execution_count": 76,
     "metadata": {},
     "output_type": "execute_result"
    }
   ],
   "source": [
    "dfDummy = pd.get_dummies(df['kota'])\n",
    "dfDummy"
   ]
  },
  {
   "cell_type": "code",
   "execution_count": 78,
   "metadata": {},
   "outputs": [
    {
     "data": {
      "text/html": [
       "<div>\n",
       "<style scoped>\n",
       "    .dataframe tbody tr th:only-of-type {\n",
       "        vertical-align: middle;\n",
       "    }\n",
       "\n",
       "    .dataframe tbody tr th {\n",
       "        vertical-align: top;\n",
       "    }\n",
       "\n",
       "    .dataframe thead th {\n",
       "        text-align: right;\n",
       "    }\n",
       "</style>\n",
       "<table border=\"1\" class=\"dataframe\">\n",
       "  <thead>\n",
       "    <tr style=\"text-align: right;\">\n",
       "      <th></th>\n",
       "      <th>luas</th>\n",
       "      <th>kota</th>\n",
       "      <th>harga</th>\n",
       "      <th>Jakarta</th>\n",
       "      <th>Yogyakarta</th>\n",
       "    </tr>\n",
       "  </thead>\n",
       "  <tbody>\n",
       "    <tr>\n",
       "      <th>0</th>\n",
       "      <td>50</td>\n",
       "      <td>Jakarta</td>\n",
       "      <td>500</td>\n",
       "      <td>1</td>\n",
       "      <td>0</td>\n",
       "    </tr>\n",
       "    <tr>\n",
       "      <th>1</th>\n",
       "      <td>100</td>\n",
       "      <td>Jakarta</td>\n",
       "      <td>1000</td>\n",
       "      <td>1</td>\n",
       "      <td>0</td>\n",
       "    </tr>\n",
       "    <tr>\n",
       "      <th>2</th>\n",
       "      <td>150</td>\n",
       "      <td>Jakarta</td>\n",
       "      <td>1500</td>\n",
       "      <td>1</td>\n",
       "      <td>0</td>\n",
       "    </tr>\n",
       "    <tr>\n",
       "      <th>3</th>\n",
       "      <td>50</td>\n",
       "      <td>Yogyakarta</td>\n",
       "      <td>200</td>\n",
       "      <td>0</td>\n",
       "      <td>1</td>\n",
       "    </tr>\n",
       "    <tr>\n",
       "      <th>4</th>\n",
       "      <td>100</td>\n",
       "      <td>Yogyakarta</td>\n",
       "      <td>400</td>\n",
       "      <td>0</td>\n",
       "      <td>1</td>\n",
       "    </tr>\n",
       "    <tr>\n",
       "      <th>5</th>\n",
       "      <td>150</td>\n",
       "      <td>Yogyakarta</td>\n",
       "      <td>600</td>\n",
       "      <td>0</td>\n",
       "      <td>1</td>\n",
       "    </tr>\n",
       "  </tbody>\n",
       "</table>\n",
       "</div>"
      ],
      "text/plain": [
       "   luas        kota  harga  Jakarta  Yogyakarta\n",
       "0    50     Jakarta    500        1           0\n",
       "1   100     Jakarta   1000        1           0\n",
       "2   150     Jakarta   1500        1           0\n",
       "3    50  Yogyakarta    200        0           1\n",
       "4   100  Yogyakarta    400        0           1\n",
       "5   150  Yogyakarta    600        0           1"
      ]
     },
     "execution_count": 78,
     "metadata": {},
     "output_type": "execute_result"
    }
   ],
   "source": [
    "df = pd.concat([df, dfDummy], axis='columns')\n",
    "df"
   ]
  },
  {
   "cell_type": "code",
   "execution_count": 79,
   "metadata": {},
   "outputs": [],
   "source": [
    "from sklearn.linear_model import LinearRegression\n",
    "model = LinearRegression()"
   ]
  },
  {
   "cell_type": "code",
   "execution_count": 80,
   "metadata": {},
   "outputs": [
    {
     "data": {
      "text/plain": [
       "LinearRegression(copy_X=True, fit_intercept=True, n_jobs=None, normalize=False)"
      ]
     },
     "execution_count": 80,
     "metadata": {},
     "output_type": "execute_result"
    }
   ],
   "source": [
    "model.fit(df[['luas', 'Jakarta', 'Yogyakarta']], df['harga'])"
   ]
  },
  {
   "cell_type": "code",
   "execution_count": 81,
   "metadata": {},
   "outputs": [
    {
     "data": {
      "text/html": [
       "<div>\n",
       "<style scoped>\n",
       "    .dataframe tbody tr th:only-of-type {\n",
       "        vertical-align: middle;\n",
       "    }\n",
       "\n",
       "    .dataframe tbody tr th {\n",
       "        vertical-align: top;\n",
       "    }\n",
       "\n",
       "    .dataframe thead th {\n",
       "        text-align: right;\n",
       "    }\n",
       "</style>\n",
       "<table border=\"1\" class=\"dataframe\">\n",
       "  <thead>\n",
       "    <tr style=\"text-align: right;\">\n",
       "      <th></th>\n",
       "      <th>luas</th>\n",
       "      <th>kota</th>\n",
       "      <th>harga</th>\n",
       "      <th>Jakarta</th>\n",
       "      <th>Yogyakarta</th>\n",
       "      <th>harga\"</th>\n",
       "    </tr>\n",
       "  </thead>\n",
       "  <tbody>\n",
       "    <tr>\n",
       "      <th>0</th>\n",
       "      <td>50</td>\n",
       "      <td>Jakarta</td>\n",
       "      <td>500</td>\n",
       "      <td>1</td>\n",
       "      <td>0</td>\n",
       "      <td>650.0</td>\n",
       "    </tr>\n",
       "    <tr>\n",
       "      <th>1</th>\n",
       "      <td>100</td>\n",
       "      <td>Jakarta</td>\n",
       "      <td>1000</td>\n",
       "      <td>1</td>\n",
       "      <td>0</td>\n",
       "      <td>1000.0</td>\n",
       "    </tr>\n",
       "    <tr>\n",
       "      <th>2</th>\n",
       "      <td>150</td>\n",
       "      <td>Jakarta</td>\n",
       "      <td>1500</td>\n",
       "      <td>1</td>\n",
       "      <td>0</td>\n",
       "      <td>1350.0</td>\n",
       "    </tr>\n",
       "    <tr>\n",
       "      <th>3</th>\n",
       "      <td>50</td>\n",
       "      <td>Yogyakarta</td>\n",
       "      <td>200</td>\n",
       "      <td>0</td>\n",
       "      <td>1</td>\n",
       "      <td>50.0</td>\n",
       "    </tr>\n",
       "    <tr>\n",
       "      <th>4</th>\n",
       "      <td>100</td>\n",
       "      <td>Yogyakarta</td>\n",
       "      <td>400</td>\n",
       "      <td>0</td>\n",
       "      <td>1</td>\n",
       "      <td>400.0</td>\n",
       "    </tr>\n",
       "    <tr>\n",
       "      <th>5</th>\n",
       "      <td>150</td>\n",
       "      <td>Yogyakarta</td>\n",
       "      <td>600</td>\n",
       "      <td>0</td>\n",
       "      <td>1</td>\n",
       "      <td>750.0</td>\n",
       "    </tr>\n",
       "  </tbody>\n",
       "</table>\n",
       "</div>"
      ],
      "text/plain": [
       "   luas        kota  harga  Jakarta  Yogyakarta  harga\"\n",
       "0    50     Jakarta    500        1           0   650.0\n",
       "1   100     Jakarta   1000        1           0  1000.0\n",
       "2   150     Jakarta   1500        1           0  1350.0\n",
       "3    50  Yogyakarta    200        0           1    50.0\n",
       "4   100  Yogyakarta    400        0           1   400.0\n",
       "5   150  Yogyakarta    600        0           1   750.0"
      ]
     },
     "execution_count": 81,
     "metadata": {},
     "output_type": "execute_result"
    }
   ],
   "source": [
    "df['harga\"'] = model.predict(df[['luas', 'Jakarta', 'Yogyakarta']])\n",
    "df"
   ]
  },
  {
   "cell_type": "code",
   "execution_count": 84,
   "metadata": {},
   "outputs": [
    {
     "data": {
      "text/html": [
       "<div>\n",
       "<style scoped>\n",
       "    .dataframe tbody tr th:only-of-type {\n",
       "        vertical-align: middle;\n",
       "    }\n",
       "\n",
       "    .dataframe tbody tr th {\n",
       "        vertical-align: top;\n",
       "    }\n",
       "\n",
       "    .dataframe thead th {\n",
       "        text-align: right;\n",
       "    }\n",
       "</style>\n",
       "<table border=\"1\" class=\"dataframe\">\n",
       "  <thead>\n",
       "    <tr style=\"text-align: right;\">\n",
       "      <th></th>\n",
       "      <th>luas</th>\n",
       "      <th>kota</th>\n",
       "      <th>grade</th>\n",
       "      <th>harga</th>\n",
       "    </tr>\n",
       "  </thead>\n",
       "  <tbody>\n",
       "    <tr>\n",
       "      <th>0</th>\n",
       "      <td>50</td>\n",
       "      <td>Jakarta</td>\n",
       "      <td>A</td>\n",
       "      <td>500</td>\n",
       "    </tr>\n",
       "  </tbody>\n",
       "</table>\n",
       "</div>"
      ],
      "text/plain": [
       "   luas     kota grade  harga\n",
       "0    50  Jakarta     A    500"
      ]
     },
     "execution_count": 84,
     "metadata": {},
     "output_type": "execute_result"
    }
   ],
   "source": [
    "# Dummy pada beberapa feature\n",
    "df = pd.DataFrame([\n",
    "    {'luas': 50, 'kota': 'Jakarta', 'grade': 'A', 'harga': 500},\n",
    "    {'luas': 100, 'kota': 'Jakarta', 'grade': 'B', 'harga': 1000},\n",
    "    {'luas': 150, 'kota': 'Jakarta', 'grade': 'C', 'harga': 1500},\n",
    "    {'luas': 50, 'kota': 'Yogyakarta', 'grade': 'A', 'harga': 200},\n",
    "    {'luas': 100, 'kota': 'Yogyakarta', 'grade': 'B', 'harga': 400},\n",
    "    {'luas': 150, 'kota': 'Yogyakarta', 'grade': 'C', 'harga': 600},\n",
    "])\n",
    "df.head(1)"
   ]
  },
  {
   "cell_type": "code",
   "execution_count": 83,
   "metadata": {},
   "outputs": [
    {
     "data": {
      "text/html": [
       "<div>\n",
       "<style scoped>\n",
       "    .dataframe tbody tr th:only-of-type {\n",
       "        vertical-align: middle;\n",
       "    }\n",
       "\n",
       "    .dataframe tbody tr th {\n",
       "        vertical-align: top;\n",
       "    }\n",
       "\n",
       "    .dataframe thead th {\n",
       "        text-align: right;\n",
       "    }\n",
       "</style>\n",
       "<table border=\"1\" class=\"dataframe\">\n",
       "  <thead>\n",
       "    <tr style=\"text-align: right;\">\n",
       "      <th></th>\n",
       "      <th>kota_Jakarta</th>\n",
       "      <th>kota_Yogyakarta</th>\n",
       "      <th>grade_A</th>\n",
       "      <th>grade_B</th>\n",
       "      <th>grade_C</th>\n",
       "    </tr>\n",
       "  </thead>\n",
       "  <tbody>\n",
       "    <tr>\n",
       "      <th>0</th>\n",
       "      <td>1</td>\n",
       "      <td>0</td>\n",
       "      <td>1</td>\n",
       "      <td>0</td>\n",
       "      <td>0</td>\n",
       "    </tr>\n",
       "    <tr>\n",
       "      <th>1</th>\n",
       "      <td>1</td>\n",
       "      <td>0</td>\n",
       "      <td>0</td>\n",
       "      <td>1</td>\n",
       "      <td>0</td>\n",
       "    </tr>\n",
       "    <tr>\n",
       "      <th>2</th>\n",
       "      <td>1</td>\n",
       "      <td>0</td>\n",
       "      <td>0</td>\n",
       "      <td>0</td>\n",
       "      <td>1</td>\n",
       "    </tr>\n",
       "    <tr>\n",
       "      <th>3</th>\n",
       "      <td>0</td>\n",
       "      <td>1</td>\n",
       "      <td>1</td>\n",
       "      <td>0</td>\n",
       "      <td>0</td>\n",
       "    </tr>\n",
       "    <tr>\n",
       "      <th>4</th>\n",
       "      <td>0</td>\n",
       "      <td>1</td>\n",
       "      <td>0</td>\n",
       "      <td>1</td>\n",
       "      <td>0</td>\n",
       "    </tr>\n",
       "    <tr>\n",
       "      <th>5</th>\n",
       "      <td>0</td>\n",
       "      <td>1</td>\n",
       "      <td>0</td>\n",
       "      <td>0</td>\n",
       "      <td>1</td>\n",
       "    </tr>\n",
       "  </tbody>\n",
       "</table>\n",
       "</div>"
      ],
      "text/plain": [
       "   kota_Jakarta  kota_Yogyakarta  grade_A  grade_B  grade_C\n",
       "0             1                0        1        0        0\n",
       "1             1                0        0        1        0\n",
       "2             1                0        0        0        1\n",
       "3             0                1        1        0        0\n",
       "4             0                1        0        1        0\n",
       "5             0                1        0        0        1"
      ]
     },
     "execution_count": 83,
     "metadata": {},
     "output_type": "execute_result"
    }
   ],
   "source": [
    "dfDummy = pd.get_dummies(df[['kota', 'grade']])\n",
    "dfDummy"
   ]
  },
  {
   "cell_type": "markdown",
   "metadata": {},
   "source": [
    "<hr>\n",
    "\n",
    "### 2b. One Hot Encoding\n",
    "\n",
    "- Categorical data tidak dapat diwakili dengan angka: nama, gender, spesies, jenis, warna\n",
    "- Teknik One Hot Encoding: diawali dengan labelling"
   ]
  },
  {
   "cell_type": "code",
   "execution_count": 86,
   "metadata": {},
   "outputs": [
    {
     "data": {
      "text/html": [
       "<div>\n",
       "<style scoped>\n",
       "    .dataframe tbody tr th:only-of-type {\n",
       "        vertical-align: middle;\n",
       "    }\n",
       "\n",
       "    .dataframe tbody tr th {\n",
       "        vertical-align: top;\n",
       "    }\n",
       "\n",
       "    .dataframe thead th {\n",
       "        text-align: right;\n",
       "    }\n",
       "</style>\n",
       "<table border=\"1\" class=\"dataframe\">\n",
       "  <thead>\n",
       "    <tr style=\"text-align: right;\">\n",
       "      <th></th>\n",
       "      <th>luas</th>\n",
       "      <th>kota</th>\n",
       "      <th>grade</th>\n",
       "      <th>harga</th>\n",
       "    </tr>\n",
       "  </thead>\n",
       "  <tbody>\n",
       "    <tr>\n",
       "      <th>0</th>\n",
       "      <td>50</td>\n",
       "      <td>Jakarta</td>\n",
       "      <td>A</td>\n",
       "      <td>500</td>\n",
       "    </tr>\n",
       "  </tbody>\n",
       "</table>\n",
       "</div>"
      ],
      "text/plain": [
       "   luas     kota grade  harga\n",
       "0    50  Jakarta     A    500"
      ]
     },
     "execution_count": 86,
     "metadata": {},
     "output_type": "execute_result"
    }
   ],
   "source": [
    "# Dummy pada beberapa feature\n",
    "df = pd.DataFrame([\n",
    "    {'luas': 50, 'kota': 'Jakarta', 'grade': 'A', 'harga': 500},\n",
    "    {'luas': 100, 'kota': 'Jakarta', 'grade': 'B', 'harga': 1000},\n",
    "    {'luas': 150, 'kota': 'Jakarta', 'grade': 'C', 'harga': 1500},\n",
    "    {'luas': 50, 'kota': 'Yogyakarta', 'grade': 'A', 'harga': 200},\n",
    "    {'luas': 100, 'kota': 'Yogyakarta', 'grade': 'B', 'harga': 400},\n",
    "    {'luas': 150, 'kota': 'Yogyakarta', 'grade': 'C', 'harga': 600},\n",
    "])\n",
    "df.head(1)"
   ]
  },
  {
   "cell_type": "markdown",
   "metadata": {},
   "source": [
    "#### A. Labelling\n",
    "\n",
    "- Membuat data label dari feature berisi categorical data\n",
    "- Bisa cara manual labelling, label encoder atau ordinal encoder"
   ]
  },
  {
   "cell_type": "code",
   "execution_count": 87,
   "metadata": {},
   "outputs": [
    {
     "data": {
      "text/plain": [
       "OrdinalEncoder(categories='auto', dtype=<class 'numpy.float64'>)"
      ]
     },
     "execution_count": 87,
     "metadata": {},
     "output_type": "execute_result"
    }
   ],
   "source": [
    "# 1. Labelling: kota & grade\n",
    "\n",
    "labelOE = OrdinalEncoder()\n",
    "labelOE.fit(df[['kota', 'grade']])"
   ]
  },
  {
   "cell_type": "code",
   "execution_count": 90,
   "metadata": {},
   "outputs": [
    {
     "name": "stdout",
     "output_type": "stream",
     "text": [
      "[array(['Jakarta', 'Yogyakarta'], dtype=object), array(['A', 'B', 'C'], dtype=object)]\n",
      "[[0. 0.]\n",
      " [0. 1.]\n",
      " [0. 2.]\n",
      " [1. 0.]\n",
      " [1. 1.]\n",
      " [1. 2.]]\n"
     ]
    }
   ],
   "source": [
    "print(labelOE.categories_)\n",
    "print(labelOE.transform(df[['kota', 'grade']]))"
   ]
  },
  {
   "cell_type": "code",
   "execution_count": 93,
   "metadata": {},
   "outputs": [
    {
     "data": {
      "text/html": [
       "<div>\n",
       "<style scoped>\n",
       "    .dataframe tbody tr th:only-of-type {\n",
       "        vertical-align: middle;\n",
       "    }\n",
       "\n",
       "    .dataframe tbody tr th {\n",
       "        vertical-align: top;\n",
       "    }\n",
       "\n",
       "    .dataframe thead th {\n",
       "        text-align: right;\n",
       "    }\n",
       "</style>\n",
       "<table border=\"1\" class=\"dataframe\">\n",
       "  <thead>\n",
       "    <tr style=\"text-align: right;\">\n",
       "      <th></th>\n",
       "      <th>labelKota</th>\n",
       "      <th>labelGrade</th>\n",
       "    </tr>\n",
       "  </thead>\n",
       "  <tbody>\n",
       "    <tr>\n",
       "      <th>0</th>\n",
       "      <td>0.0</td>\n",
       "      <td>0.0</td>\n",
       "    </tr>\n",
       "  </tbody>\n",
       "</table>\n",
       "</div>"
      ],
      "text/plain": [
       "   labelKota  labelGrade\n",
       "0        0.0         0.0"
      ]
     },
     "execution_count": 93,
     "metadata": {},
     "output_type": "execute_result"
    }
   ],
   "source": [
    "dfLabel = pd.DataFrame(\n",
    "    labelOE.transform(df[['kota', 'grade']]),\n",
    "    columns = ['labelKota', 'labelGrade']\n",
    ")\n",
    "dfLabel.head(1)"
   ]
  },
  {
   "cell_type": "code",
   "execution_count": 95,
   "metadata": {},
   "outputs": [
    {
     "data": {
      "text/html": [
       "<div>\n",
       "<style scoped>\n",
       "    .dataframe tbody tr th:only-of-type {\n",
       "        vertical-align: middle;\n",
       "    }\n",
       "\n",
       "    .dataframe tbody tr th {\n",
       "        vertical-align: top;\n",
       "    }\n",
       "\n",
       "    .dataframe thead th {\n",
       "        text-align: right;\n",
       "    }\n",
       "</style>\n",
       "<table border=\"1\" class=\"dataframe\">\n",
       "  <thead>\n",
       "    <tr style=\"text-align: right;\">\n",
       "      <th></th>\n",
       "      <th>luas</th>\n",
       "      <th>kota</th>\n",
       "      <th>grade</th>\n",
       "      <th>harga</th>\n",
       "      <th>labelKota</th>\n",
       "      <th>labelGrade</th>\n",
       "    </tr>\n",
       "  </thead>\n",
       "  <tbody>\n",
       "    <tr>\n",
       "      <th>0</th>\n",
       "      <td>50</td>\n",
       "      <td>Jakarta</td>\n",
       "      <td>A</td>\n",
       "      <td>500</td>\n",
       "      <td>0.0</td>\n",
       "      <td>0.0</td>\n",
       "    </tr>\n",
       "    <tr>\n",
       "      <th>1</th>\n",
       "      <td>100</td>\n",
       "      <td>Jakarta</td>\n",
       "      <td>B</td>\n",
       "      <td>1000</td>\n",
       "      <td>0.0</td>\n",
       "      <td>1.0</td>\n",
       "    </tr>\n",
       "    <tr>\n",
       "      <th>2</th>\n",
       "      <td>150</td>\n",
       "      <td>Jakarta</td>\n",
       "      <td>C</td>\n",
       "      <td>1500</td>\n",
       "      <td>0.0</td>\n",
       "      <td>2.0</td>\n",
       "    </tr>\n",
       "    <tr>\n",
       "      <th>3</th>\n",
       "      <td>50</td>\n",
       "      <td>Yogyakarta</td>\n",
       "      <td>A</td>\n",
       "      <td>200</td>\n",
       "      <td>1.0</td>\n",
       "      <td>0.0</td>\n",
       "    </tr>\n",
       "    <tr>\n",
       "      <th>4</th>\n",
       "      <td>100</td>\n",
       "      <td>Yogyakarta</td>\n",
       "      <td>B</td>\n",
       "      <td>400</td>\n",
       "      <td>1.0</td>\n",
       "      <td>1.0</td>\n",
       "    </tr>\n",
       "    <tr>\n",
       "      <th>5</th>\n",
       "      <td>150</td>\n",
       "      <td>Yogyakarta</td>\n",
       "      <td>C</td>\n",
       "      <td>600</td>\n",
       "      <td>1.0</td>\n",
       "      <td>2.0</td>\n",
       "    </tr>\n",
       "  </tbody>\n",
       "</table>\n",
       "</div>"
      ],
      "text/plain": [
       "   luas        kota grade  harga  labelKota  labelGrade\n",
       "0    50     Jakarta     A    500        0.0         0.0\n",
       "1   100     Jakarta     B   1000        0.0         1.0\n",
       "2   150     Jakarta     C   1500        0.0         2.0\n",
       "3    50  Yogyakarta     A    200        1.0         0.0\n",
       "4   100  Yogyakarta     B    400        1.0         1.0\n",
       "5   150  Yogyakarta     C    600        1.0         2.0"
      ]
     },
     "execution_count": 95,
     "metadata": {},
     "output_type": "execute_result"
    }
   ],
   "source": [
    "df = pd.concat([df, dfLabel], axis=1)\n",
    "df"
   ]
  },
  {
   "cell_type": "markdown",
   "metadata": {},
   "source": [
    "#### B. One Hot Encoder\n",
    "\n",
    "- Mirip seperti dummy variables\n",
    "- Better pisahkan antara feature x & target y"
   ]
  },
  {
   "cell_type": "code",
   "execution_count": 119,
   "metadata": {},
   "outputs": [],
   "source": [
    "# pisahkan feature x & target y\n",
    "x = df[['luas', 'labelKota', 'labelGrade']]\n",
    "y = df['harga']"
   ]
  },
  {
   "cell_type": "code",
   "execution_count": 120,
   "metadata": {},
   "outputs": [],
   "source": [
    "from sklearn.preprocessing import OneHotEncoder\n",
    "from sklearn.compose import ColumnTransformer"
   ]
  },
  {
   "cell_type": "code",
   "execution_count": 121,
   "metadata": {},
   "outputs": [],
   "source": [
    "# tanpa remainder=passthrough\n",
    "coltrans = ColumnTransformer(\n",
    "    [('one_hot_encoder', OneHotEncoder(), [1])],   # OHE pada labelKota = index 1 di x\n",
    ")"
   ]
  },
  {
   "cell_type": "code",
   "execution_count": 122,
   "metadata": {},
   "outputs": [
    {
     "data": {
      "text/plain": [
       "array([[1., 0.],\n",
       "       [1., 0.],\n",
       "       [1., 0.],\n",
       "       [0., 1.],\n",
       "       [0., 1.],\n",
       "       [0., 1.]])"
      ]
     },
     "execution_count": 122,
     "metadata": {},
     "output_type": "execute_result"
    }
   ],
   "source": [
    "# hasil dari OHE feature labelKota\n",
    "xA = coltrans.fit_transform(x)\n",
    "xA"
   ]
  },
  {
   "cell_type": "code",
   "execution_count": 123,
   "metadata": {},
   "outputs": [],
   "source": [
    "# dengan remainder=passthrough\n",
    "coltrans = ColumnTransformer(\n",
    "    [('one_hot_encoder', OneHotEncoder(), [1])],   # OHE pada labelKota = index 1 di x\n",
    "    remainder='passthrough'\n",
    ")"
   ]
  },
  {
   "cell_type": "code",
   "execution_count": 124,
   "metadata": {},
   "outputs": [
    {
     "data": {
      "text/plain": [
       "array([[  1.,   0.,  50.,   0.],\n",
       "       [  1.,   0., 100.,   1.],\n",
       "       [  1.,   0., 150.,   2.],\n",
       "       [  0.,   1.,  50.,   0.],\n",
       "       [  0.,   1., 100.,   1.],\n",
       "       [  0.,   1., 150.,   2.]])"
      ]
     },
     "execution_count": 124,
     "metadata": {},
     "output_type": "execute_result"
    }
   ],
   "source": [
    "# hasil dari OHE feature labelKota + seluruh data\n",
    "xB = coltrans.fit_transform(x)\n",
    "xB\n",
    "# [ Jakarta  Yogyakarta  luas  grade ]"
   ]
  },
  {
   "cell_type": "code",
   "execution_count": 125,
   "metadata": {},
   "outputs": [
    {
     "data": {
      "text/plain": [
       "LinearRegression(copy_X=True, fit_intercept=True, n_jobs=None, normalize=False)"
      ]
     },
     "execution_count": 125,
     "metadata": {},
     "output_type": "execute_result"
    }
   ],
   "source": [
    "model = LinearRegression()\n",
    "model.fit(xB, y)"
   ]
  },
  {
   "cell_type": "code",
   "execution_count": 127,
   "metadata": {},
   "outputs": [
    {
     "data": {
      "text/html": [
       "<div>\n",
       "<style scoped>\n",
       "    .dataframe tbody tr th:only-of-type {\n",
       "        vertical-align: middle;\n",
       "    }\n",
       "\n",
       "    .dataframe tbody tr th {\n",
       "        vertical-align: top;\n",
       "    }\n",
       "\n",
       "    .dataframe thead th {\n",
       "        text-align: right;\n",
       "    }\n",
       "</style>\n",
       "<table border=\"1\" class=\"dataframe\">\n",
       "  <thead>\n",
       "    <tr style=\"text-align: right;\">\n",
       "      <th></th>\n",
       "      <th>luas</th>\n",
       "      <th>kota</th>\n",
       "      <th>grade</th>\n",
       "      <th>harga</th>\n",
       "      <th>labelKota</th>\n",
       "      <th>labelGrade</th>\n",
       "      <th>harga\"</th>\n",
       "    </tr>\n",
       "  </thead>\n",
       "  <tbody>\n",
       "    <tr>\n",
       "      <th>0</th>\n",
       "      <td>50</td>\n",
       "      <td>Jakarta</td>\n",
       "      <td>A</td>\n",
       "      <td>500</td>\n",
       "      <td>0.0</td>\n",
       "      <td>0.0</td>\n",
       "      <td>650.0</td>\n",
       "    </tr>\n",
       "    <tr>\n",
       "      <th>1</th>\n",
       "      <td>100</td>\n",
       "      <td>Jakarta</td>\n",
       "      <td>B</td>\n",
       "      <td>1000</td>\n",
       "      <td>0.0</td>\n",
       "      <td>1.0</td>\n",
       "      <td>1000.0</td>\n",
       "    </tr>\n",
       "    <tr>\n",
       "      <th>2</th>\n",
       "      <td>150</td>\n",
       "      <td>Jakarta</td>\n",
       "      <td>C</td>\n",
       "      <td>1500</td>\n",
       "      <td>0.0</td>\n",
       "      <td>2.0</td>\n",
       "      <td>1350.0</td>\n",
       "    </tr>\n",
       "    <tr>\n",
       "      <th>3</th>\n",
       "      <td>50</td>\n",
       "      <td>Yogyakarta</td>\n",
       "      <td>A</td>\n",
       "      <td>200</td>\n",
       "      <td>1.0</td>\n",
       "      <td>0.0</td>\n",
       "      <td>50.0</td>\n",
       "    </tr>\n",
       "    <tr>\n",
       "      <th>4</th>\n",
       "      <td>100</td>\n",
       "      <td>Yogyakarta</td>\n",
       "      <td>B</td>\n",
       "      <td>400</td>\n",
       "      <td>1.0</td>\n",
       "      <td>1.0</td>\n",
       "      <td>400.0</td>\n",
       "    </tr>\n",
       "    <tr>\n",
       "      <th>5</th>\n",
       "      <td>150</td>\n",
       "      <td>Yogyakarta</td>\n",
       "      <td>C</td>\n",
       "      <td>600</td>\n",
       "      <td>1.0</td>\n",
       "      <td>2.0</td>\n",
       "      <td>750.0</td>\n",
       "    </tr>\n",
       "  </tbody>\n",
       "</table>\n",
       "</div>"
      ],
      "text/plain": [
       "   luas        kota grade  harga  labelKota  labelGrade  harga\"\n",
       "0    50     Jakarta     A    500        0.0         0.0   650.0\n",
       "1   100     Jakarta     B   1000        0.0         1.0  1000.0\n",
       "2   150     Jakarta     C   1500        0.0         2.0  1350.0\n",
       "3    50  Yogyakarta     A    200        1.0         0.0    50.0\n",
       "4   100  Yogyakarta     B    400        1.0         1.0   400.0\n",
       "5   150  Yogyakarta     C    600        1.0         2.0   750.0"
      ]
     },
     "execution_count": 127,
     "metadata": {},
     "output_type": "execute_result"
    }
   ],
   "source": [
    "df['harga\"'] = model.predict(xB)\n",
    "df"
   ]
  }
 ],
 "metadata": {
  "kernelspec": {
   "display_name": "Python 3.8.1 64-bit",
   "language": "python",
   "name": "python38164bitb5bd62bf3fff44ff964437feb55a01f8"
  },
  "language_info": {
   "codemirror_mode": {
    "name": "ipython",
    "version": 3
   },
   "file_extension": ".py",
   "mimetype": "text/x-python",
   "name": "python",
   "nbconvert_exporter": "python",
   "pygments_lexer": "ipython3",
   "version": "3.8.1"
  }
 },
 "nbformat": 4,
 "nbformat_minor": 4
}
