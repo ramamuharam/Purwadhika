{
 "cells": [
  {
   "cell_type": "markdown",
   "metadata": {},
   "source": [
    "# Logistic Regression\n",
    "\n",
    "- Model Machine Learning for Classification cases, especially for binary classification\n",
    "\n",
    "- Formula $\\displaystyle \\hat{y} = \\frac {1} {1 + e ^ {-(mx + c)}}$ dengan $e$ bilangan Euler $2.718...$"
   ]
  },
  {
   "cell_type": "code",
   "execution_count": 48,
   "metadata": {},
   "outputs": [],
   "source": [
    "import numpy as np\n",
    "import pandas as pd\n",
    "import matplotlib.pyplot as plt"
   ]
  },
  {
   "cell_type": "code",
   "execution_count": 49,
   "metadata": {},
   "outputs": [
    {
     "data": {
      "text/html": [
       "<div>\n",
       "<style scoped>\n",
       "    .dataframe tbody tr th:only-of-type {\n",
       "        vertical-align: middle;\n",
       "    }\n",
       "\n",
       "    .dataframe tbody tr th {\n",
       "        vertical-align: top;\n",
       "    }\n",
       "\n",
       "    .dataframe thead th {\n",
       "        text-align: right;\n",
       "    }\n",
       "</style>\n",
       "<table border=\"1\" class=\"dataframe\">\n",
       "  <thead>\n",
       "    <tr style=\"text-align: right;\">\n",
       "      <th></th>\n",
       "      <th>usia</th>\n",
       "      <th>beli</th>\n",
       "    </tr>\n",
       "  </thead>\n",
       "  <tbody>\n",
       "    <tr>\n",
       "      <th>0</th>\n",
       "      <td>25</td>\n",
       "      <td>0</td>\n",
       "    </tr>\n",
       "    <tr>\n",
       "      <th>1</th>\n",
       "      <td>26</td>\n",
       "      <td>0</td>\n",
       "    </tr>\n",
       "    <tr>\n",
       "      <th>2</th>\n",
       "      <td>27</td>\n",
       "      <td>0</td>\n",
       "    </tr>\n",
       "    <tr>\n",
       "      <th>3</th>\n",
       "      <td>28</td>\n",
       "      <td>0</td>\n",
       "    </tr>\n",
       "    <tr>\n",
       "      <th>4</th>\n",
       "      <td>29</td>\n",
       "      <td>0</td>\n",
       "    </tr>\n",
       "  </tbody>\n",
       "</table>\n",
       "</div>"
      ],
      "text/plain": [
       "   usia  beli\n",
       "0    25     0\n",
       "1    26     0\n",
       "2    27     0\n",
       "3    28     0\n",
       "4    29     0"
      ]
     },
     "execution_count": 49,
     "metadata": {},
     "output_type": "execute_result"
    }
   ],
   "source": [
    "# data hasil promo kartu kredit thd pelanggan usia tertentu\n",
    "df = pd.DataFrame({\n",
    "    'usia': range(25, 55),\n",
    "#     'beli': df['usia'].apply(lambda x: 1 if x >= 40 else 0)\n",
    "})\n",
    "df['beli'] = df['usia'].apply(lambda x: 1 if x >= 40 else 0)\n",
    "df.head()"
   ]
  },
  {
   "cell_type": "code",
   "execution_count": 50,
   "metadata": {},
   "outputs": [
    {
     "data": {
      "image/png": "[encoded data removed]",
      "text/plain": [
       "<Figure size 432x288 with 1 Axes>"
      ]
     },
     "metadata": {
      "needs_background": "light"
     },
     "output_type": "display_data"
    }
   ],
   "source": [
    "plt.plot(df['usia'], df['beli'], 'ro')\n",
    "plt.show()"
   ]
  },
  {
   "cell_type": "code",
   "execution_count": 51,
   "metadata": {},
   "outputs": [],
   "source": [
    "from sklearn.linear_model import (\n",
    "    LinearRegression,\n",
    "    LogisticRegression\n",
    ")"
   ]
  },
  {
   "cell_type": "code",
   "execution_count": 52,
   "metadata": {},
   "outputs": [],
   "source": [
    "modelA = LinearRegression()\n",
    "modelB = LogisticRegression()"
   ]
  },
  {
   "cell_type": "code",
   "execution_count": 53,
   "metadata": {},
   "outputs": [
    {
     "data": {
      "text/plain": [
       "LogisticRegression(C=1.0, class_weight=None, dual=False, fit_intercept=True,\n",
       "                   intercept_scaling=1, l1_ratio=None, max_iter=100,\n",
       "                   multi_class='auto', n_jobs=None, penalty='l2',\n",
       "                   random_state=None, solver='lbfgs', tol=0.0001, verbose=0,\n",
       "                   warm_start=False)"
      ]
     },
     "execution_count": 53,
     "metadata": {},
     "output_type": "execute_result"
    }
   ],
   "source": [
    "# model.fit(x 2d, y 1d)\n",
    "modelA.fit(df[['usia']], df['beli'])\n",
    "modelB.fit(df[['usia']], df['beli'])"
   ]
  },
  {
   "cell_type": "code",
   "execution_count": 54,
   "metadata": {},
   "outputs": [
    {
     "name": "stdout",
     "output_type": "stream",
     "text": [
      "0.050055617352614004\n",
      "-1.4771968854282531\n"
     ]
    }
   ],
   "source": [
    "# gradient/slope/m & intercept/c modelA LinReg\n",
    "print(modelA.coef_[0])\n",
    "print(modelA.intercept_)"
   ]
  },
  {
   "cell_type": "code",
   "execution_count": 55,
   "metadata": {},
   "outputs": [
    {
     "name": "stdout",
     "output_type": "stream",
     "text": [
      "1.194503274280553\n",
      "-47.18287885881219\n"
     ]
    }
   ],
   "source": [
    "# gradient/slope/m & intercept/c modelB LogReg\n",
    "print(modelB.coef_[0, 0])\n",
    "print(modelB.intercept_[0])"
   ]
  },
  {
   "cell_type": "code",
   "execution_count": 56,
   "metadata": {},
   "outputs": [
    {
     "data": {
      "text/html": [
       "<div>\n",
       "<style scoped>\n",
       "    .dataframe tbody tr th:only-of-type {\n",
       "        vertical-align: middle;\n",
       "    }\n",
       "\n",
       "    .dataframe tbody tr th {\n",
       "        vertical-align: top;\n",
       "    }\n",
       "\n",
       "    .dataframe thead th {\n",
       "        text-align: right;\n",
       "    }\n",
       "</style>\n",
       "<table border=\"1\" class=\"dataframe\">\n",
       "  <thead>\n",
       "    <tr style=\"text-align: right;\">\n",
       "      <th></th>\n",
       "      <th>usia</th>\n",
       "      <th>beli</th>\n",
       "      <th>predA1</th>\n",
       "      <th>predA2</th>\n",
       "    </tr>\n",
       "  </thead>\n",
       "  <tbody>\n",
       "    <tr>\n",
       "      <th>0</th>\n",
       "      <td>25</td>\n",
       "      <td>0</td>\n",
       "      <td>-0.225806</td>\n",
       "      <td>-0.225806</td>\n",
       "    </tr>\n",
       "    <tr>\n",
       "      <th>1</th>\n",
       "      <td>26</td>\n",
       "      <td>0</td>\n",
       "      <td>-0.175751</td>\n",
       "      <td>-0.175751</td>\n",
       "    </tr>\n",
       "    <tr>\n",
       "      <th>2</th>\n",
       "      <td>27</td>\n",
       "      <td>0</td>\n",
       "      <td>-0.125695</td>\n",
       "      <td>-0.125695</td>\n",
       "    </tr>\n",
       "  </tbody>\n",
       "</table>\n",
       "</div>"
      ],
      "text/plain": [
       "   usia  beli    predA1    predA2\n",
       "0    25     0 -0.225806 -0.225806\n",
       "1    26     0 -0.175751 -0.175751\n",
       "2    27     0 -0.125695 -0.125695"
      ]
     },
     "execution_count": 56,
     "metadata": {},
     "output_type": "execute_result"
    }
   ],
   "source": [
    "# best fit line modelA y = mx + c\n",
    "df['predA1'] = modelA.coef_[0] * df['usia'] + modelA.intercept_\n",
    "df['predA2'] = modelA.predict(df[['usia']])\n",
    "df.head(3)\n",
    "# kalau < 0.5 = tidak beli 0 & > 0.5 = beli 1"
   ]
  },
  {
   "cell_type": "code",
   "execution_count": 57,
   "metadata": {},
   "outputs": [
    {
     "data": {
      "text/html": [
       "<div>\n",
       "<style scoped>\n",
       "    .dataframe tbody tr th:only-of-type {\n",
       "        vertical-align: middle;\n",
       "    }\n",
       "\n",
       "    .dataframe tbody tr th {\n",
       "        vertical-align: top;\n",
       "    }\n",
       "\n",
       "    .dataframe thead th {\n",
       "        text-align: right;\n",
       "    }\n",
       "</style>\n",
       "<table border=\"1\" class=\"dataframe\">\n",
       "  <thead>\n",
       "    <tr style=\"text-align: right;\">\n",
       "      <th></th>\n",
       "      <th>usia</th>\n",
       "      <th>beli</th>\n",
       "      <th>predA1</th>\n",
       "      <th>predA2</th>\n",
       "      <th>probaB1</th>\n",
       "      <th>predB1</th>\n",
       "    </tr>\n",
       "  </thead>\n",
       "  <tbody>\n",
       "    <tr>\n",
       "      <th>0</th>\n",
       "      <td>25</td>\n",
       "      <td>0</td>\n",
       "      <td>-0.225806</td>\n",
       "      <td>-0.225806</td>\n",
       "      <td>3.005319e-08</td>\n",
       "      <td>0</td>\n",
       "    </tr>\n",
       "    <tr>\n",
       "      <th>1</th>\n",
       "      <td>26</td>\n",
       "      <td>0</td>\n",
       "      <td>-0.175751</td>\n",
       "      <td>-0.175751</td>\n",
       "      <td>9.923314e-08</td>\n",
       "      <td>0</td>\n",
       "    </tr>\n",
       "    <tr>\n",
       "      <th>2</th>\n",
       "      <td>27</td>\n",
       "      <td>0</td>\n",
       "      <td>-0.125695</td>\n",
       "      <td>-0.125695</td>\n",
       "      <td>3.276595e-07</td>\n",
       "      <td>0</td>\n",
       "    </tr>\n",
       "    <tr>\n",
       "      <th>3</th>\n",
       "      <td>28</td>\n",
       "      <td>0</td>\n",
       "      <td>-0.075640</td>\n",
       "      <td>-0.075640</td>\n",
       "      <td>1.081904e-06</td>\n",
       "      <td>0</td>\n",
       "    </tr>\n",
       "    <tr>\n",
       "      <th>4</th>\n",
       "      <td>29</td>\n",
       "      <td>0</td>\n",
       "      <td>-0.025584</td>\n",
       "      <td>-0.025584</td>\n",
       "      <td>3.572348e-06</td>\n",
       "      <td>0</td>\n",
       "    </tr>\n",
       "  </tbody>\n",
       "</table>\n",
       "</div>"
      ],
      "text/plain": [
       "   usia  beli    predA1    predA2       probaB1  predB1\n",
       "0    25     0 -0.225806 -0.225806  3.005319e-08       0\n",
       "1    26     0 -0.175751 -0.175751  9.923314e-08       0\n",
       "2    27     0 -0.125695 -0.125695  3.276595e-07       0\n",
       "3    28     0 -0.075640 -0.075640  1.081904e-06       0\n",
       "4    29     0 -0.025584 -0.025584  3.572348e-06       0"
      ]
     },
     "execution_count": 57,
     "metadata": {},
     "output_type": "execute_result"
    }
   ],
   "source": [
    "# best fit line modelB (probability) y = 1 / 1 + e^-(mx + c)\n",
    "df['probaB1'] = 1 / (1 + np.exp(-1 * (modelB.coef_[0,0] * df['usia'] + modelB.intercept_[0])))\n",
    "df['predB1'] = modelB.predict(df[['usia']])\n",
    "df.head()\n",
    "\n",
    "# y = 1 / 1 + e^-(mx + c) = nilai probability\n",
    "# threshold = 0.5\n",
    "# hasil prediksi? probability < threshold, maka predict = 0\n",
    "#                 probability > threshold, maka predict = 1"
   ]
  },
  {
   "cell_type": "code",
   "execution_count": 58,
   "metadata": {},
   "outputs": [
    {
     "data": {
      "image/png": "[encoded data removed]",
      "text/plain": [
       "<Figure size 432x288 with 1 Axes>"
      ]
     },
     "metadata": {
      "needs_background": "light"
     },
     "output_type": "display_data"
    }
   ],
   "source": [
    "# visualisasi best fit line model A & B\n",
    "plt.plot(df['usia'], df['beli'], 'r.')\n",
    "plt.plot(df['usia'], df['predA1'], 'g-')\n",
    "plt.plot(df['usia'], df['probaB1'], 'm-')\n",
    "plt.xlabel('Usia'); plt.ylabel('y Probability')\n",
    "plt.show()"
   ]
  },
  {
   "cell_type": "code",
   "execution_count": 59,
   "metadata": {},
   "outputs": [
    {
     "data": {
      "text/html": [
       "<div>\n",
       "<style scoped>\n",
       "    .dataframe tbody tr th:only-of-type {\n",
       "        vertical-align: middle;\n",
       "    }\n",
       "\n",
       "    .dataframe tbody tr th {\n",
       "        vertical-align: top;\n",
       "    }\n",
       "\n",
       "    .dataframe thead th {\n",
       "        text-align: right;\n",
       "    }\n",
       "</style>\n",
       "<table border=\"1\" class=\"dataframe\">\n",
       "  <thead>\n",
       "    <tr style=\"text-align: right;\">\n",
       "      <th></th>\n",
       "      <th>usia</th>\n",
       "      <th>beli</th>\n",
       "      <th>predA1</th>\n",
       "      <th>predA2</th>\n",
       "      <th>probaB1</th>\n",
       "      <th>predB1</th>\n",
       "      <th>probaBbeli</th>\n",
       "      <th>probaBtidakbeli</th>\n",
       "    </tr>\n",
       "  </thead>\n",
       "  <tbody>\n",
       "    <tr>\n",
       "      <th>0</th>\n",
       "      <td>25</td>\n",
       "      <td>0</td>\n",
       "      <td>-0.225806</td>\n",
       "      <td>-0.225806</td>\n",
       "      <td>3.005319e-08</td>\n",
       "      <td>0</td>\n",
       "      <td>3.005319e-08</td>\n",
       "      <td>1.000000</td>\n",
       "    </tr>\n",
       "    <tr>\n",
       "      <th>1</th>\n",
       "      <td>26</td>\n",
       "      <td>0</td>\n",
       "      <td>-0.175751</td>\n",
       "      <td>-0.175751</td>\n",
       "      <td>9.923314e-08</td>\n",
       "      <td>0</td>\n",
       "      <td>9.923314e-08</td>\n",
       "      <td>1.000000</td>\n",
       "    </tr>\n",
       "    <tr>\n",
       "      <th>2</th>\n",
       "      <td>27</td>\n",
       "      <td>0</td>\n",
       "      <td>-0.125695</td>\n",
       "      <td>-0.125695</td>\n",
       "      <td>3.276595e-07</td>\n",
       "      <td>0</td>\n",
       "      <td>3.276595e-07</td>\n",
       "      <td>1.000000</td>\n",
       "    </tr>\n",
       "    <tr>\n",
       "      <th>3</th>\n",
       "      <td>28</td>\n",
       "      <td>0</td>\n",
       "      <td>-0.075640</td>\n",
       "      <td>-0.075640</td>\n",
       "      <td>1.081904e-06</td>\n",
       "      <td>0</td>\n",
       "      <td>1.081904e-06</td>\n",
       "      <td>0.999999</td>\n",
       "    </tr>\n",
       "    <tr>\n",
       "      <th>4</th>\n",
       "      <td>29</td>\n",
       "      <td>0</td>\n",
       "      <td>-0.025584</td>\n",
       "      <td>-0.025584</td>\n",
       "      <td>3.572348e-06</td>\n",
       "      <td>0</td>\n",
       "      <td>3.572348e-06</td>\n",
       "      <td>0.999996</td>\n",
       "    </tr>\n",
       "  </tbody>\n",
       "</table>\n",
       "</div>"
      ],
      "text/plain": [
       "   usia  beli    predA1    predA2       probaB1  predB1    probaBbeli  \\\n",
       "0    25     0 -0.225806 -0.225806  3.005319e-08       0  3.005319e-08   \n",
       "1    26     0 -0.175751 -0.175751  9.923314e-08       0  9.923314e-08   \n",
       "2    27     0 -0.125695 -0.125695  3.276595e-07       0  3.276595e-07   \n",
       "3    28     0 -0.075640 -0.075640  1.081904e-06       0  1.081904e-06   \n",
       "4    29     0 -0.025584 -0.025584  3.572348e-06       0  3.572348e-06   \n",
       "\n",
       "   probaBtidakbeli  \n",
       "0         1.000000  \n",
       "1         1.000000  \n",
       "2         1.000000  \n",
       "3         0.999999  \n",
       "4         0.999996  "
      ]
     },
     "execution_count": 59,
     "metadata": {},
     "output_type": "execute_result"
    }
   ],
   "source": [
    "# probability\n",
    "# modelB.predict_proba(df[['usia']])\n",
    "# [9.99999970e-01, 3.00531898e-08] = 0.99 tidak beli (0) & 3e-08 beli (1)\n",
    "\n",
    "df['probaBbeli'] = modelB.predict_proba(df[['usia']])[:, 1]\n",
    "df['probaBtidakbeli'] = modelB.predict_proba(df[['usia']])[:, 0]\n",
    "df.head()"
   ]
  },
  {
   "cell_type": "code",
   "execution_count": 60,
   "metadata": {},
   "outputs": [
    {
     "name": "stdout",
     "output_type": "stream",
     "text": [
      "1.0\n",
      "1.0\n"
     ]
    }
   ],
   "source": [
    "# cek akurasi\n",
    "from sklearn.metrics import accuracy_score\n",
    "\n",
    "print(modelB.score(df[['usia']], df['beli']))\n",
    "print(accuracy_score(df['beli'], modelB.predict(df[['usia']])))"
   ]
  },
  {
   "cell_type": "markdown",
   "metadata": {},
   "source": [
    "<hr>\n",
    "\n",
    "### Iris dataset classification\n",
    "\n",
    "Using Logistic Regression model"
   ]
  },
  {
   "cell_type": "code",
   "execution_count": 76,
   "metadata": {},
   "outputs": [],
   "source": [
    "from sklearn.datasets import load_iris\n",
    "dataIris = load_iris()"
   ]
  },
  {
   "cell_type": "code",
   "execution_count": 77,
   "metadata": {},
   "outputs": [
    {
     "data": {
      "text/plain": [
       "['DESCR', 'data', 'feature_names', 'filename', 'target', 'target_names']"
      ]
     },
     "execution_count": 77,
     "metadata": {},
     "output_type": "execute_result"
    }
   ],
   "source": [
    "dir(dataIris)"
   ]
  },
  {
   "cell_type": "code",
   "execution_count": 79,
   "metadata": {},
   "outputs": [
    {
     "data": {
      "text/html": [
       "<div>\n",
       "<style scoped>\n",
       "    .dataframe tbody tr th:only-of-type {\n",
       "        vertical-align: middle;\n",
       "    }\n",
       "\n",
       "    .dataframe tbody tr th {\n",
       "        vertical-align: top;\n",
       "    }\n",
       "\n",
       "    .dataframe thead th {\n",
       "        text-align: right;\n",
       "    }\n",
       "</style>\n",
       "<table border=\"1\" class=\"dataframe\">\n",
       "  <thead>\n",
       "    <tr style=\"text-align: right;\">\n",
       "      <th></th>\n",
       "      <th>SL</th>\n",
       "      <th>SW</th>\n",
       "      <th>PL</th>\n",
       "      <th>PW</th>\n",
       "      <th>target</th>\n",
       "      <th>spesies</th>\n",
       "    </tr>\n",
       "  </thead>\n",
       "  <tbody>\n",
       "    <tr>\n",
       "      <th>0</th>\n",
       "      <td>5.1</td>\n",
       "      <td>3.5</td>\n",
       "      <td>1.4</td>\n",
       "      <td>0.2</td>\n",
       "      <td>0</td>\n",
       "      <td>setosa</td>\n",
       "    </tr>\n",
       "    <tr>\n",
       "      <th>1</th>\n",
       "      <td>4.9</td>\n",
       "      <td>3.0</td>\n",
       "      <td>1.4</td>\n",
       "      <td>0.2</td>\n",
       "      <td>0</td>\n",
       "      <td>setosa</td>\n",
       "    </tr>\n",
       "    <tr>\n",
       "      <th>2</th>\n",
       "      <td>4.7</td>\n",
       "      <td>3.2</td>\n",
       "      <td>1.3</td>\n",
       "      <td>0.2</td>\n",
       "      <td>0</td>\n",
       "      <td>setosa</td>\n",
       "    </tr>\n",
       "    <tr>\n",
       "      <th>3</th>\n",
       "      <td>4.6</td>\n",
       "      <td>3.1</td>\n",
       "      <td>1.5</td>\n",
       "      <td>0.2</td>\n",
       "      <td>0</td>\n",
       "      <td>setosa</td>\n",
       "    </tr>\n",
       "    <tr>\n",
       "      <th>4</th>\n",
       "      <td>5.0</td>\n",
       "      <td>3.6</td>\n",
       "      <td>1.4</td>\n",
       "      <td>0.2</td>\n",
       "      <td>0</td>\n",
       "      <td>setosa</td>\n",
       "    </tr>\n",
       "  </tbody>\n",
       "</table>\n",
       "</div>"
      ],
      "text/plain": [
       "    SL   SW   PL   PW  target spesies\n",
       "0  5.1  3.5  1.4  0.2       0  setosa\n",
       "1  4.9  3.0  1.4  0.2       0  setosa\n",
       "2  4.7  3.2  1.3  0.2       0  setosa\n",
       "3  4.6  3.1  1.5  0.2       0  setosa\n",
       "4  5.0  3.6  1.4  0.2       0  setosa"
      ]
     },
     "execution_count": 79,
     "metadata": {},
     "output_type": "execute_result"
    }
   ],
   "source": [
    "dfIris = pd.DataFrame(\n",
    "    dataIris['data'],\n",
    "    columns = ['SL', 'SW', 'PL', 'PW']\n",
    ")\n",
    "dfIris['target'] = dataIris['target']\n",
    "dfIris['spesies'] = dfIris['target'].apply(lambda x: dataIris['target_names'][x])\n",
    "\n",
    "# dfIris\n",
    "dfIris[dfIris['target'] == 0].head()"
   ]
  },
  {
   "cell_type": "code",
   "execution_count": 80,
   "metadata": {},
   "outputs": [
    {
     "name": "stdout",
     "output_type": "stream",
     "text": [
      "120 30\n"
     ]
    }
   ],
   "source": [
    "# train test split: training 80%, testing: 20%\n",
    "from sklearn.model_selection import train_test_split\n",
    "\n",
    "xtr, xts, ytr, yts = train_test_split(dfIris[['SL','SW','PL','PW']], dfIris['spesies'], test_size=.2)\n",
    "print(len(xtr), len(xts))"
   ]
  },
  {
   "cell_type": "code",
   "execution_count": 81,
   "metadata": {},
   "outputs": [],
   "source": [
    "modelIris = LogisticRegression(multi_class='auto', solver='liblinear')"
   ]
  },
  {
   "cell_type": "code",
   "execution_count": 82,
   "metadata": {},
   "outputs": [
    {
     "data": {
      "text/plain": [
       "LogisticRegression(C=1.0, class_weight=None, dual=False, fit_intercept=True,\n",
       "                   intercept_scaling=1, l1_ratio=None, max_iter=100,\n",
       "                   multi_class='auto', n_jobs=None, penalty='l2',\n",
       "                   random_state=None, solver='liblinear', tol=0.0001, verbose=0,\n",
       "                   warm_start=False)"
      ]
     },
     "execution_count": 82,
     "metadata": {},
     "output_type": "execute_result"
    }
   ],
   "source": [
    "# model ditraining dengan 80% dataset (random)\n",
    "modelIris.fit(xtr, ytr)"
   ]
  },
  {
   "cell_type": "code",
   "execution_count": 67,
   "metadata": {},
   "outputs": [
    {
     "data": {
      "text/html": [
       "<div>\n",
       "<style scoped>\n",
       "    .dataframe tbody tr th:only-of-type {\n",
       "        vertical-align: middle;\n",
       "    }\n",
       "\n",
       "    .dataframe tbody tr th {\n",
       "        vertical-align: top;\n",
       "    }\n",
       "\n",
       "    .dataframe thead th {\n",
       "        text-align: right;\n",
       "    }\n",
       "</style>\n",
       "<table border=\"1\" class=\"dataframe\">\n",
       "  <thead>\n",
       "    <tr style=\"text-align: right;\">\n",
       "      <th></th>\n",
       "      <th>SL</th>\n",
       "      <th>SW</th>\n",
       "      <th>PL</th>\n",
       "      <th>PW</th>\n",
       "      <th>target</th>\n",
       "      <th>spesies</th>\n",
       "      <th>prediksi</th>\n",
       "    </tr>\n",
       "  </thead>\n",
       "  <tbody>\n",
       "    <tr>\n",
       "      <th>0</th>\n",
       "      <td>5.1</td>\n",
       "      <td>3.5</td>\n",
       "      <td>1.4</td>\n",
       "      <td>0.2</td>\n",
       "      <td>0</td>\n",
       "      <td>setosa</td>\n",
       "      <td>setosa</td>\n",
       "    </tr>\n",
       "    <tr>\n",
       "      <th>1</th>\n",
       "      <td>4.9</td>\n",
       "      <td>3.0</td>\n",
       "      <td>1.4</td>\n",
       "      <td>0.2</td>\n",
       "      <td>0</td>\n",
       "      <td>setosa</td>\n",
       "      <td>setosa</td>\n",
       "    </tr>\n",
       "    <tr>\n",
       "      <th>2</th>\n",
       "      <td>4.7</td>\n",
       "      <td>3.2</td>\n",
       "      <td>1.3</td>\n",
       "      <td>0.2</td>\n",
       "      <td>0</td>\n",
       "      <td>setosa</td>\n",
       "      <td>setosa</td>\n",
       "    </tr>\n",
       "    <tr>\n",
       "      <th>3</th>\n",
       "      <td>4.6</td>\n",
       "      <td>3.1</td>\n",
       "      <td>1.5</td>\n",
       "      <td>0.2</td>\n",
       "      <td>0</td>\n",
       "      <td>setosa</td>\n",
       "      <td>setosa</td>\n",
       "    </tr>\n",
       "    <tr>\n",
       "      <th>4</th>\n",
       "      <td>5.0</td>\n",
       "      <td>3.6</td>\n",
       "      <td>1.4</td>\n",
       "      <td>0.2</td>\n",
       "      <td>0</td>\n",
       "      <td>setosa</td>\n",
       "      <td>setosa</td>\n",
       "    </tr>\n",
       "  </tbody>\n",
       "</table>\n",
       "</div>"
      ],
      "text/plain": [
       "    SL   SW   PL   PW  target spesies prediksi\n",
       "0  5.1  3.5  1.4  0.2       0  setosa   setosa\n",
       "1  4.9  3.0  1.4  0.2       0  setosa   setosa\n",
       "2  4.7  3.2  1.3  0.2       0  setosa   setosa\n",
       "3  4.6  3.1  1.5  0.2       0  setosa   setosa\n",
       "4  5.0  3.6  1.4  0.2       0  setosa   setosa"
      ]
     },
     "execution_count": 67,
     "metadata": {},
     "output_type": "execute_result"
    }
   ],
   "source": [
    "# model ditrain dg 80%, memprediksi semua data X\n",
    "dfIris['prediksi'] = modelIris.predict(dfIris[['SL', 'SW', 'PL', 'PW']])\n",
    "dfIris.head()"
   ]
  },
  {
   "cell_type": "code",
   "execution_count": 68,
   "metadata": {},
   "outputs": [
    {
     "data": {
      "text/html": [
       "<div>\n",
       "<style scoped>\n",
       "    .dataframe tbody tr th:only-of-type {\n",
       "        vertical-align: middle;\n",
       "    }\n",
       "\n",
       "    .dataframe tbody tr th {\n",
       "        vertical-align: top;\n",
       "    }\n",
       "\n",
       "    .dataframe thead th {\n",
       "        text-align: right;\n",
       "    }\n",
       "</style>\n",
       "<table border=\"1\" class=\"dataframe\">\n",
       "  <thead>\n",
       "    <tr style=\"text-align: right;\">\n",
       "      <th></th>\n",
       "      <th>SL</th>\n",
       "      <th>SW</th>\n",
       "      <th>PL</th>\n",
       "      <th>PW</th>\n",
       "      <th>target</th>\n",
       "      <th>spesies</th>\n",
       "      <th>prediksi</th>\n",
       "      <th>proba0</th>\n",
       "      <th>proba1</th>\n",
       "      <th>proba2</th>\n",
       "    </tr>\n",
       "  </thead>\n",
       "  <tbody>\n",
       "    <tr>\n",
       "      <th>0</th>\n",
       "      <td>5.1</td>\n",
       "      <td>3.5</td>\n",
       "      <td>1.4</td>\n",
       "      <td>0.2</td>\n",
       "      <td>0</td>\n",
       "      <td>setosa</td>\n",
       "      <td>setosa</td>\n",
       "      <td>0.892432</td>\n",
       "      <td>0.107522</td>\n",
       "      <td>0.000046</td>\n",
       "    </tr>\n",
       "    <tr>\n",
       "      <th>1</th>\n",
       "      <td>4.9</td>\n",
       "      <td>3.0</td>\n",
       "      <td>1.4</td>\n",
       "      <td>0.2</td>\n",
       "      <td>0</td>\n",
       "      <td>setosa</td>\n",
       "      <td>setosa</td>\n",
       "      <td>0.814610</td>\n",
       "      <td>0.185280</td>\n",
       "      <td>0.000110</td>\n",
       "    </tr>\n",
       "    <tr>\n",
       "      <th>2</th>\n",
       "      <td>4.7</td>\n",
       "      <td>3.2</td>\n",
       "      <td>1.3</td>\n",
       "      <td>0.2</td>\n",
       "      <td>0</td>\n",
       "      <td>setosa</td>\n",
       "      <td>setosa</td>\n",
       "      <td>0.868275</td>\n",
       "      <td>0.131626</td>\n",
       "      <td>0.000099</td>\n",
       "    </tr>\n",
       "    <tr>\n",
       "      <th>3</th>\n",
       "      <td>4.6</td>\n",
       "      <td>3.1</td>\n",
       "      <td>1.5</td>\n",
       "      <td>0.2</td>\n",
       "      <td>0</td>\n",
       "      <td>setosa</td>\n",
       "      <td>setosa</td>\n",
       "      <td>0.842853</td>\n",
       "      <td>0.156945</td>\n",
       "      <td>0.000202</td>\n",
       "    </tr>\n",
       "    <tr>\n",
       "      <th>4</th>\n",
       "      <td>5.0</td>\n",
       "      <td>3.6</td>\n",
       "      <td>1.4</td>\n",
       "      <td>0.2</td>\n",
       "      <td>0</td>\n",
       "      <td>setosa</td>\n",
       "      <td>setosa</td>\n",
       "      <td>0.909591</td>\n",
       "      <td>0.090361</td>\n",
       "      <td>0.000048</td>\n",
       "    </tr>\n",
       "    <tr>\n",
       "      <th>...</th>\n",
       "      <td>...</td>\n",
       "      <td>...</td>\n",
       "      <td>...</td>\n",
       "      <td>...</td>\n",
       "      <td>...</td>\n",
       "      <td>...</td>\n",
       "      <td>...</td>\n",
       "      <td>...</td>\n",
       "      <td>...</td>\n",
       "      <td>...</td>\n",
       "    </tr>\n",
       "    <tr>\n",
       "      <th>145</th>\n",
       "      <td>6.7</td>\n",
       "      <td>3.0</td>\n",
       "      <td>5.2</td>\n",
       "      <td>2.3</td>\n",
       "      <td>2</td>\n",
       "      <td>virginica</td>\n",
       "      <td>virginica</td>\n",
       "      <td>0.001758</td>\n",
       "      <td>0.218519</td>\n",
       "      <td>0.779723</td>\n",
       "    </tr>\n",
       "    <tr>\n",
       "      <th>146</th>\n",
       "      <td>6.3</td>\n",
       "      <td>2.5</td>\n",
       "      <td>5.0</td>\n",
       "      <td>1.9</td>\n",
       "      <td>2</td>\n",
       "      <td>virginica</td>\n",
       "      <td>virginica</td>\n",
       "      <td>0.001391</td>\n",
       "      <td>0.365478</td>\n",
       "      <td>0.633131</td>\n",
       "    </tr>\n",
       "    <tr>\n",
       "      <th>147</th>\n",
       "      <td>6.5</td>\n",
       "      <td>3.0</td>\n",
       "      <td>5.2</td>\n",
       "      <td>2.0</td>\n",
       "      <td>2</td>\n",
       "      <td>virginica</td>\n",
       "      <td>virginica</td>\n",
       "      <td>0.002181</td>\n",
       "      <td>0.273911</td>\n",
       "      <td>0.723908</td>\n",
       "    </tr>\n",
       "    <tr>\n",
       "      <th>148</th>\n",
       "      <td>6.2</td>\n",
       "      <td>3.4</td>\n",
       "      <td>5.4</td>\n",
       "      <td>2.3</td>\n",
       "      <td>2</td>\n",
       "      <td>virginica</td>\n",
       "      <td>virginica</td>\n",
       "      <td>0.001690</td>\n",
       "      <td>0.114833</td>\n",
       "      <td>0.883477</td>\n",
       "    </tr>\n",
       "    <tr>\n",
       "      <th>149</th>\n",
       "      <td>5.9</td>\n",
       "      <td>3.0</td>\n",
       "      <td>5.1</td>\n",
       "      <td>1.8</td>\n",
       "      <td>2</td>\n",
       "      <td>virginica</td>\n",
       "      <td>virginica</td>\n",
       "      <td>0.002516</td>\n",
       "      <td>0.251656</td>\n",
       "      <td>0.745829</td>\n",
       "    </tr>\n",
       "  </tbody>\n",
       "</table>\n",
       "<p>150 rows × 10 columns</p>\n",
       "</div>"
      ],
      "text/plain": [
       "      SL   SW   PL   PW  target    spesies   prediksi    proba0    proba1  \\\n",
       "0    5.1  3.5  1.4  0.2       0     setosa     setosa  0.892432  0.107522   \n",
       "1    4.9  3.0  1.4  0.2       0     setosa     setosa  0.814610  0.185280   \n",
       "2    4.7  3.2  1.3  0.2       0     setosa     setosa  0.868275  0.131626   \n",
       "3    4.6  3.1  1.5  0.2       0     setosa     setosa  0.842853  0.156945   \n",
       "4    5.0  3.6  1.4  0.2       0     setosa     setosa  0.909591  0.090361   \n",
       "..   ...  ...  ...  ...     ...        ...        ...       ...       ...   \n",
       "145  6.7  3.0  5.2  2.3       2  virginica  virginica  0.001758  0.218519   \n",
       "146  6.3  2.5  5.0  1.9       2  virginica  virginica  0.001391  0.365478   \n",
       "147  6.5  3.0  5.2  2.0       2  virginica  virginica  0.002181  0.273911   \n",
       "148  6.2  3.4  5.4  2.3       2  virginica  virginica  0.001690  0.114833   \n",
       "149  5.9  3.0  5.1  1.8       2  virginica  virginica  0.002516  0.251656   \n",
       "\n",
       "       proba2  \n",
       "0    0.000046  \n",
       "1    0.000110  \n",
       "2    0.000099  \n",
       "3    0.000202  \n",
       "4    0.000048  \n",
       "..        ...  \n",
       "145  0.779723  \n",
       "146  0.633131  \n",
       "147  0.723908  \n",
       "148  0.883477  \n",
       "149  0.745829  \n",
       "\n",
       "[150 rows x 10 columns]"
      ]
     },
     "execution_count": 68,
     "metadata": {},
     "output_type": "execute_result"
    }
   ],
   "source": [
    "# cek nilai probability tiap data\n",
    "proba = modelIris.predict_proba(dfIris[['SL', 'SW', 'PL', 'PW']])\n",
    "\n",
    "dfIris['proba0'] = proba[:, 0]\n",
    "dfIris['proba1'] = proba[:, 1]\n",
    "dfIris['proba2'] = proba[:, 2]\n",
    "dfIris"
   ]
  },
  {
   "cell_type": "code",
   "execution_count": 69,
   "metadata": {},
   "outputs": [
    {
     "data": {
      "text/html": [
       "<div>\n",
       "<style scoped>\n",
       "    .dataframe tbody tr th:only-of-type {\n",
       "        vertical-align: middle;\n",
       "    }\n",
       "\n",
       "    .dataframe tbody tr th {\n",
       "        vertical-align: top;\n",
       "    }\n",
       "\n",
       "    .dataframe thead th {\n",
       "        text-align: right;\n",
       "    }\n",
       "</style>\n",
       "<table border=\"1\" class=\"dataframe\">\n",
       "  <thead>\n",
       "    <tr style=\"text-align: right;\">\n",
       "      <th></th>\n",
       "      <th>SL</th>\n",
       "      <th>SW</th>\n",
       "      <th>PL</th>\n",
       "      <th>PW</th>\n",
       "      <th>target</th>\n",
       "      <th>spesies</th>\n",
       "      <th>prediksi</th>\n",
       "      <th>proba0</th>\n",
       "      <th>proba1</th>\n",
       "      <th>proba2</th>\n",
       "    </tr>\n",
       "  </thead>\n",
       "  <tbody>\n",
       "    <tr>\n",
       "      <th>56</th>\n",
       "      <td>6.3</td>\n",
       "      <td>3.3</td>\n",
       "      <td>4.7</td>\n",
       "      <td>1.6</td>\n",
       "      <td>1</td>\n",
       "      <td>versicolor</td>\n",
       "      <td>virginica</td>\n",
       "      <td>0.026837</td>\n",
       "      <td>0.436921</td>\n",
       "      <td>0.536242</td>\n",
       "    </tr>\n",
       "    <tr>\n",
       "      <th>59</th>\n",
       "      <td>5.2</td>\n",
       "      <td>2.7</td>\n",
       "      <td>3.9</td>\n",
       "      <td>1.4</td>\n",
       "      <td>1</td>\n",
       "      <td>versicolor</td>\n",
       "      <td>virginica</td>\n",
       "      <td>0.040420</td>\n",
       "      <td>0.448529</td>\n",
       "      <td>0.511051</td>\n",
       "    </tr>\n",
       "    <tr>\n",
       "      <th>66</th>\n",
       "      <td>5.6</td>\n",
       "      <td>3.0</td>\n",
       "      <td>4.5</td>\n",
       "      <td>1.5</td>\n",
       "      <td>1</td>\n",
       "      <td>versicolor</td>\n",
       "      <td>virginica</td>\n",
       "      <td>0.015927</td>\n",
       "      <td>0.355636</td>\n",
       "      <td>0.628437</td>\n",
       "    </tr>\n",
       "    <tr>\n",
       "      <th>70</th>\n",
       "      <td>5.9</td>\n",
       "      <td>3.2</td>\n",
       "      <td>4.8</td>\n",
       "      <td>1.8</td>\n",
       "      <td>1</td>\n",
       "      <td>versicolor</td>\n",
       "      <td>virginica</td>\n",
       "      <td>0.008448</td>\n",
       "      <td>0.229822</td>\n",
       "      <td>0.761730</td>\n",
       "    </tr>\n",
       "    <tr>\n",
       "      <th>77</th>\n",
       "      <td>6.7</td>\n",
       "      <td>3.0</td>\n",
       "      <td>5.0</td>\n",
       "      <td>1.7</td>\n",
       "      <td>1</td>\n",
       "      <td>versicolor</td>\n",
       "      <td>virginica</td>\n",
       "      <td>0.006359</td>\n",
       "      <td>0.466494</td>\n",
       "      <td>0.527147</td>\n",
       "    </tr>\n",
       "    <tr>\n",
       "      <th>78</th>\n",
       "      <td>6.0</td>\n",
       "      <td>2.9</td>\n",
       "      <td>4.5</td>\n",
       "      <td>1.5</td>\n",
       "      <td>1</td>\n",
       "      <td>versicolor</td>\n",
       "      <td>virginica</td>\n",
       "      <td>0.017273</td>\n",
       "      <td>0.488416</td>\n",
       "      <td>0.494311</td>\n",
       "    </tr>\n",
       "    <tr>\n",
       "      <th>83</th>\n",
       "      <td>6.0</td>\n",
       "      <td>2.7</td>\n",
       "      <td>5.1</td>\n",
       "      <td>1.6</td>\n",
       "      <td>1</td>\n",
       "      <td>versicolor</td>\n",
       "      <td>virginica</td>\n",
       "      <td>0.001836</td>\n",
       "      <td>0.373719</td>\n",
       "      <td>0.624445</td>\n",
       "    </tr>\n",
       "    <tr>\n",
       "      <th>84</th>\n",
       "      <td>5.4</td>\n",
       "      <td>3.0</td>\n",
       "      <td>4.5</td>\n",
       "      <td>1.5</td>\n",
       "      <td>1</td>\n",
       "      <td>versicolor</td>\n",
       "      <td>virginica</td>\n",
       "      <td>0.013612</td>\n",
       "      <td>0.305813</td>\n",
       "      <td>0.680575</td>\n",
       "    </tr>\n",
       "    <tr>\n",
       "      <th>85</th>\n",
       "      <td>6.0</td>\n",
       "      <td>3.4</td>\n",
       "      <td>4.5</td>\n",
       "      <td>1.6</td>\n",
       "      <td>1</td>\n",
       "      <td>versicolor</td>\n",
       "      <td>virginica</td>\n",
       "      <td>0.049122</td>\n",
       "      <td>0.366471</td>\n",
       "      <td>0.584406</td>\n",
       "    </tr>\n",
       "  </tbody>\n",
       "</table>\n",
       "</div>"
      ],
      "text/plain": [
       "     SL   SW   PL   PW  target     spesies   prediksi    proba0    proba1  \\\n",
       "56  6.3  3.3  4.7  1.6       1  versicolor  virginica  0.026837  0.436921   \n",
       "59  5.2  2.7  3.9  1.4       1  versicolor  virginica  0.040420  0.448529   \n",
       "66  5.6  3.0  4.5  1.5       1  versicolor  virginica  0.015927  0.355636   \n",
       "70  5.9  3.2  4.8  1.8       1  versicolor  virginica  0.008448  0.229822   \n",
       "77  6.7  3.0  5.0  1.7       1  versicolor  virginica  0.006359  0.466494   \n",
       "78  6.0  2.9  4.5  1.5       1  versicolor  virginica  0.017273  0.488416   \n",
       "83  6.0  2.7  5.1  1.6       1  versicolor  virginica  0.001836  0.373719   \n",
       "84  5.4  3.0  4.5  1.5       1  versicolor  virginica  0.013612  0.305813   \n",
       "85  6.0  3.4  4.5  1.6       1  versicolor  virginica  0.049122  0.366471   \n",
       "\n",
       "      proba2  \n",
       "56  0.536242  \n",
       "59  0.511051  \n",
       "66  0.628437  \n",
       "70  0.761730  \n",
       "77  0.527147  \n",
       "78  0.494311  \n",
       "83  0.624445  \n",
       "84  0.680575  \n",
       "85  0.584406  "
      ]
     },
     "execution_count": 69,
     "metadata": {},
     "output_type": "execute_result"
    }
   ],
   "source": [
    "# prediksi meleset\n",
    "dfIris[dfIris['spesies'] != dfIris['prediksi']]"
   ]
  },
  {
   "cell_type": "code",
   "execution_count": 75,
   "metadata": {},
   "outputs": [
    {
     "name": "stdout",
     "output_type": "stream",
     "text": [
      "0.9583333333333334\n",
      "0.8666666666666667\n",
      "0.94\n"
     ]
    }
   ],
   "source": [
    "# akurasi model thd data training & data testing\n",
    "print(modelIris.score(xtr, ytr))\n",
    "print(modelIris.score(xts, yts))\n",
    "print(modelIris.score(dfIris[['SL','SW','PL','PW']], dfIris[\"spesies\"]))"
   ]
  },
  {
   "cell_type": "code",
   "execution_count": 73,
   "metadata": {},
   "outputs": [
    {
     "data": {
      "text/plain": [
       "0.94"
      ]
     },
     "execution_count": 73,
     "metadata": {},
     "output_type": "execute_result"
    }
   ],
   "source": [
    "1 - (len(dfIris[dfIris['spesies'] != dfIris['prediksi']]) / len(dfIris))"
   ]
  },
  {
   "cell_type": "code",
   "execution_count": null,
   "metadata": {},
   "outputs": [],
   "source": []
  }
 ],
 "metadata": {
  "kernelspec": {
   "display_name": "Python 3.8.1 64-bit",
   "language": "python",
   "name": "python38164bitb5bd62bf3fff44ff964437feb55a01f8"
  },
  "language_info": {
   "codemirror_mode": {
    "name": "ipython",
    "version": 3
   },
   "file_extension": ".py",
   "mimetype": "text/x-python",
   "name": "python",
   "nbconvert_exporter": "python",
   "pygments_lexer": "ipython3",
   "version": "3.8.1"
  }
 },
 "nbformat": 4,
 "nbformat_minor": 4
}
