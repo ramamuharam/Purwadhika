{
 "cells": [
  {
   "cell_type": "markdown",
   "metadata": {},
   "source": [
    "## Evaluation Metrics for Classification ML models"
   ]
  },
  {
   "cell_type": "code",
   "execution_count": 1,
   "metadata": {},
   "outputs": [],
   "source": [
    "import numpy as np\n",
    "import pandas as pd\n",
    "import matplotlib.pyplot as plt\n",
    "import seaborn as sb"
   ]
  },
  {
   "cell_type": "markdown",
   "metadata": {},
   "source": [
    "<hr>\n",
    "\n",
    "### 1. Confusion Matrix\n",
    "\n",
    "Cross table menampilkan jumlah data antara: y True, y False, yp True, yp False"
   ]
  },
  {
   "cell_type": "code",
   "execution_count": 2,
   "metadata": {},
   "outputs": [],
   "source": [
    "# Misal data aktual = y, prediksi model = yp\n",
    "y = ['Yes', 'No', 'Yes', 'No', 'Yes', 'No']\n",
    "yp = ['Yes', 'Yes', 'Yes', 'No', 'Yes', 'Yes']"
   ]
  },
  {
   "cell_type": "markdown",
   "metadata": {},
   "source": [
    "Confusion Matrix for Binary Classification\n",
    "\n",
    "-|pred \"Yes\"|pred \"No\"\n",
    "---|---|---\n",
    "__aktual \"Yes\"__|__3__|__0__\n",
    "__aktual \"No\"__|__2__|__1__"
   ]
  },
  {
   "cell_type": "code",
   "execution_count": 3,
   "metadata": {},
   "outputs": [],
   "source": [
    "from sklearn.metrics import confusion_matrix"
   ]
  },
  {
   "cell_type": "code",
   "execution_count": 12,
   "metadata": {},
   "outputs": [
    {
     "data": {
      "text/plain": [
       "array([[3, 0],\n",
       "       [2, 1]])"
      ]
     },
     "execution_count": 12,
     "metadata": {},
     "output_type": "execute_result"
    }
   ],
   "source": [
    "# labels = nilai di y aktual\n",
    "cm = confusion_matrix(y, yp, labels=[\"Yes\", \"No\"])\n",
    "# cm = confusion_matrix(y, yp)\n",
    "cm"
   ]
  },
  {
   "cell_type": "code",
   "execution_count": 11,
   "metadata": {},
   "outputs": [
    {
     "data": {
      "text/html": [
       "<div>\n",
       "<style scoped>\n",
       "    .dataframe tbody tr th:only-of-type {\n",
       "        vertical-align: middle;\n",
       "    }\n",
       "\n",
       "    .dataframe tbody tr th {\n",
       "        vertical-align: top;\n",
       "    }\n",
       "\n",
       "    .dataframe thead th {\n",
       "        text-align: right;\n",
       "    }\n",
       "</style>\n",
       "<table border=\"1\" class=\"dataframe\">\n",
       "  <thead>\n",
       "    <tr style=\"text-align: right;\">\n",
       "      <th></th>\n",
       "      <th>Pred Y</th>\n",
       "      <th>Pred N</th>\n",
       "    </tr>\n",
       "  </thead>\n",
       "  <tbody>\n",
       "    <tr>\n",
       "      <th>Actual Y</th>\n",
       "      <td>1</td>\n",
       "      <td>2</td>\n",
       "    </tr>\n",
       "    <tr>\n",
       "      <th>Actual N</th>\n",
       "      <td>0</td>\n",
       "      <td>3</td>\n",
       "    </tr>\n",
       "  </tbody>\n",
       "</table>\n",
       "</div>"
      ],
      "text/plain": [
       "          Pred Y  Pred N\n",
       "Actual Y       1       2\n",
       "Actual N       0       3"
      ]
     },
     "execution_count": 11,
     "metadata": {},
     "output_type": "execute_result"
    }
   ],
   "source": [
    "dfcm = pd.DataFrame(\n",
    "    cm, columns=['Pred Y', 'Pred N'], index=['Actual Y', 'Actual N']\n",
    ")\n",
    "dfcm"
   ]
  },
  {
   "cell_type": "markdown",
   "metadata": {},
   "source": [
    "- __True__: data prediksi == data aktual\n",
    "- __False__: data prediksi != data aktual\n",
    "- __Positive__: prediksi positif / 1 / Yes\n",
    "- __Negative__: prediksi negatif / 0 / No\n",
    "\n",
    "<hr>\n",
    "\n",
    "- __True Positive (TP)__: prediksi __YES__, aktual __YES__\n",
    "- __True Negative (TN)__: prediksi __NO__, aktual __NO__\n",
    "- __False Positif (FP)__: prediksi __YES__, aktual __NO__\n",
    "- __False Negatif (FN)__: prediksi __NO__, aktual __YES__\n",
    "\n",
    "-|pred \"Yes\"|pred \"No\"\n",
    "---|---|---\n",
    "__aktual \"Yes\"__|__TP = 3__|__FN = 0__\n",
    "__aktual \"No\"__|__FP = 2__|__TN = 1__"
   ]
  },
  {
   "cell_type": "code",
   "execution_count": 6,
   "metadata": {},
   "outputs": [
    {
     "data": {
      "text/plain": [
       "(3, 0, 2, 1)"
      ]
     },
     "execution_count": 6,
     "metadata": {},
     "output_type": "execute_result"
    }
   ],
   "source": [
    "tp, fn, fp, tn = confusion_matrix(y, yp, labels=[\"Yes\", \"No\"]).reshape(-1,)\n",
    "tp, fn, fp, tn"
   ]
  },
  {
   "cell_type": "markdown",
   "metadata": {},
   "source": [
    "<hr>\n",
    "\n",
    "### 2. Confusion Matrix for Binary Classification Example"
   ]
  },
  {
   "cell_type": "code",
   "execution_count": 52,
   "metadata": {},
   "outputs": [],
   "source": [
    "x = np.array(range(1, 11))\n",
    "y = [0,0,0,0,1,0,1,1,1,1]"
   ]
  },
  {
   "cell_type": "code",
   "execution_count": 53,
   "metadata": {},
   "outputs": [],
   "source": [
    "from sklearn.linear_model import LogisticRegression"
   ]
  },
  {
   "cell_type": "code",
   "execution_count": 54,
   "metadata": {},
   "outputs": [
    {
     "data": {
      "text/plain": [
       "LogisticRegression(C=1.0, class_weight=None, dual=False, fit_intercept=True,\n",
       "                   intercept_scaling=1, l1_ratio=None, max_iter=100,\n",
       "                   multi_class='auto', n_jobs=None, penalty='l2',\n",
       "                   random_state=None, solver='lbfgs', tol=0.0001, verbose=0,\n",
       "                   warm_start=False)"
      ]
     },
     "execution_count": 54,
     "metadata": {},
     "output_type": "execute_result"
    }
   ],
   "source": [
    "model = LogisticRegression()\n",
    "model.fit(x.reshape(-1, 1), y)"
   ]
  },
  {
   "cell_type": "code",
   "execution_count": 55,
   "metadata": {},
   "outputs": [
    {
     "data": {
      "text/plain": [
       "array([0, 0, 0, 0, 0, 1, 1, 1, 1, 1])"
      ]
     },
     "execution_count": 55,
     "metadata": {},
     "output_type": "execute_result"
    }
   ],
   "source": [
    "yp = model.predict(x.reshape(-1, 1))\n",
    "yp"
   ]
  },
  {
   "cell_type": "code",
   "execution_count": 56,
   "metadata": {},
   "outputs": [
    {
     "name": "stdout",
     "output_type": "stream",
     "text": [
      "[0, 0, 0, 0, 1, 0, 1, 1, 1, 1]\n",
      "[0, 0, 0, 0, 0, 1, 1, 1, 1, 1]\n"
     ]
    }
   ],
   "source": [
    "# create confusion matrix manually\n",
    "print(y)\n",
    "print(list(yp))"
   ]
  },
  {
   "cell_type": "markdown",
   "metadata": {},
   "source": [
    "-|Pred 1|Pred 0\n",
    "---|---|---\n",
    "__Aktual 1__|__TP = 4__|__FN = 1__\n",
    "__Aktual 0__|__FP = 1__|__TN = 4__"
   ]
  },
  {
   "cell_type": "code",
   "execution_count": 57,
   "metadata": {},
   "outputs": [
    {
     "data": {
      "text/plain": [
       "array([[4, 1],\n",
       "       [1, 4]], dtype=int64)"
      ]
     },
     "execution_count": 57,
     "metadata": {},
     "output_type": "execute_result"
    }
   ],
   "source": [
    "cm = confusion_matrix(y, yp, labels=[1, 0])\n",
    "cm"
   ]
  },
  {
   "cell_type": "code",
   "execution_count": 58,
   "metadata": {},
   "outputs": [
    {
     "data": {
      "text/html": [
       "<div>\n",
       "<style scoped>\n",
       "    .dataframe tbody tr th:only-of-type {\n",
       "        vertical-align: middle;\n",
       "    }\n",
       "\n",
       "    .dataframe tbody tr th {\n",
       "        vertical-align: top;\n",
       "    }\n",
       "\n",
       "    .dataframe thead th {\n",
       "        text-align: right;\n",
       "    }\n",
       "</style>\n",
       "<table border=\"1\" class=\"dataframe\">\n",
       "  <thead>\n",
       "    <tr style=\"text-align: right;\">\n",
       "      <th></th>\n",
       "      <th>Pred 1</th>\n",
       "      <th>Pred 0</th>\n",
       "    </tr>\n",
       "  </thead>\n",
       "  <tbody>\n",
       "    <tr>\n",
       "      <th>Aktual 1</th>\n",
       "      <td>4</td>\n",
       "      <td>1</td>\n",
       "    </tr>\n",
       "    <tr>\n",
       "      <th>Aktual 0</th>\n",
       "      <td>1</td>\n",
       "      <td>4</td>\n",
       "    </tr>\n",
       "  </tbody>\n",
       "</table>\n",
       "</div>"
      ],
      "text/plain": [
       "          Pred 1  Pred 0\n",
       "Aktual 1       4       1\n",
       "Aktual 0       1       4"
      ]
     },
     "execution_count": 58,
     "metadata": {},
     "output_type": "execute_result"
    }
   ],
   "source": [
    "dfcm = pd.DataFrame(\n",
    "    cm, columns=['Pred 1', 'Pred 0'], index=['Aktual 1', 'Aktual 0']\n",
    ")\n",
    "dfcm"
   ]
  },
  {
   "cell_type": "code",
   "execution_count": 59,
   "metadata": {},
   "outputs": [
    {
     "data": {
      "text/plain": [
       "<matplotlib.axes._subplots.AxesSubplot at 0xeab94a8>"
      ]
     },
     "execution_count": 59,
     "metadata": {},
     "output_type": "execute_result"
    },
    {
     "data": {
      "image/png": "[encoded data removed]",
      "text/plain": [
       "<Figure size 432x288 with 2 Axes>"
      ]
     },
     "metadata": {
      "needs_background": "light"
     },
     "output_type": "display_data"
    }
   ],
   "source": [
    "# confusion matrix plot\n",
    "sb.heatmap(dfcm, annot=True, annot_kws={'size': 30})"
   ]
  },
  {
   "cell_type": "code",
   "execution_count": 60,
   "metadata": {},
   "outputs": [],
   "source": [
    "# sklearn confusion matrix plot (based on matplotlib)\n",
    "from sklearn.metrics import plot_confusion_matrix"
   ]
  },
  {
   "cell_type": "code",
   "execution_count": 61,
   "metadata": {},
   "outputs": [
    {
     "data": {
      "text/plain": [
       "<sklearn.metrics._plot.confusion_matrix.ConfusionMatrixDisplay at 0xeb30fd0>"
      ]
     },
     "execution_count": 61,
     "metadata": {},
     "output_type": "execute_result"
    },
    {
     "data": {
      "image/png": "[encoded data removed]",
      "text/plain": [
       "<Figure size 432x288 with 2 Axes>"
      ]
     },
     "metadata": {
      "needs_background": "light"
     },
     "output_type": "display_data"
    }
   ],
   "source": [
    "plot_confusion_matrix(\n",
    "    model, x.reshape(-1, 1), y\n",
    ")"
   ]
  },
  {
   "cell_type": "markdown",
   "metadata": {},
   "source": [
    "<hr>\n",
    "\n",
    "### 3. Confusion Matrix for Multi-class Classification\n",
    "\n",
    "Non-binary classification a.k.a Multi-class classification"
   ]
  },
  {
   "cell_type": "code",
   "execution_count": 62,
   "metadata": {},
   "outputs": [],
   "source": [
    "y = [\"kura-kura\", \"penyu\", \"platipus\", \"kura-kura\", \"penyu\", \"platipus\"]\n",
    "yp = [\"kura-kura\", \"kura-kura\", \"platipus\", \"penyu\", \"penyu\", \"platipus\"]"
   ]
  },
  {
   "cell_type": "markdown",
   "metadata": {},
   "source": [
    "-|Pred Kura|Pred Penyu|Pred Platipus\n",
    "---|---|---|---\n",
    "__Aktual Kura__|__1__|__1__|__0__\n",
    "__Aktual Penyu__|__1__|__1__|__0__\n",
    "__Aktual Platipus__|__0__|__0__|__2__"
   ]
  },
  {
   "cell_type": "code",
   "execution_count": 64,
   "metadata": {},
   "outputs": [
    {
     "data": {
      "text/plain": [
       "array([[1, 1, 0],\n",
       "       [1, 1, 0],\n",
       "       [0, 0, 2]], dtype=int64)"
      ]
     },
     "execution_count": 64,
     "metadata": {},
     "output_type": "execute_result"
    }
   ],
   "source": [
    "cm = confusion_matrix(y, yp, labels=[\"kura-kura\", \"penyu\", \"platipus\"])\n",
    "cm"
   ]
  },
  {
   "cell_type": "code",
   "execution_count": 65,
   "metadata": {},
   "outputs": [
    {
     "data": {
      "text/html": [
       "<div>\n",
       "<style scoped>\n",
       "    .dataframe tbody tr th:only-of-type {\n",
       "        vertical-align: middle;\n",
       "    }\n",
       "\n",
       "    .dataframe tbody tr th {\n",
       "        vertical-align: top;\n",
       "    }\n",
       "\n",
       "    .dataframe thead th {\n",
       "        text-align: right;\n",
       "    }\n",
       "</style>\n",
       "<table border=\"1\" class=\"dataframe\">\n",
       "  <thead>\n",
       "    <tr style=\"text-align: right;\">\n",
       "      <th></th>\n",
       "      <th>Pred Kura</th>\n",
       "      <th>Pred Penyu</th>\n",
       "      <th>Pred Platipus</th>\n",
       "    </tr>\n",
       "  </thead>\n",
       "  <tbody>\n",
       "    <tr>\n",
       "      <th>Aktual Kura</th>\n",
       "      <td>1</td>\n",
       "      <td>1</td>\n",
       "      <td>0</td>\n",
       "    </tr>\n",
       "    <tr>\n",
       "      <th>Aktual Penyu</th>\n",
       "      <td>1</td>\n",
       "      <td>1</td>\n",
       "      <td>0</td>\n",
       "    </tr>\n",
       "    <tr>\n",
       "      <th>Aktual Platipus</th>\n",
       "      <td>0</td>\n",
       "      <td>0</td>\n",
       "      <td>2</td>\n",
       "    </tr>\n",
       "  </tbody>\n",
       "</table>\n",
       "</div>"
      ],
      "text/plain": [
       "                 Pred Kura  Pred Penyu  Pred Platipus\n",
       "Aktual Kura              1           1              0\n",
       "Aktual Penyu             1           1              0\n",
       "Aktual Platipus          0           0              2"
      ]
     },
     "execution_count": 65,
     "metadata": {},
     "output_type": "execute_result"
    }
   ],
   "source": [
    "dfcm = pd.DataFrame(\n",
    "    cm, \n",
    "    columns=['Pred Kura', 'Pred Penyu', 'Pred Platipus'],\n",
    "    index=['Aktual Kura', 'Aktual Penyu', 'Aktual Platipus']\n",
    ")\n",
    "dfcm"
   ]
  },
  {
   "cell_type": "code",
   "execution_count": 67,
   "metadata": {},
   "outputs": [
    {
     "data": {
      "text/plain": [
       "<matplotlib.axes._subplots.AxesSubplot at 0xebde8f8>"
      ]
     },
     "execution_count": 67,
     "metadata": {},
     "output_type": "execute_result"
    },
    {
     "data": {
      "image/png": "[encoded data removed]",
      "text/plain": [
       "<Figure size 432x288 with 2 Axes>"
      ]
     },
     "metadata": {
      "needs_background": "light"
     },
     "output_type": "display_data"
    }
   ],
   "source": [
    "sb.heatmap(dfcm, annot = True, annot_kws={'size': 30})"
   ]
  },
  {
   "cell_type": "markdown",
   "metadata": {},
   "source": [
    "<hr>\n",
    "\n",
    "### 4. TP, TN, FP & FN on Confusion Matrix for Multi-class Classification\n",
    "\n",
    "- TP, TN, FP & FN for label = __'Kura-Kura'__\n",
    "- TP, TN, FP & FN for label = __'Penyu'__\n",
    "- TP, TN, FP & FN for label = __'Platipus'__"
   ]
  },
  {
   "cell_type": "markdown",
   "metadata": {},
   "source": [
    "__*a. TP, TN, FP & FN for label = 'Kura-Kura'*__\n",
    "\n",
    "-|Pred Kura|Pred Penyu|Pred Platipus\n",
    "---|---|---|---\n",
    "__Aktual Kura__|__$\\textrm{TP}_\\textrm{kura}$ = 1__|__$\\textrm{FN}_\\textrm{kura}$ = 1__|__$\\textrm{FN}_\\textrm{kura}$ = 0__\n",
    "__Aktual Penyu__|__$\\textrm{FP}_\\textrm{kura}$ = 1__|__$\\textrm{TN}_\\textrm{kura}$ = 1__|__$\\textrm{TN}_\\textrm{kura}$ = 0__\n",
    "__Aktual Platipus__|__$\\textrm{FP}_\\textrm{kura}$ =0__|__$\\textrm{TN}_\\textrm{kura}$ = 0__|__$\\textrm{TN}_\\textrm{kura}$ = 2__"
   ]
  },
  {
   "cell_type": "code",
   "execution_count": 71,
   "metadata": {},
   "outputs": [
    {
     "data": {
      "text/plain": [
       "(1, 1, 1, 3)"
      ]
     },
     "execution_count": 71,
     "metadata": {},
     "output_type": "execute_result"
    }
   ],
   "source": [
    "tpkura = 1\n",
    "fpkura = 1 + 0\n",
    "fnkura = 1 + 0\n",
    "tnkura = 1 + 0 + 0 + 2\n",
    "tpkura, fpkura, fnkura, tnkura"
   ]
  },
  {
   "cell_type": "markdown",
   "metadata": {},
   "source": [
    "__*b. TP, TN, FP & FN for label = 'Penyu'*__\n",
    "\n",
    "-|Pred Kura|Pred Penyu|Pred Platipus\n",
    "---|---|---|---\n",
    "__Aktual Kura__|__$\\textrm{TN}_\\textrm{penyu}$ = 1__|__$\\textrm{FP}_\\textrm{penyu}$ = 1__|__$\\textrm{TN}_\\textrm{penyu}$ = 0__\n",
    "__Aktual Penyu__|__$\\textrm{FN}_\\textrm{penyu}$ = 1__|__$\\textrm{TP}_\\textrm{penyu}$ = 1__|__$\\textrm{FN}_\\textrm{penyu}$ = 0__\n",
    "__Aktual Platipus__|__$\\textrm{TN}_\\textrm{penyu}$ = 0__|__$\\textrm{FP}_\\textrm{penyu}$ = 0__|__$\\textrm{TN}_\\textrm{penyu}$ = 2__"
   ]
  },
  {
   "cell_type": "code",
   "execution_count": 72,
   "metadata": {},
   "outputs": [
    {
     "data": {
      "text/plain": [
       "(1, 1, 3, 1)"
      ]
     },
     "execution_count": 72,
     "metadata": {},
     "output_type": "execute_result"
    }
   ],
   "source": [
    "tppenyu = 1\n",
    "fppenyu = 1 + 0\n",
    "tnpenyu = 1 + 0 + 0 + 2\n",
    "fnpenyu = 1 + 0\n",
    "tppenyu, fppenyu, tnpenyu, fnpenyu"
   ]
  },
  {
   "cell_type": "markdown",
   "metadata": {},
   "source": [
    "__*c. TP, TN, FP & FN for label = 'Platipus'*__\n",
    "\n",
    "-|Pred Kura|Pred Penyu|Pred Platipus\n",
    "---|---|---|---\n",
    "__Aktual Kura__|__$\\textrm{TN}_\\textrm{platipus}$ = 1__|__$\\textrm{TN}_\\textrm{platipus}$ = 1__|__$\\textrm{FP}_\\textrm{platipus}$ = 0__\n",
    "__Aktual Penyu__|__$\\textrm{TN}_\\textrm{platipus}$ = 1__|__$\\textrm{TN}_\\textrm{platipus}$ = 1__|__$\\textrm{FP}_\\textrm{platipus}$ = 0__\n",
    "__Aktual Platipus__|__$\\textrm{FN}_\\textrm{platipus}$ = 0__|__$\\textrm{FN}_\\textrm{platipus}$ = 0__|__$\\textrm{TP}_\\textrm{platipus}$ = 2__"
   ]
  },
  {
   "cell_type": "code",
   "execution_count": 73,
   "metadata": {},
   "outputs": [
    {
     "data": {
      "text/plain": [
       "(2, 0, 4, 0)"
      ]
     },
     "execution_count": 73,
     "metadata": {},
     "output_type": "execute_result"
    }
   ],
   "source": [
    "tppla = 2\n",
    "fppla = 0 + 0\n",
    "tnpla = 1 + 1 + 1 + 1\n",
    "fnpla = 0 + 0\n",
    "tppla, fppla, tnpla, fnpla"
   ]
  },
  {
   "cell_type": "code",
   "execution_count": 74,
   "metadata": {},
   "outputs": [
    {
     "name": "stdout",
     "output_type": "stream",
     "text": [
      "1 1 1 3\n",
      "1 1 3 1\n",
      "2 0 4 0\n"
     ]
    }
   ],
   "source": [
    "print(tpkura, fpkura, fnkura, tnkura)\n",
    "print(tppenyu, fppenyu, tnpenyu, fnpenyu)\n",
    "print(tppla, fppla, tnpla, fnpla)"
   ]
  }
 ],
 "metadata": {
  "kernelspec": {
   "display_name": "Python 3.8.1 64-bit",
   "language": "python",
   "name": "python38164bitb5bd62bf3fff44ff964437feb55a01f8"
  },
  "language_info": {
   "codemirror_mode": {
    "name": "ipython",
    "version": 3
   },
   "file_extension": ".py",
   "mimetype": "text/x-python",
   "name": "python",
   "nbconvert_exporter": "python",
   "pygments_lexer": "ipython3",
   "version": "3.8.1"
  }
 },
 "nbformat": 4,
 "nbformat_minor": 4
}
