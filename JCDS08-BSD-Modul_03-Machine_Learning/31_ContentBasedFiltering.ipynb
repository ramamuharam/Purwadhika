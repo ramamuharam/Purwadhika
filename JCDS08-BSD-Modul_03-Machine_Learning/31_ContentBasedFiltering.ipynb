{
 "cells": [
  {
   "cell_type": "markdown",
   "metadata": {},
   "source": [
    "# Recommendation System\n",
    "\n",
    "- Top/Popular Based Filtering\n",
    "- Content Based Filtering\n",
    "- Collaborative Filtering\n",
    "\n",
    "<img src=\"https://miro.medium.com/max/4056/1*yrkvweErbifbPFkBUyZlOw.png\" \n",
    "     width=\"500px\">"
   ]
  },
  {
   "cell_type": "code",
   "execution_count": null,
   "metadata": {},
   "outputs": [],
   "source": [
    "import numpy as np\n",
    "import pandas as pd"
   ]
  },
  {
   "cell_type": "markdown",
   "metadata": {},
   "source": [
    "<hr>\n",
    "\n",
    "### 1. Content-based Filtering\n",
    "\n",
    "__A. Cosinus similarity__\n",
    "\n",
    "- Menghitung kesamaan data berdasarkan value & pola value\n",
    "- Di sklearn, gunakan ```cosine_similarity```"
   ]
  },
  {
   "cell_type": "code",
   "execution_count": null,
   "metadata": {},
   "outputs": [],
   "source": [
    "from sklearn.metrics.pairwise import cosine_similarity"
   ]
  },
  {
   "cell_type": "code",
   "execution_count": null,
   "metadata": {},
   "outputs": [],
   "source": [
    "x = np.array([1, 2, 3])\n",
    "y = np.array([1, 2, 3])"
   ]
  },
  {
   "cell_type": "code",
   "execution_count": null,
   "metadata": {},
   "outputs": [],
   "source": [
    "similarityScore = cosine_similarity([x, y])\n",
    "similarityScore"
   ]
  },
  {
   "cell_type": "code",
   "execution_count": null,
   "metadata": {},
   "outputs": [],
   "source": [
    "simDf = pd.DataFrame(\n",
    "    similarityScore,\n",
    "    columns = ['x', 'y'],\n",
    "    index = ['x', 'y']\n",
    ")\n",
    "simDf"
   ]
  },
  {
   "cell_type": "code",
   "execution_count": null,
   "metadata": {},
   "outputs": [],
   "source": [
    "# data berbeda 1 elemen\n",
    "\n",
    "x = np.array([1, 1, 1])\n",
    "y = np.array([1, 2, 1])\n",
    "similarityScore = cosine_similarity([x, y])\n",
    "similarityScore"
   ]
  },
  {
   "cell_type": "code",
   "execution_count": null,
   "metadata": {},
   "outputs": [],
   "source": [
    "# 2 data berbeda elemen, namun tiap data semua elemennya sama\n",
    "\n",
    "x = np.array([1, 1, 1])\n",
    "y = np.array([2, 2, 2])\n",
    "similarityScore = cosine_similarity([x, y])\n",
    "similarityScore"
   ]
  },
  {
   "cell_type": "code",
   "execution_count": null,
   "metadata": {},
   "outputs": [],
   "source": [
    "# data 1 = 1,2,3 & data 2 = 5,5,5\n",
    "\n",
    "x = np.array([1, 2, 3])\n",
    "y = np.array([5, 5, 5])\n",
    "similarityScore = cosine_similarity([x, y])\n",
    "similarityScore"
   ]
  },
  {
   "cell_type": "code",
   "execution_count": null,
   "metadata": {},
   "outputs": [],
   "source": [
    "# data 1 = 1,20,300 & data 2 = 5,5,5\n",
    "\n",
    "x = np.array([1, 20, 300])\n",
    "y = np.array([5, 5, 5])\n",
    "similarityScore = cosine_similarity([x, y])\n",
    "similarityScore"
   ]
  },
  {
   "cell_type": "markdown",
   "metadata": {},
   "source": [
    "<hr>\n",
    "\n",
    "__B. Count vectorizer__\n",
    "\n",
    "- Bagaimana menghitung cos similarity untuk categorical data (value berupa string)?\n",
    "- Data diekstrak untuk menentukan jumlah tiap kata. Jumlah tiap kata dalam data dicari cos similarity-nya.\n",
    "- Di sklearn, gunakan ```CountVectorizer```"
   ]
  },
  {
   "cell_type": "code",
   "execution_count": null,
   "metadata": {},
   "outputs": [],
   "source": [
    "from sklearn.feature_extraction.text import CountVectorizer"
   ]
  },
  {
   "cell_type": "code",
   "execution_count": null,
   "metadata": {},
   "outputs": [],
   "source": [
    "x = 'Andi Budi Caca'\n",
    "y = 'Andi Budi Caca'"
   ]
  },
  {
   "cell_type": "code",
   "execution_count": null,
   "metadata": {},
   "outputs": [],
   "source": [
    "coVec = CountVectorizer()"
   ]
  },
  {
   "cell_type": "code",
   "execution_count": null,
   "metadata": {},
   "outputs": [],
   "source": [
    "c = coVec.fit_transform([x, y])\n",
    "c"
   ]
  },
  {
   "cell_type": "code",
   "execution_count": null,
   "metadata": {},
   "outputs": [],
   "source": [
    "# kata yang terkandung\n",
    "coVec.get_feature_names()"
   ]
  },
  {
   "cell_type": "code",
   "execution_count": null,
   "metadata": {},
   "outputs": [],
   "source": [
    "# matriks freq: freq tiap kata di setiap data\n",
    "mf = c.toarray()\n",
    "mf\n",
    "\n",
    "# [[1, 1, 1], => data 1 => Andi:1x, Budi:1x, Caca:1x\n",
    "# [1, 1, 1]]  => data 2 => Andi:1x, Budi:1x, Caca:1x"
   ]
  },
  {
   "cell_type": "code",
   "execution_count": null,
   "metadata": {},
   "outputs": [],
   "source": [
    "similarityScore = cosine_similarity(mf)\n",
    "similarityScore\n",
    "\n",
    "#      X   Y\n",
    "# X [[1., 1.],\n",
    "# Y  [1., 1.]]"
   ]
  },
  {
   "cell_type": "code",
   "execution_count": null,
   "metadata": {},
   "outputs": [],
   "source": [
    "# data beda sedikit\n",
    "\n",
    "x = 'Andi Budi Caca'\n",
    "y = 'Andi Budi Budi'\n",
    "\n",
    "coVec = CountVectorizer()\n",
    "cm = coVec.fit_transform([x, y])\n",
    "print(coVec.get_feature_names())\n",
    "print(cm.toarray())\n",
    "\n",
    "similarityScore = cosine_similarity(cm.toarray())\n",
    "print(similarityScore)"
   ]
  },
  {
   "cell_type": "markdown",
   "metadata": {},
   "source": [
    "<hr>\n",
    "\n",
    "__C. Contoh Kasus__\n",
    "\n",
    "- Dataset: [USA Cars Dataset](https://www.kaggle.com/doaaalsenani/usa-cers-dataset)\n",
    "- Content-based filtering rekomendasi berdasarkan __*brand*__ & __*color*__"
   ]
  },
  {
   "cell_type": "code",
   "execution_count": null,
   "metadata": {},
   "outputs": [],
   "source": [
    "dfCars = pd.read_csv('USA_cars_datasets.csv')\n",
    "dfCars.head(3)"
   ]
  },
  {
   "cell_type": "code",
   "execution_count": null,
   "metadata": {},
   "outputs": [],
   "source": [
    "# 1. create column dengan value = kombinasi value \"BRAND\" & \"COLOR\"\n",
    "\n",
    "dfCars['B&C'] = dfCars.apply(lambda row:str(row['brand']) + ' ' + str(row['color']), axis=1)\n",
    "dfCars.head(3)"
   ]
  },
  {
   "cell_type": "code",
   "execution_count": null,
   "metadata": {},
   "outputs": [],
   "source": [
    "# 2. count vectorizer: hitung kata tiap data di column \"B&C\"\n",
    "\n",
    "cv = CountVectorizer()\n",
    "cm = cv.fit_transform(dfCars['B&C'])\n",
    "\n",
    "# total kata unik di col B&C\n",
    "print(cv.get_feature_names())\n",
    "\n",
    "# matrix freq tiap kata di tiap data\n",
    "print(cm.toarray())\n",
    "# print(cm.toarray()[0])"
   ]
  },
  {
   "cell_type": "code",
   "execution_count": null,
   "metadata": {},
   "outputs": [],
   "source": [
    "# 3. Cosine similarity dari tiap data di matrix freq\n",
    "\n",
    "cosScore = cosine_similarity(cm.toarray())\n",
    "cosScore"
   ]
  },
  {
   "cell_type": "code",
   "execution_count": null,
   "metadata": {},
   "outputs": [],
   "source": [
    "# 4. Gunakan cos score sbg data rekomendasi\n",
    "# saya suka mobil data pertama (index = 21)\n",
    "sayaSuka = 21\n",
    "\n",
    "# daftar seluruh mobil beserta cos score\n",
    "similarCars = list(enumerate(cosScore[sayaSuka]))\n",
    "# similarCars  # (index, %similarity)"
   ]
  },
  {
   "cell_type": "code",
   "execution_count": null,
   "metadata": {},
   "outputs": [],
   "source": [
    "# sort berdasarkan %similarity\n",
    "similarCars = sorted(similarCars, key=lambda x: x[1], reverse=True)\n",
    "# similarCars"
   ]
  },
  {
   "cell_type": "code",
   "execution_count": null,
   "metadata": {},
   "outputs": [],
   "source": [
    "# 5 mobil yang mirip\n",
    "\n",
    "# similarCars[:6]\n",
    "\n",
    "dfSim = []\n",
    "for i in similarCars[:6]:\n",
    "    dfSim.append(dfCars.iloc[i[0]])\n",
    "dfSim = pd.DataFrame(dfSim)\n",
    "dfSim"
   ]
  }
 ],
 "metadata": {
  "kernelspec": {
   "display_name": "Python 3 (ipykernel)",
   "language": "python",
   "name": "python3"
  },
  "language_info": {
   "codemirror_mode": {
    "name": "ipython",
    "version": 3
   },
   "file_extension": ".py",
   "mimetype": "text/x-python",
   "name": "python",
   "nbconvert_exporter": "python",
   "pygments_lexer": "ipython3",
   "version": "3.10.5"
  }
 },
 "nbformat": 4,
 "nbformat_minor": 4
}
