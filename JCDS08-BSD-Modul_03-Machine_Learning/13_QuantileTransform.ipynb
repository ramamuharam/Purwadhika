{
 "cells": [
  {
   "cell_type": "markdown",
   "metadata": {},
   "source": [
    "# Transformer"
   ]
  },
  {
   "cell_type": "code",
   "execution_count": 4,
   "metadata": {},
   "outputs": [],
   "source": [
    "import numpy as np\n",
    "import pandas as pd\n",
    "import matplotlib.pyplot as plt\n",
    "import seaborn as sb"
   ]
  },
  {
   "cell_type": "code",
   "execution_count": 7,
   "metadata": {},
   "outputs": [
    {
     "data": {
      "text/html": [
       "<div>\n",
       "<style scoped>\n",
       "    .dataframe tbody tr th:only-of-type {\n",
       "        vertical-align: middle;\n",
       "    }\n",
       "\n",
       "    .dataframe tbody tr th {\n",
       "        vertical-align: top;\n",
       "    }\n",
       "\n",
       "    .dataframe thead th {\n",
       "        text-align: right;\n",
       "    }\n",
       "</style>\n",
       "<table border=\"1\" class=\"dataframe\">\n",
       "  <thead>\n",
       "    <tr style=\"text-align: right;\">\n",
       "      <th></th>\n",
       "      <th>TB</th>\n",
       "      <th>BB</th>\n",
       "    </tr>\n",
       "  </thead>\n",
       "  <tbody>\n",
       "    <tr>\n",
       "      <th>0</th>\n",
       "      <td>1.72</td>\n",
       "      <td>76</td>\n",
       "    </tr>\n",
       "    <tr>\n",
       "      <th>1</th>\n",
       "      <td>1.81</td>\n",
       "      <td>65</td>\n",
       "    </tr>\n",
       "    <tr>\n",
       "      <th>2</th>\n",
       "      <td>1.93</td>\n",
       "      <td>87</td>\n",
       "    </tr>\n",
       "    <tr>\n",
       "      <th>3</th>\n",
       "      <td>1.67</td>\n",
       "      <td>55</td>\n",
       "    </tr>\n",
       "    <tr>\n",
       "      <th>4</th>\n",
       "      <td>1.85</td>\n",
       "      <td>60</td>\n",
       "    </tr>\n",
       "  </tbody>\n",
       "</table>\n",
       "</div>"
      ],
      "text/plain": [
       "     TB  BB\n",
       "0  1.72  76\n",
       "1  1.81  65\n",
       "2  1.93  87\n",
       "3  1.67  55\n",
       "4  1.85  60"
      ]
     },
     "execution_count": 7,
     "metadata": {},
     "output_type": "execute_result"
    }
   ],
   "source": [
    "df = pd.DataFrame({\n",
    "    'TB': [1.72, 1.81, 1.93, 1.67, 1.85, 1.66, 1.59, 1.76, 1.88, 1.78],\n",
    "    'BB': [76, 65, 87, 55, 60, 78, 98, 77, 74, 64]\n",
    "})\n",
    "df.head()"
   ]
  },
  {
   "cell_type": "code",
   "execution_count": 9,
   "metadata": {},
   "outputs": [
    {
     "data": {
      "image/png": "[encoded data removed]",
      "text/plain": [
       "<Figure size 360x360 with 6 Axes>"
      ]
     },
     "metadata": {
      "needs_background": "light"
     },
     "output_type": "display_data"
    }
   ],
   "source": [
    "sb.pairplot(df)\n",
    "plt.show()"
   ]
  },
  {
   "cell_type": "markdown",
   "metadata": {},
   "source": [
    "<hr>\n",
    "\n",
    "### B1. Quantile Transformer ```QuantileTransformer()```\n",
    "\n",
    "- __Uniform Distribution__ & __Normal Distribution__"
   ]
  },
  {
   "cell_type": "code",
   "execution_count": 10,
   "metadata": {},
   "outputs": [],
   "source": [
    "from sklearn.preprocessing import QuantileTransformer"
   ]
  },
  {
   "cell_type": "code",
   "execution_count": 11,
   "metadata": {},
   "outputs": [],
   "source": [
    "qunitrans = QuantileTransformer(output_distribution='uniform')\n",
    "qnortrans = QuantileTransformer(output_distribution='normal')"
   ]
  },
  {
   "cell_type": "code",
   "execution_count": 17,
   "metadata": {},
   "outputs": [
    {
     "name": "stderr",
     "output_type": "stream",
     "text": [
      "C:\\Users\\HP\\AppData\\Local\\Programs\\Python\\Python38-32\\lib\\site-packages\\sklearn\\preprocessing\\_data.py:2354: UserWarning: n_quantiles (1000) is greater than the total number of samples (10). n_quantiles is set to n_samples.\n",
      "  warnings.warn(\"n_quantiles (%s) is greater than the total number \"\n",
      "C:\\Users\\HP\\AppData\\Local\\Programs\\Python\\Python38-32\\lib\\site-packages\\sklearn\\preprocessing\\_data.py:2354: UserWarning: n_quantiles (1000) is greater than the total number of samples (10). n_quantiles is set to n_samples.\n",
      "  warnings.warn(\"n_quantiles (%s) is greater than the total number \"\n"
     ]
    },
    {
     "data": {
      "text/html": [
       "<div>\n",
       "<style scoped>\n",
       "    .dataframe tbody tr th:only-of-type {\n",
       "        vertical-align: middle;\n",
       "    }\n",
       "\n",
       "    .dataframe tbody tr th {\n",
       "        vertical-align: top;\n",
       "    }\n",
       "\n",
       "    .dataframe thead th {\n",
       "        text-align: right;\n",
       "    }\n",
       "</style>\n",
       "<table border=\"1\" class=\"dataframe\">\n",
       "  <thead>\n",
       "    <tr style=\"text-align: right;\">\n",
       "      <th></th>\n",
       "      <th>TB</th>\n",
       "      <th>BB</th>\n",
       "      <th>TB quni</th>\n",
       "      <th>BB quni</th>\n",
       "      <th>TB qnor</th>\n",
       "      <th>BB qnor</th>\n",
       "    </tr>\n",
       "  </thead>\n",
       "  <tbody>\n",
       "    <tr>\n",
       "      <th>0</th>\n",
       "      <td>1.72</td>\n",
       "      <td>76</td>\n",
       "      <td>0.333333</td>\n",
       "      <td>0.555556</td>\n",
       "      <td>-0.430727</td>\n",
       "      <td>0.139710</td>\n",
       "    </tr>\n",
       "    <tr>\n",
       "      <th>1</th>\n",
       "      <td>1.81</td>\n",
       "      <td>65</td>\n",
       "      <td>0.666667</td>\n",
       "      <td>0.333333</td>\n",
       "      <td>0.430727</td>\n",
       "      <td>-0.430727</td>\n",
       "    </tr>\n",
       "    <tr>\n",
       "      <th>2</th>\n",
       "      <td>1.93</td>\n",
       "      <td>87</td>\n",
       "      <td>1.000000</td>\n",
       "      <td>0.888889</td>\n",
       "      <td>5.199338</td>\n",
       "      <td>1.220640</td>\n",
       "    </tr>\n",
       "    <tr>\n",
       "      <th>3</th>\n",
       "      <td>1.67</td>\n",
       "      <td>55</td>\n",
       "      <td>0.222222</td>\n",
       "      <td>0.000000</td>\n",
       "      <td>-0.764710</td>\n",
       "      <td>-5.199338</td>\n",
       "    </tr>\n",
       "    <tr>\n",
       "      <th>4</th>\n",
       "      <td>1.85</td>\n",
       "      <td>60</td>\n",
       "      <td>0.777778</td>\n",
       "      <td>0.111111</td>\n",
       "      <td>0.764710</td>\n",
       "      <td>-1.220640</td>\n",
       "    </tr>\n",
       "    <tr>\n",
       "      <th>5</th>\n",
       "      <td>1.66</td>\n",
       "      <td>78</td>\n",
       "      <td>0.111111</td>\n",
       "      <td>0.777778</td>\n",
       "      <td>-1.220640</td>\n",
       "      <td>0.764710</td>\n",
       "    </tr>\n",
       "    <tr>\n",
       "      <th>6</th>\n",
       "      <td>1.59</td>\n",
       "      <td>98</td>\n",
       "      <td>0.000000</td>\n",
       "      <td>1.000000</td>\n",
       "      <td>-5.199338</td>\n",
       "      <td>5.199338</td>\n",
       "    </tr>\n",
       "    <tr>\n",
       "      <th>7</th>\n",
       "      <td>1.76</td>\n",
       "      <td>77</td>\n",
       "      <td>0.444444</td>\n",
       "      <td>0.666667</td>\n",
       "      <td>-0.139710</td>\n",
       "      <td>0.430727</td>\n",
       "    </tr>\n",
       "    <tr>\n",
       "      <th>8</th>\n",
       "      <td>1.88</td>\n",
       "      <td>74</td>\n",
       "      <td>0.888889</td>\n",
       "      <td>0.444444</td>\n",
       "      <td>1.220640</td>\n",
       "      <td>-0.139710</td>\n",
       "    </tr>\n",
       "    <tr>\n",
       "      <th>9</th>\n",
       "      <td>1.78</td>\n",
       "      <td>64</td>\n",
       "      <td>0.555556</td>\n",
       "      <td>0.222222</td>\n",
       "      <td>0.139710</td>\n",
       "      <td>-0.764710</td>\n",
       "    </tr>\n",
       "  </tbody>\n",
       "</table>\n",
       "</div>"
      ],
      "text/plain": [
       "     TB  BB   TB quni   BB quni   TB qnor   BB qnor\n",
       "0  1.72  76  0.333333  0.555556 -0.430727  0.139710\n",
       "1  1.81  65  0.666667  0.333333  0.430727 -0.430727\n",
       "2  1.93  87  1.000000  0.888889  5.199338  1.220640\n",
       "3  1.67  55  0.222222  0.000000 -0.764710 -5.199338\n",
       "4  1.85  60  0.777778  0.111111  0.764710 -1.220640\n",
       "5  1.66  78  0.111111  0.777778 -1.220640  0.764710\n",
       "6  1.59  98  0.000000  1.000000 -5.199338  5.199338\n",
       "7  1.76  77  0.444444  0.666667 -0.139710  0.430727\n",
       "8  1.88  74  0.888889  0.444444  1.220640 -0.139710\n",
       "9  1.78  64  0.555556  0.222222  0.139710 -0.764710"
      ]
     },
     "execution_count": 17,
     "metadata": {},
     "output_type": "execute_result"
    }
   ],
   "source": [
    "quni = qunitrans.fit_transform(df[['TB', 'BB']])\n",
    "qnor = qnortrans.fit_transform(df[['TB', 'BB']])\n",
    "\n",
    "df['TB quni'] = quni[:, 0]\n",
    "df['BB quni'] = quni[:, 1]\n",
    "df['TB qnor'] = qnor[:, 0]\n",
    "df['BB qnor'] = qnor[:, 1]\n",
    "\n",
    "df"
   ]
  },
  {
   "cell_type": "code",
   "execution_count": 19,
   "metadata": {},
   "outputs": [
    {
     "data": {
      "image/png": "[encoded data removed]",
      "text/plain": [
       "<Figure size 1080x1080 with 42 Axes>"
      ]
     },
     "metadata": {
      "needs_background": "light"
     },
     "output_type": "display_data"
    }
   ],
   "source": [
    "sb.pairplot(df)\n",
    "plt.show()"
   ]
  },
  {
   "cell_type": "markdown",
   "metadata": {},
   "source": [
    "<hr>\n",
    "\n",
    "### B2. Quantile Transformer ```quantile_transform()```\n",
    "\n",
    "- __Uniform Distribution__ & __Normal Distribution__"
   ]
  },
  {
   "cell_type": "code",
   "execution_count": 23,
   "metadata": {},
   "outputs": [],
   "source": [
    "from sklearn.preprocessing import quantile_transform"
   ]
  },
  {
   "cell_type": "code",
   "execution_count": 24,
   "metadata": {},
   "outputs": [
    {
     "name": "stderr",
     "output_type": "stream",
     "text": [
      "C:\\Users\\HP\\AppData\\Local\\Programs\\Python\\Python38-32\\lib\\site-packages\\sklearn\\preprocessing\\_data.py:2663: FutureWarning: The default value of `copy` will change from False to True in 0.23 in order to make it more consistent with the default `copy` values of other functions in :mod:`sklearn.preprocessing` and prevent unexpected side effects by modifying the value of `X` inplace. To avoid inplace modifications of `X`, it is recommended to explicitly set `copy=True`\n",
      "  warnings.warn(\"The default value of `copy` will change from False to \"\n",
      "C:\\Users\\HP\\AppData\\Local\\Programs\\Python\\Python38-32\\lib\\site-packages\\sklearn\\preprocessing\\_data.py:2354: UserWarning: n_quantiles (1000) is greater than the total number of samples (10). n_quantiles is set to n_samples.\n",
      "  warnings.warn(\"n_quantiles (%s) is greater than the total number \"\n"
     ]
    },
    {
     "data": {
      "text/plain": [
       "array([[0.33333333, 0.55555556],\n",
       "       [0.66666667, 0.33333333],\n",
       "       [1.        , 0.88888889],\n",
       "       [0.22222222, 0.        ],\n",
       "       [0.77777778, 0.11111111],\n",
       "       [0.11111111, 0.77777778],\n",
       "       [0.        , 1.        ],\n",
       "       [0.44444444, 0.66666667],\n",
       "       [0.88888889, 0.44444444],\n",
       "       [0.55555556, 0.22222222]])"
      ]
     },
     "execution_count": 24,
     "metadata": {},
     "output_type": "execute_result"
    }
   ],
   "source": [
    "quantile_transform(df[['TB', 'BB']], output_distribution='uniform')"
   ]
  },
  {
   "cell_type": "code",
   "execution_count": 25,
   "metadata": {},
   "outputs": [
    {
     "name": "stderr",
     "output_type": "stream",
     "text": [
      "C:\\Users\\HP\\AppData\\Local\\Programs\\Python\\Python38-32\\lib\\site-packages\\sklearn\\preprocessing\\_data.py:2663: FutureWarning: The default value of `copy` will change from False to True in 0.23 in order to make it more consistent with the default `copy` values of other functions in :mod:`sklearn.preprocessing` and prevent unexpected side effects by modifying the value of `X` inplace. To avoid inplace modifications of `X`, it is recommended to explicitly set `copy=True`\n",
      "  warnings.warn(\"The default value of `copy` will change from False to \"\n",
      "C:\\Users\\HP\\AppData\\Local\\Programs\\Python\\Python38-32\\lib\\site-packages\\sklearn\\preprocessing\\_data.py:2354: UserWarning: n_quantiles (1000) is greater than the total number of samples (10). n_quantiles is set to n_samples.\n",
      "  warnings.warn(\"n_quantiles (%s) is greater than the total number \"\n"
     ]
    },
    {
     "data": {
      "text/plain": [
       "array([[-0.4307273 ,  0.1397103 ],\n",
       "       [ 0.4307273 , -0.4307273 ],\n",
       "       [ 5.19933758,  1.22064035],\n",
       "       [-0.76470967, -5.19933758],\n",
       "       [ 0.76470967, -1.22064035],\n",
       "       [-1.22064035,  0.76470967],\n",
       "       [-5.19933758,  5.19933758],\n",
       "       [-0.1397103 ,  0.4307273 ],\n",
       "       [ 1.22064035, -0.1397103 ],\n",
       "       [ 0.1397103 , -0.76470967]])"
      ]
     },
     "execution_count": 25,
     "metadata": {},
     "output_type": "execute_result"
    }
   ],
   "source": [
    "quantile_transform(df[['TB', 'BB']], output_distribution='normal')"
   ]
  }
 ],
 "metadata": {
  "kernelspec": {
   "display_name": "Python 3.8.1 32-bit",
   "language": "python",
   "name": "python38132bit17e97fd0e138494882eb6a23af8acc7d"
  },
  "language_info": {
   "codemirror_mode": {
    "name": "ipython",
    "version": 3
   },
   "file_extension": ".py",
   "mimetype": "text/x-python",
   "name": "python",
   "nbconvert_exporter": "python",
   "pygments_lexer": "ipython3",
   "version": "3.8.1"
  }
 },
 "nbformat": 4,
 "nbformat_minor": 4
}
