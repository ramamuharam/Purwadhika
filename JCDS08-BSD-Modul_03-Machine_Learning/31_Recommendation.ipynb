{
 "cells": [
  {
   "cell_type": "markdown",
   "metadata": {},
   "source": [
    "# Recommendation System\n",
    "\n",
    "- Top/Popular Based Filtering\n",
    "- Content Based Filtering\n",
    "- Collaborative Filtering\n",
    "\n",
    "<img src=\"https://miro.medium.com/max/4056/1*yrkvweErbifbPFkBUyZlOw.png\" \n",
    "     width=\"500px\">"
   ]
  },
  {
   "cell_type": "code",
   "execution_count": 1,
   "metadata": {},
   "outputs": [],
   "source": [
    "import numpy as np\n",
    "import pandas as pd"
   ]
  },
  {
   "cell_type": "markdown",
   "metadata": {},
   "source": [
    "<hr>\n",
    "\n",
    "### 1. Content-based Filtering\n",
    "\n",
    "__A. Cosinus similarity__\n",
    "\n",
    "- Menghitung kesamaan data berdasarkan value & pola value\n",
    "- Di sklearn, gunakan ```cosine_similarity```"
   ]
  },
  {
   "cell_type": "code",
   "execution_count": 2,
   "metadata": {},
   "outputs": [],
   "source": [
    "from sklearn.metrics.pairwise import cosine_similarity"
   ]
  },
  {
   "cell_type": "code",
   "execution_count": 3,
   "metadata": {},
   "outputs": [],
   "source": [
    "x = np.array([1, 2, 3])\n",
    "y = np.array([1, 2, 3])"
   ]
  },
  {
   "cell_type": "code",
   "execution_count": 4,
   "metadata": {},
   "outputs": [
    {
     "data": {
      "text/plain": [
       "array([[1., 1.],\n",
       "       [1., 1.]])"
      ]
     },
     "execution_count": 4,
     "metadata": {},
     "output_type": "execute_result"
    }
   ],
   "source": [
    "similarityScore = cosine_similarity([x, y])\n",
    "similarityScore"
   ]
  },
  {
   "cell_type": "code",
   "execution_count": 5,
   "metadata": {},
   "outputs": [
    {
     "data": {
      "text/html": [
       "<div>\n",
       "<style scoped>\n",
       "    .dataframe tbody tr th:only-of-type {\n",
       "        vertical-align: middle;\n",
       "    }\n",
       "\n",
       "    .dataframe tbody tr th {\n",
       "        vertical-align: top;\n",
       "    }\n",
       "\n",
       "    .dataframe thead th {\n",
       "        text-align: right;\n",
       "    }\n",
       "</style>\n",
       "<table border=\"1\" class=\"dataframe\">\n",
       "  <thead>\n",
       "    <tr style=\"text-align: right;\">\n",
       "      <th></th>\n",
       "      <th>x</th>\n",
       "      <th>y</th>\n",
       "    </tr>\n",
       "  </thead>\n",
       "  <tbody>\n",
       "    <tr>\n",
       "      <th>x</th>\n",
       "      <td>1.0</td>\n",
       "      <td>1.0</td>\n",
       "    </tr>\n",
       "    <tr>\n",
       "      <th>y</th>\n",
       "      <td>1.0</td>\n",
       "      <td>1.0</td>\n",
       "    </tr>\n",
       "  </tbody>\n",
       "</table>\n",
       "</div>"
      ],
      "text/plain": [
       "     x    y\n",
       "x  1.0  1.0\n",
       "y  1.0  1.0"
      ]
     },
     "execution_count": 5,
     "metadata": {},
     "output_type": "execute_result"
    }
   ],
   "source": [
    "simDf = pd.DataFrame(\n",
    "    similarityScore,\n",
    "    columns = ['x', 'y'],\n",
    "    index = ['x', 'y']\n",
    ")\n",
    "simDf"
   ]
  },
  {
   "cell_type": "code",
   "execution_count": 6,
   "metadata": {},
   "outputs": [
    {
     "data": {
      "text/plain": [
       "array([[1.        , 0.94280904],\n",
       "       [0.94280904, 1.        ]])"
      ]
     },
     "execution_count": 6,
     "metadata": {},
     "output_type": "execute_result"
    }
   ],
   "source": [
    "# data berbeda 1 elemen\n",
    "\n",
    "x = np.array([1, 1, 1])\n",
    "y = np.array([1, 2, 1])\n",
    "similarityScore = cosine_similarity([x, y])\n",
    "similarityScore"
   ]
  },
  {
   "cell_type": "code",
   "execution_count": 7,
   "metadata": {},
   "outputs": [
    {
     "data": {
      "text/plain": [
       "array([[1., 1.],\n",
       "       [1., 1.]])"
      ]
     },
     "execution_count": 7,
     "metadata": {},
     "output_type": "execute_result"
    }
   ],
   "source": [
    "# 2 data berbeda elemen, namun tiap data semua elemennya sama\n",
    "\n",
    "x = np.array([1, 1, 1])\n",
    "y = np.array([2, 2, 2])\n",
    "similarityScore = cosine_similarity([x, y])\n",
    "similarityScore"
   ]
  },
  {
   "cell_type": "code",
   "execution_count": 11,
   "metadata": {},
   "outputs": [
    {
     "data": {
      "text/plain": [
       "array([[1.        , 0.61639313],\n",
       "       [0.61639313, 1.        ]])"
      ]
     },
     "execution_count": 11,
     "metadata": {},
     "output_type": "execute_result"
    }
   ],
   "source": [
    "# data 1 = 1,2,3 & data 2 = 5,5,5\n",
    "\n",
    "x = np.array([1, 2, 3])\n",
    "y = np.array([5, 5, 5])\n",
    "similarityScore = cosine_similarity([x, y])\n",
    "similarityScore"
   ]
  },
  {
   "cell_type": "code",
   "execution_count": 12,
   "metadata": {},
   "outputs": [
    {
     "data": {
      "text/plain": [
       "array([[1.        , 0.61639313],\n",
       "       [0.61639313, 1.        ]])"
      ]
     },
     "execution_count": 12,
     "metadata": {},
     "output_type": "execute_result"
    }
   ],
   "source": [
    "# data 1 = 1,20,300 & data 2 = 5,5,5\n",
    "\n",
    "x = np.array([1, 20, 300])\n",
    "y = np.array([5, 5, 5])\n",
    "similarityScore = cosine_similarity([x, y])\n",
    "similarityScore"
   ]
  },
  {
   "cell_type": "markdown",
   "metadata": {},
   "source": [
    "<hr>\n",
    "\n",
    "__B. Count vectorizer__\n",
    "\n",
    "- Bagaimana menghitung cos similarity untuk categorical data (value berupa string)?\n",
    "- Data diekstrak untuk menentukan jumlah tiap kata. Jumlah tiap kata dalam data dicari cos similarity-nya.\n",
    "- Di sklearn, gunakan ```CountVectorizer```"
   ]
  },
  {
   "cell_type": "code",
   "execution_count": 17,
   "metadata": {},
   "outputs": [],
   "source": [
    "from sklearn.feature_extraction.text import CountVectorizer"
   ]
  },
  {
   "cell_type": "code",
   "execution_count": 19,
   "metadata": {},
   "outputs": [],
   "source": [
    "x = 'Andi Budi Caca'\n",
    "y = 'Andi Budi Caca'"
   ]
  },
  {
   "cell_type": "code",
   "execution_count": 20,
   "metadata": {},
   "outputs": [],
   "source": [
    "coVec = CountVectorizer()"
   ]
  },
  {
   "cell_type": "code",
   "execution_count": 23,
   "metadata": {},
   "outputs": [
    {
     "data": {
      "text/plain": [
       "<2x3 sparse matrix of type '<class 'numpy.int64'>'\n",
       "\twith 6 stored elements in Compressed Sparse Row format>"
      ]
     },
     "execution_count": 23,
     "metadata": {},
     "output_type": "execute_result"
    }
   ],
   "source": [
    "c = coVec.fit_transform([x, y])\n",
    "c"
   ]
  },
  {
   "cell_type": "code",
   "execution_count": 25,
   "metadata": {},
   "outputs": [
    {
     "data": {
      "text/plain": [
       "['andi', 'budi', 'caca']"
      ]
     },
     "execution_count": 25,
     "metadata": {},
     "output_type": "execute_result"
    }
   ],
   "source": [
    "# kata yang terkandung\n",
    "coVec.get_feature_names()"
   ]
  },
  {
   "cell_type": "code",
   "execution_count": 29,
   "metadata": {},
   "outputs": [
    {
     "data": {
      "text/plain": [
       "array([[1, 1, 1],\n",
       "       [1, 1, 1]], dtype=int64)"
      ]
     },
     "execution_count": 29,
     "metadata": {},
     "output_type": "execute_result"
    }
   ],
   "source": [
    "# matriks freq: freq tiap kata di setiap data\n",
    "mf = c.toarray()\n",
    "mf\n",
    "\n",
    "# [[1, 1, 1], => data 1 => Andi:1x, Budi:1x, Caca:1x\n",
    "# [1, 1, 1]]  => data 2 => Andi:1x, Budi:1x, Caca:1x"
   ]
  },
  {
   "cell_type": "code",
   "execution_count": 28,
   "metadata": {},
   "outputs": [
    {
     "data": {
      "text/plain": [
       "array([[1., 1.],\n",
       "       [1., 1.]])"
      ]
     },
     "execution_count": 28,
     "metadata": {},
     "output_type": "execute_result"
    }
   ],
   "source": [
    "similarityScore = cosine_similarity(mf)\n",
    "similarityScore\n",
    "\n",
    "#      X   Y\n",
    "# X [[1., 1.],\n",
    "# Y  [1., 1.]]"
   ]
  },
  {
   "cell_type": "code",
   "execution_count": 33,
   "metadata": {},
   "outputs": [
    {
     "name": "stdout",
     "output_type": "stream",
     "text": [
      "['andi', 'budi', 'caca']\n",
      "[[1 1 1]\n",
      " [1 2 0]]\n",
      "[[1.         0.77459667]\n",
      " [0.77459667 1.        ]]\n"
     ]
    }
   ],
   "source": [
    "# data beda sedikit\n",
    "\n",
    "x = 'Andi Budi Caca'\n",
    "y = 'Andi Budi Budi'\n",
    "\n",
    "coVec = CountVectorizer()\n",
    "cm = coVec.fit_transform([x, y])\n",
    "print(coVec.get_feature_names())\n",
    "print(cm.toarray())\n",
    "\n",
    "similarityScore = cosine_similarity(cm.toarray())\n",
    "print(similarityScore)"
   ]
  },
  {
   "cell_type": "markdown",
   "metadata": {},
   "source": [
    "<hr>\n",
    "\n",
    "__C. Contoh Kasus__\n",
    "\n",
    "- Dataset: [USA Cars Dataset](https://www.kaggle.com/doaaalsenani/usa-cers-dataset)\n",
    "- Content-based filtering rekomendasi berdasarkan __*brand*__ & __*color*__"
   ]
  },
  {
   "cell_type": "code",
   "execution_count": 35,
   "metadata": {},
   "outputs": [
    {
     "data": {
      "text/html": [
       "<div>\n",
       "<style scoped>\n",
       "    .dataframe tbody tr th:only-of-type {\n",
       "        vertical-align: middle;\n",
       "    }\n",
       "\n",
       "    .dataframe tbody tr th {\n",
       "        vertical-align: top;\n",
       "    }\n",
       "\n",
       "    .dataframe thead th {\n",
       "        text-align: right;\n",
       "    }\n",
       "</style>\n",
       "<table border=\"1\" class=\"dataframe\">\n",
       "  <thead>\n",
       "    <tr style=\"text-align: right;\">\n",
       "      <th></th>\n",
       "      <th>Unnamed: 0</th>\n",
       "      <th>price</th>\n",
       "      <th>brand</th>\n",
       "      <th>model</th>\n",
       "      <th>year</th>\n",
       "      <th>title_status</th>\n",
       "      <th>mileage</th>\n",
       "      <th>color</th>\n",
       "      <th>vin</th>\n",
       "      <th>lot</th>\n",
       "      <th>state</th>\n",
       "      <th>country</th>\n",
       "      <th>condition</th>\n",
       "    </tr>\n",
       "  </thead>\n",
       "  <tbody>\n",
       "    <tr>\n",
       "      <th>0</th>\n",
       "      <td>0</td>\n",
       "      <td>6300</td>\n",
       "      <td>toyota</td>\n",
       "      <td>cruiser</td>\n",
       "      <td>2008</td>\n",
       "      <td>clean vehicle</td>\n",
       "      <td>274117.0</td>\n",
       "      <td>black</td>\n",
       "      <td>jtezu11f88k007763</td>\n",
       "      <td>159348797</td>\n",
       "      <td>new jersey</td>\n",
       "      <td>usa</td>\n",
       "      <td>10 days left</td>\n",
       "    </tr>\n",
       "    <tr>\n",
       "      <th>1</th>\n",
       "      <td>1</td>\n",
       "      <td>2899</td>\n",
       "      <td>ford</td>\n",
       "      <td>se</td>\n",
       "      <td>2011</td>\n",
       "      <td>clean vehicle</td>\n",
       "      <td>190552.0</td>\n",
       "      <td>silver</td>\n",
       "      <td>2fmdk3gc4bbb02217</td>\n",
       "      <td>166951262</td>\n",
       "      <td>tennessee</td>\n",
       "      <td>usa</td>\n",
       "      <td>6 days left</td>\n",
       "    </tr>\n",
       "    <tr>\n",
       "      <th>2</th>\n",
       "      <td>2</td>\n",
       "      <td>5350</td>\n",
       "      <td>dodge</td>\n",
       "      <td>mpv</td>\n",
       "      <td>2018</td>\n",
       "      <td>clean vehicle</td>\n",
       "      <td>39590.0</td>\n",
       "      <td>silver</td>\n",
       "      <td>3c4pdcgg5jt346413</td>\n",
       "      <td>167655728</td>\n",
       "      <td>georgia</td>\n",
       "      <td>usa</td>\n",
       "      <td>2 days left</td>\n",
       "    </tr>\n",
       "  </tbody>\n",
       "</table>\n",
       "</div>"
      ],
      "text/plain": [
       "   Unnamed: 0  price   brand    model  year   title_status   mileage   color  \\\n",
       "0           0   6300  toyota  cruiser  2008  clean vehicle  274117.0   black   \n",
       "1           1   2899    ford       se  2011  clean vehicle  190552.0  silver   \n",
       "2           2   5350   dodge      mpv  2018  clean vehicle   39590.0  silver   \n",
       "\n",
       "                   vin        lot       state country     condition  \n",
       "0    jtezu11f88k007763  159348797  new jersey     usa  10 days left  \n",
       "1    2fmdk3gc4bbb02217  166951262   tennessee     usa   6 days left  \n",
       "2    3c4pdcgg5jt346413  167655728     georgia     usa   2 days left  "
      ]
     },
     "execution_count": 35,
     "metadata": {},
     "output_type": "execute_result"
    }
   ],
   "source": [
    "dfCars = pd.read_csv('USA_cars_datasets.csv')\n",
    "dfCars.head(3)"
   ]
  },
  {
   "cell_type": "code",
   "execution_count": 37,
   "metadata": {},
   "outputs": [
    {
     "data": {
      "text/html": [
       "<div>\n",
       "<style scoped>\n",
       "    .dataframe tbody tr th:only-of-type {\n",
       "        vertical-align: middle;\n",
       "    }\n",
       "\n",
       "    .dataframe tbody tr th {\n",
       "        vertical-align: top;\n",
       "    }\n",
       "\n",
       "    .dataframe thead th {\n",
       "        text-align: right;\n",
       "    }\n",
       "</style>\n",
       "<table border=\"1\" class=\"dataframe\">\n",
       "  <thead>\n",
       "    <tr style=\"text-align: right;\">\n",
       "      <th></th>\n",
       "      <th>Unnamed: 0</th>\n",
       "      <th>price</th>\n",
       "      <th>brand</th>\n",
       "      <th>model</th>\n",
       "      <th>year</th>\n",
       "      <th>title_status</th>\n",
       "      <th>mileage</th>\n",
       "      <th>color</th>\n",
       "      <th>vin</th>\n",
       "      <th>lot</th>\n",
       "      <th>state</th>\n",
       "      <th>country</th>\n",
       "      <th>condition</th>\n",
       "      <th>B&amp;C</th>\n",
       "    </tr>\n",
       "  </thead>\n",
       "  <tbody>\n",
       "    <tr>\n",
       "      <th>0</th>\n",
       "      <td>0</td>\n",
       "      <td>6300</td>\n",
       "      <td>toyota</td>\n",
       "      <td>cruiser</td>\n",
       "      <td>2008</td>\n",
       "      <td>clean vehicle</td>\n",
       "      <td>274117.0</td>\n",
       "      <td>black</td>\n",
       "      <td>jtezu11f88k007763</td>\n",
       "      <td>159348797</td>\n",
       "      <td>new jersey</td>\n",
       "      <td>usa</td>\n",
       "      <td>10 days left</td>\n",
       "      <td>toyota black</td>\n",
       "    </tr>\n",
       "    <tr>\n",
       "      <th>1</th>\n",
       "      <td>1</td>\n",
       "      <td>2899</td>\n",
       "      <td>ford</td>\n",
       "      <td>se</td>\n",
       "      <td>2011</td>\n",
       "      <td>clean vehicle</td>\n",
       "      <td>190552.0</td>\n",
       "      <td>silver</td>\n",
       "      <td>2fmdk3gc4bbb02217</td>\n",
       "      <td>166951262</td>\n",
       "      <td>tennessee</td>\n",
       "      <td>usa</td>\n",
       "      <td>6 days left</td>\n",
       "      <td>ford silver</td>\n",
       "    </tr>\n",
       "    <tr>\n",
       "      <th>2</th>\n",
       "      <td>2</td>\n",
       "      <td>5350</td>\n",
       "      <td>dodge</td>\n",
       "      <td>mpv</td>\n",
       "      <td>2018</td>\n",
       "      <td>clean vehicle</td>\n",
       "      <td>39590.0</td>\n",
       "      <td>silver</td>\n",
       "      <td>3c4pdcgg5jt346413</td>\n",
       "      <td>167655728</td>\n",
       "      <td>georgia</td>\n",
       "      <td>usa</td>\n",
       "      <td>2 days left</td>\n",
       "      <td>dodge silver</td>\n",
       "    </tr>\n",
       "  </tbody>\n",
       "</table>\n",
       "</div>"
      ],
      "text/plain": [
       "   Unnamed: 0  price   brand    model  year   title_status   mileage   color  \\\n",
       "0           0   6300  toyota  cruiser  2008  clean vehicle  274117.0   black   \n",
       "1           1   2899    ford       se  2011  clean vehicle  190552.0  silver   \n",
       "2           2   5350   dodge      mpv  2018  clean vehicle   39590.0  silver   \n",
       "\n",
       "                   vin        lot       state country     condition  \\\n",
       "0    jtezu11f88k007763  159348797  new jersey     usa  10 days left   \n",
       "1    2fmdk3gc4bbb02217  166951262   tennessee     usa   6 days left   \n",
       "2    3c4pdcgg5jt346413  167655728     georgia     usa   2 days left   \n",
       "\n",
       "            B&C  \n",
       "0  toyota black  \n",
       "1   ford silver  \n",
       "2  dodge silver  "
      ]
     },
     "execution_count": 37,
     "metadata": {},
     "output_type": "execute_result"
    }
   ],
   "source": [
    "# 1. create column dengan value = kombinasi value \"BRAND\" & \"COLOR\"\n",
    "\n",
    "dfCars['B&C'] = dfCars.apply(lambda row:str(row['brand']) + ' ' + str(row['color']), axis=1)\n",
    "dfCars.head(3)"
   ]
  },
  {
   "cell_type": "code",
   "execution_count": 42,
   "metadata": {},
   "outputs": [
    {
     "name": "stdout",
     "output_type": "stream",
     "text": [
      "['acura', 'audi', 'beige', 'benz', 'billet', 'black', 'blue', 'bmw', 'bright', 'brown', 'buick', 'burgundy', 'cadillac', 'cayenne', 'charcoal', 'chevrolet', 'chrysler', 'clearcoat', 'coat', 'color', 'competition', 'crimson', 'dark', 'davidson', 'dodge', 'ford', 'glacier', 'gmc', 'gold', 'gray', 'green', 'guard', 'harley', 'heartland', 'honda', 'hyundai', 'infiniti', 'ingot', 'jaguar', 'jazz', 'jeep', 'kia', 'kona', 'land', 'lexus', 'light', 'lightning', 'lincoln', 'magnetic', 'maroon', 'maserati', 'mazda', 'mercedes', 'metallic', 'morningsky', 'nissan', 'no_color', 'off', 'orange', 'oxford', 'pearl', 'pearlcoat', 'peterbilt', 'phantom', 'platinum', 'purple', 'ram', 'red', 'royal', 'ruby', 'shadow', 'silver', 'super', 'tan', 'tinted', 'toreador', 'toyota', 'tri', 'triple', 'turquoise', 'tuxedo', 'white', 'yellow']\n",
      "[[0 0 0 ... 0 0 0]\n",
      " [0 0 0 ... 0 0 0]\n",
      " [0 0 0 ... 0 0 0]\n",
      " ...\n",
      " [0 0 0 ... 0 0 0]\n",
      " [0 0 0 ... 0 0 0]\n",
      " [0 0 0 ... 0 0 0]]\n"
     ]
    }
   ],
   "source": [
    "# 2. count vectorizer: hitung kata tiap data di column \"B&C\"\n",
    "\n",
    "cv = CountVectorizer()\n",
    "cm = cv.fit_transform(dfCars['B&C'])\n",
    "\n",
    "# total kata unik di col B&C\n",
    "print(cv.get_feature_names())\n",
    "\n",
    "# matrix freq tiap kata di tiap data\n",
    "print(cm.toarray())\n",
    "# print(cm.toarray()[0])"
   ]
  },
  {
   "cell_type": "code",
   "execution_count": 43,
   "metadata": {},
   "outputs": [
    {
     "data": {
      "text/plain": [
       "array([[1. , 0. , 0. , ..., 0. , 0.5, 0. ],\n",
       "       [0. , 1. , 0.5, ..., 0.5, 0. , 0.5],\n",
       "       [0. , 0.5, 1. , ..., 0.5, 0. , 0.5],\n",
       "       ...,\n",
       "       [0. , 0.5, 0.5, ..., 1. , 0.5, 1. ],\n",
       "       [0.5, 0. , 0. , ..., 0.5, 1. , 0.5],\n",
       "       [0. , 0.5, 0.5, ..., 1. , 0.5, 1. ]])"
      ]
     },
     "execution_count": 43,
     "metadata": {},
     "output_type": "execute_result"
    }
   ],
   "source": [
    "# 3. Cosine similarity dari tiap data di matrix freq\n",
    "\n",
    "cosScore = cosine_similarity(cm.toarray())\n",
    "cosScore"
   ]
  },
  {
   "cell_type": "code",
   "execution_count": 56,
   "metadata": {},
   "outputs": [],
   "source": [
    "# 4. Gunakan cos score sbg data rekomendasi\n",
    "# saya suka mobil data pertama (index = 21)\n",
    "sayaSuka = 21\n",
    "\n",
    "# daftar seluruh mobil beserta cos score\n",
    "similarCars = list(enumerate(cosScore[sayaSuka]))\n",
    "# similarCars  # (index, %similarity)"
   ]
  },
  {
   "cell_type": "code",
   "execution_count": 57,
   "metadata": {},
   "outputs": [],
   "source": [
    "# sort berdasarkan %similarity\n",
    "similarCars = sorted(similarCars, key=lambda x: x[1], reverse=True)\n",
    "# similarCars"
   ]
  },
  {
   "cell_type": "code",
   "execution_count": 66,
   "metadata": {},
   "outputs": [
    {
     "data": {
      "text/html": [
       "<div>\n",
       "<style scoped>\n",
       "    .dataframe tbody tr th:only-of-type {\n",
       "        vertical-align: middle;\n",
       "    }\n",
       "\n",
       "    .dataframe tbody tr th {\n",
       "        vertical-align: top;\n",
       "    }\n",
       "\n",
       "    .dataframe thead th {\n",
       "        text-align: right;\n",
       "    }\n",
       "</style>\n",
       "<table border=\"1\" class=\"dataframe\">\n",
       "  <thead>\n",
       "    <tr style=\"text-align: right;\">\n",
       "      <th></th>\n",
       "      <th>Unnamed: 0</th>\n",
       "      <th>price</th>\n",
       "      <th>brand</th>\n",
       "      <th>model</th>\n",
       "      <th>year</th>\n",
       "      <th>title_status</th>\n",
       "      <th>mileage</th>\n",
       "      <th>color</th>\n",
       "      <th>vin</th>\n",
       "      <th>lot</th>\n",
       "      <th>state</th>\n",
       "      <th>country</th>\n",
       "      <th>condition</th>\n",
       "      <th>B&amp;C</th>\n",
       "    </tr>\n",
       "  </thead>\n",
       "  <tbody>\n",
       "    <tr>\n",
       "      <th>21</th>\n",
       "      <td>21</td>\n",
       "      <td>7300</td>\n",
       "      <td>kia</td>\n",
       "      <td>forte</td>\n",
       "      <td>2018</td>\n",
       "      <td>clean vehicle</td>\n",
       "      <td>38823.0</td>\n",
       "      <td>black</td>\n",
       "      <td>3kpfl4a79je272611</td>\n",
       "      <td>167801773</td>\n",
       "      <td>north carolina</td>\n",
       "      <td>usa</td>\n",
       "      <td>2 days left</td>\n",
       "      <td>kia black</td>\n",
       "    </tr>\n",
       "    <tr>\n",
       "      <th>527</th>\n",
       "      <td>527</td>\n",
       "      <td>3810</td>\n",
       "      <td>kia</td>\n",
       "      <td>door</td>\n",
       "      <td>2016</td>\n",
       "      <td>clean vehicle</td>\n",
       "      <td>39408.0</td>\n",
       "      <td>black</td>\n",
       "      <td>kndjx3ae3g7012477</td>\n",
       "      <td>167692796</td>\n",
       "      <td>california</td>\n",
       "      <td>usa</td>\n",
       "      <td>20 hours left</td>\n",
       "      <td>kia black</td>\n",
       "    </tr>\n",
       "    <tr>\n",
       "      <th>623</th>\n",
       "      <td>623</td>\n",
       "      <td>14000</td>\n",
       "      <td>kia</td>\n",
       "      <td>sorento</td>\n",
       "      <td>2017</td>\n",
       "      <td>clean vehicle</td>\n",
       "      <td>53424.0</td>\n",
       "      <td>black</td>\n",
       "      <td>5xypgda51hg221253</td>\n",
       "      <td>167119104</td>\n",
       "      <td>connecticut</td>\n",
       "      <td>usa</td>\n",
       "      <td>5 hours left</td>\n",
       "      <td>kia black</td>\n",
       "    </tr>\n",
       "    <tr>\n",
       "      <th>0</th>\n",
       "      <td>0</td>\n",
       "      <td>6300</td>\n",
       "      <td>toyota</td>\n",
       "      <td>cruiser</td>\n",
       "      <td>2008</td>\n",
       "      <td>clean vehicle</td>\n",
       "      <td>274117.0</td>\n",
       "      <td>black</td>\n",
       "      <td>jtezu11f88k007763</td>\n",
       "      <td>159348797</td>\n",
       "      <td>new jersey</td>\n",
       "      <td>usa</td>\n",
       "      <td>10 days left</td>\n",
       "      <td>toyota black</td>\n",
       "    </tr>\n",
       "    <tr>\n",
       "      <th>6</th>\n",
       "      <td>6</td>\n",
       "      <td>7300</td>\n",
       "      <td>chevrolet</td>\n",
       "      <td>pk</td>\n",
       "      <td>2010</td>\n",
       "      <td>clean vehicle</td>\n",
       "      <td>149050.0</td>\n",
       "      <td>black</td>\n",
       "      <td>1gcsksea1az121133</td>\n",
       "      <td>167753872</td>\n",
       "      <td>georgia</td>\n",
       "      <td>usa</td>\n",
       "      <td>22 hours left</td>\n",
       "      <td>chevrolet black</td>\n",
       "    </tr>\n",
       "    <tr>\n",
       "      <th>9</th>\n",
       "      <td>9</td>\n",
       "      <td>5250</td>\n",
       "      <td>ford</td>\n",
       "      <td>mpv</td>\n",
       "      <td>2017</td>\n",
       "      <td>clean vehicle</td>\n",
       "      <td>63418.0</td>\n",
       "      <td>black</td>\n",
       "      <td>2fmpk3j92hbc12542</td>\n",
       "      <td>167656121</td>\n",
       "      <td>texas</td>\n",
       "      <td>usa</td>\n",
       "      <td>2 days left</td>\n",
       "      <td>ford black</td>\n",
       "    </tr>\n",
       "  </tbody>\n",
       "</table>\n",
       "</div>"
      ],
      "text/plain": [
       "     Unnamed: 0  price      brand    model  year   title_status   mileage  \\\n",
       "21           21   7300        kia    forte  2018  clean vehicle   38823.0   \n",
       "527         527   3810        kia     door  2016  clean vehicle   39408.0   \n",
       "623         623  14000        kia  sorento  2017  clean vehicle   53424.0   \n",
       "0             0   6300     toyota  cruiser  2008  clean vehicle  274117.0   \n",
       "6             6   7300  chevrolet       pk  2010  clean vehicle  149050.0   \n",
       "9             9   5250       ford      mpv  2017  clean vehicle   63418.0   \n",
       "\n",
       "     color                  vin        lot           state country  \\\n",
       "21   black    3kpfl4a79je272611  167801773  north carolina     usa   \n",
       "527  black    kndjx3ae3g7012477  167692796      california     usa   \n",
       "623  black    5xypgda51hg221253  167119104     connecticut     usa   \n",
       "0    black    jtezu11f88k007763  159348797      new jersey     usa   \n",
       "6    black    1gcsksea1az121133  167753872         georgia     usa   \n",
       "9    black    2fmpk3j92hbc12542  167656121           texas     usa   \n",
       "\n",
       "         condition              B&C  \n",
       "21     2 days left        kia black  \n",
       "527  20 hours left        kia black  \n",
       "623   5 hours left        kia black  \n",
       "0     10 days left     toyota black  \n",
       "6    22 hours left  chevrolet black  \n",
       "9      2 days left       ford black  "
      ]
     },
     "execution_count": 66,
     "metadata": {},
     "output_type": "execute_result"
    }
   ],
   "source": [
    "# 5 mobil yang mirip\n",
    "\n",
    "# similarCars[:6]\n",
    "\n",
    "dfSim = []\n",
    "for i in similarCars[:6]:\n",
    "    dfSim.append(dfCars.iloc[i[0]])\n",
    "dfSim = pd.DataFrame(dfSim)\n",
    "dfSim"
   ]
  }
 ],
 "metadata": {
  "kernelspec": {
   "display_name": "Python 3 (ipykernel)",
   "language": "python",
   "name": "python3"
  },
  "language_info": {
   "codemirror_mode": {
    "name": "ipython",
    "version": 3
   },
   "file_extension": ".py",
   "mimetype": "text/x-python",
   "name": "python",
   "nbconvert_exporter": "python",
   "pygments_lexer": "ipython3",
   "version": "3.10.5"
  }
 },
 "nbformat": 4,
 "nbformat_minor": 4
}
