{
 "cells": [
  {
   "cell_type": "raw",
   "metadata": {},
   "source": [
    "# Cross Validation\n",
    "\n",
    "<img src=\"https://scikit-learn.org/stable/_images/grid_search_workflow.png\" width=\"300px\" height=\"300px\">"
   ]
  },
  {
   "cell_type": "markdown",
   "metadata": {},
   "source": [
    "- __Cross validation__ bertujuan:\n",
    "    - Memvalidasi model\n",
    "    - Mencari nilai parameter terbaik\n",
    "    \n",
    "    \n",
    "- Step-by-step cross validation:\n",
    "    1. Splitting dataset: training & testing\n",
    "    2. Data training di-split/fold: training & validasi\n",
    "    3. Misal data training displit menjadi 3 bagian: A, B, C\n",
    "        - Buat model dg data train: AB lalu divalidasi C, kmd cek evaluasi metrik misal akurasinya\n",
    "        - Buat model dg data train: AC lalu divalidasi B, kmd cek evaluasi metrik misal akurasinya\n",
    "        - Buat model dg data train: BC lalu divalidasi A, kmd cek evaluasi metrik misal akurasinya\n",
    "    4. Didapatkan 3 model dengan 3 nilai akurasi, hitung rata\" akurasinya\n",
    "    \n",
    "    \n",
    "<img src=\"https://scikit-learn.org/stable/_images/grid_search_cross_validation.png\" width=\"350px\" height=\"350px\">"
   ]
  },
  {
   "cell_type": "code",
   "execution_count": 4,
   "metadata": {},
   "outputs": [],
   "source": [
    "import numpy as np\n",
    "import pandas as pd"
   ]
  },
  {
   "cell_type": "markdown",
   "metadata": {},
   "source": [
    "<hr>\n",
    "\n",
    "### K-Fold CV (Cross Validation)"
   ]
  },
  {
   "cell_type": "code",
   "execution_count": 2,
   "metadata": {},
   "outputs": [],
   "source": [
    "from sklearn.model_selection import KFold"
   ]
  },
  {
   "cell_type": "code",
   "execution_count": 9,
   "metadata": {},
   "outputs": [
    {
     "data": {
      "text/plain": [
       "array([1, 2, 3, 4, 5, 6, 7, 8, 9])"
      ]
     },
     "execution_count": 9,
     "metadata": {},
     "output_type": "execute_result"
    }
   ],
   "source": [
    "x = np.arange(1, 10)\n",
    "x"
   ]
  },
  {
   "cell_type": "markdown",
   "metadata": {},
   "source": [
    "<hr>\n",
    "\n",
    "__K-Fold CV__ dengan $k = 3$, artinya: \n",
    "- Data $x$ akan di-split/fold menjadi 3 lipatan/fold\n",
    "- 2 bagian secara bergantian akan digunakan sebagai data training dan \n",
    "- 1 bagian secara bergantian akan digunakan sebagai data validasi\n",
    "\n",
    "Hasil K-Fold CV $k = 3$ pada $x$:\n",
    "- split 1: training = [4, 5, 6, 7, 8, 9]  validasi: [1, 2, 3]\n",
    "- split 2: training = [1, 2, 3, 7, 8, 9]  validasi: [4, 5, 6]\n",
    "- split 3: training = [1, 2, 3, 4, 5, 6]  validasi: [7, 8, 9]"
   ]
  },
  {
   "cell_type": "code",
   "execution_count": 10,
   "metadata": {},
   "outputs": [
    {
     "name": "stdout",
     "output_type": "stream",
     "text": [
      "[3 4 5 6 7 8] [0 1 2]\n",
      "[0 1 2 6 7 8] [3 4 5]\n",
      "[0 1 2 3 4 5] [6 7 8]\n"
     ]
    }
   ],
   "source": [
    "k = KFold(n_splits = 3)\n",
    "\n",
    "for train, validate in k.split(x):\n",
    "    print(train, validate)\n",
    "    \n",
    "# hasil yang diprint adalah INDEX data!"
   ]
  },
  {
   "cell_type": "code",
   "execution_count": 14,
   "metadata": {},
   "outputs": [
    {
     "name": "stdout",
     "output_type": "stream",
     "text": [
      "[4, 5, 6, 7, 8, 9] [1, 2, 3]\n",
      "[1, 2, 3, 7, 8, 9] [4, 5, 6]\n",
      "[1, 2, 3, 4, 5, 6] [7, 8, 9]\n"
     ]
    }
   ],
   "source": [
    "# print VALUE data hasil K-fold\n",
    "\n",
    "for train, validate in k.split(x):\n",
    "    # print(train, validate)\n",
    "    print([x[i] for i in train], [x[i] for i in validate])"
   ]
  },
  {
   "cell_type": "code",
   "execution_count": 18,
   "metadata": {},
   "outputs": [
    {
     "name": "stdout",
     "output_type": "stream",
     "text": [
      "[1 2 3 4 5 6 7 8] [0]\n",
      "[0 2 3 4 5 6 7 8] [1]\n",
      "[0 1 3 4 5 6 7 8] [2]\n",
      "[0 1 2 4 5 6 7 8] [3]\n",
      "[0 1 2 3 5 6 7 8] [4]\n",
      "[0 1 2 3 4 6 7 8] [5]\n",
      "[0 1 2 3 4 5 7 8] [6]\n",
      "[0 1 2 3 4 5 6 8] [7]\n",
      "[0 1 2 3 4 5 6 7] [8]\n"
     ]
    }
   ],
   "source": [
    "#  k-maximum = sejumlah value sample\n",
    "\n",
    "k = KFold(n_splits = len(x))\n",
    "\n",
    "for train, validate in k.split(x):\n",
    "    print(train, validate)"
   ]
  },
  {
   "cell_type": "markdown",
   "metadata": {},
   "source": [
    "<hr>\n",
    "\n",
    "### Contoh Case K-Fold CV\n",
    "\n",
    "Pada kasus klasifikasi dengan algoritma Logistic Regression dan dataset Iris.\n",
    "\n",
    "__1. Prepare datasets & split into train & test ```train_test_split()```__"
   ]
  },
  {
   "cell_type": "code",
   "execution_count": 21,
   "metadata": {},
   "outputs": [],
   "source": [
    "from sklearn.datasets import load_iris\n",
    "data = load_iris()"
   ]
  },
  {
   "cell_type": "code",
   "execution_count": 22,
   "metadata": {},
   "outputs": [
    {
     "data": {
      "text/plain": [
       "['DESCR', 'data', 'feature_names', 'filename', 'target', 'target_names']"
      ]
     },
     "execution_count": 22,
     "metadata": {},
     "output_type": "execute_result"
    }
   ],
   "source": [
    "dir(data)"
   ]
  },
  {
   "cell_type": "code",
   "execution_count": 25,
   "metadata": {},
   "outputs": [
    {
     "data": {
      "text/html": [
       "<div>\n",
       "<style scoped>\n",
       "    .dataframe tbody tr th:only-of-type {\n",
       "        vertical-align: middle;\n",
       "    }\n",
       "\n",
       "    .dataframe tbody tr th {\n",
       "        vertical-align: top;\n",
       "    }\n",
       "\n",
       "    .dataframe thead th {\n",
       "        text-align: right;\n",
       "    }\n",
       "</style>\n",
       "<table border=\"1\" class=\"dataframe\">\n",
       "  <thead>\n",
       "    <tr style=\"text-align: right;\">\n",
       "      <th></th>\n",
       "      <th>SL</th>\n",
       "      <th>SW</th>\n",
       "      <th>PL</th>\n",
       "      <th>PW</th>\n",
       "      <th>target</th>\n",
       "    </tr>\n",
       "  </thead>\n",
       "  <tbody>\n",
       "    <tr>\n",
       "      <th>0</th>\n",
       "      <td>5.1</td>\n",
       "      <td>3.5</td>\n",
       "      <td>1.4</td>\n",
       "      <td>0.2</td>\n",
       "      <td>0</td>\n",
       "    </tr>\n",
       "    <tr>\n",
       "      <th>1</th>\n",
       "      <td>4.9</td>\n",
       "      <td>3.0</td>\n",
       "      <td>1.4</td>\n",
       "      <td>0.2</td>\n",
       "      <td>0</td>\n",
       "    </tr>\n",
       "    <tr>\n",
       "      <th>2</th>\n",
       "      <td>4.7</td>\n",
       "      <td>3.2</td>\n",
       "      <td>1.3</td>\n",
       "      <td>0.2</td>\n",
       "      <td>0</td>\n",
       "    </tr>\n",
       "    <tr>\n",
       "      <th>3</th>\n",
       "      <td>4.6</td>\n",
       "      <td>3.1</td>\n",
       "      <td>1.5</td>\n",
       "      <td>0.2</td>\n",
       "      <td>0</td>\n",
       "    </tr>\n",
       "    <tr>\n",
       "      <th>4</th>\n",
       "      <td>5.0</td>\n",
       "      <td>3.6</td>\n",
       "      <td>1.4</td>\n",
       "      <td>0.2</td>\n",
       "      <td>0</td>\n",
       "    </tr>\n",
       "  </tbody>\n",
       "</table>\n",
       "</div>"
      ],
      "text/plain": [
       "    SL   SW   PL   PW  target\n",
       "0  5.1  3.5  1.4  0.2       0\n",
       "1  4.9  3.0  1.4  0.2       0\n",
       "2  4.7  3.2  1.3  0.2       0\n",
       "3  4.6  3.1  1.5  0.2       0\n",
       "4  5.0  3.6  1.4  0.2       0"
      ]
     },
     "execution_count": 25,
     "metadata": {},
     "output_type": "execute_result"
    }
   ],
   "source": [
    "df = pd.DataFrame(\n",
    "    data['data'],\n",
    "    # columns = data['feature_names']\n",
    "    columns = ['SL', 'SW', 'PL', 'PW']\n",
    ")\n",
    "df['target'] = data['target']\n",
    "df.head()"
   ]
  },
  {
   "cell_type": "code",
   "execution_count": 26,
   "metadata": {},
   "outputs": [],
   "source": [
    "# splitting\n",
    "from sklearn.model_selection import train_test_split"
   ]
  },
  {
   "cell_type": "code",
   "execution_count": 30,
   "metadata": {},
   "outputs": [
    {
     "name": "stdout",
     "output_type": "stream",
     "text": [
      "120 30\n"
     ]
    }
   ],
   "source": [
    "xtr, xts, ytr, yts = train_test_split(\n",
    "    df[['SL', 'SW', 'PL', 'PW']],\n",
    "    df['target'],\n",
    "    test_size = .2\n",
    ")\n",
    "print(len(xtr), len(xts))"
   ]
  },
  {
   "cell_type": "markdown",
   "metadata": {},
   "source": [
    "<hr>\n",
    "\n",
    "__2. K-Fold CV dengan $k = 6$ diterapkan ke Logitic Regression__"
   ]
  },
  {
   "cell_type": "code",
   "execution_count": 32,
   "metadata": {},
   "outputs": [],
   "source": [
    "from sklearn.model_selection import KFold\n",
    "from sklearn.linear_model import LogisticRegression"
   ]
  },
  {
   "cell_type": "code",
   "execution_count": 39,
   "metadata": {},
   "outputs": [
    {
     "name": "stdout",
     "output_type": "stream",
     "text": [
      "120 30\n"
     ]
    }
   ],
   "source": [
    "# gabungkan xtr+ytr dan xts+yts\n",
    "\n",
    "dtrain = pd.concat([xtr, ytr], axis=1)\n",
    "dtes = pd.concat([xts, yts], axis=1)\n",
    "print(len(dtrain), len(dtes))"
   ]
  },
  {
   "cell_type": "code",
   "execution_count": 47,
   "metadata": {},
   "outputs": [
    {
     "name": "stderr",
     "output_type": "stream",
     "text": [
      "C:\\Users\\HP\\AppData\\Local\\Programs\\Python\\Python38-32\\lib\\site-packages\\sklearn\\linear_model\\_logistic.py:938: ConvergenceWarning: lbfgs failed to converge (status=1):\n",
      "STOP: TOTAL NO. of ITERATIONS REACHED LIMIT.\n",
      "\n",
      "Increase the number of iterations (max_iter) or scale the data as shown in:\n",
      "    https://scikit-learn.org/stable/modules/preprocessing.html\n",
      "Please also refer to the documentation for alternative solver options:\n",
      "    https://scikit-learn.org/stable/modules/linear_model.html#logistic-regression\n",
      "  n_iter_i = _check_optimize_result(\n",
      "C:\\Users\\HP\\AppData\\Local\\Programs\\Python\\Python38-32\\lib\\site-packages\\sklearn\\linear_model\\_logistic.py:938: ConvergenceWarning: lbfgs failed to converge (status=1):\n",
      "STOP: TOTAL NO. of ITERATIONS REACHED LIMIT.\n",
      "\n",
      "Increase the number of iterations (max_iter) or scale the data as shown in:\n",
      "    https://scikit-learn.org/stable/modules/preprocessing.html\n",
      "Please also refer to the documentation for alternative solver options:\n",
      "    https://scikit-learn.org/stable/modules/linear_model.html#logistic-regression\n",
      "  n_iter_i = _check_optimize_result(\n"
     ]
    },
    {
     "name": "stdout",
     "output_type": "stream",
     "text": [
      "[1.0, 1.0, 0.95, 0.85, 1.0, 1.0]\n",
      "0.9666666666666668\n"
     ]
    }
   ],
   "source": [
    "# data training di-folding dengan k=6, diterapkan ke LogisticRegression\n",
    "\n",
    "score = []\n",
    "\n",
    "k = KFold(n_splits = 6)\n",
    "for train, validate in k.split(dtrain):\n",
    "    # print(train, validate)\n",
    "    xtrain = dtrain.iloc[train][['SL', 'SW', 'PL', 'PW']]\n",
    "    ytrain = dtrain.iloc[train]['target']\n",
    "    xvalid = dtrain.iloc[validate][['SL', 'SW', 'PL', 'PW']]\n",
    "    yvalid = dtrain.iloc[validate]['target']\n",
    "    # print(xtrain)\n",
    "    \n",
    "    # train model dg xtrain, ytrain\n",
    "    model = LogisticRegression()\n",
    "    model.fit(xtrain, ytrain)\n",
    "    \n",
    "    # check score model dg xvalid, yvalid\n",
    "    score.append(model.score(xvalid, yvalid))\n",
    "    \n",
    "print(score)\n",
    "print(np.mean(score))"
   ]
  },
  {
   "cell_type": "markdown",
   "metadata": {},
   "source": [
    "<hr>\n",
    "\n",
    "__3. Sklearn ```cross_val_score()```__\n",
    "\n",
    "Cara di atas (CV untuk memvalidasi model/melihat akurasi) dapat lebih mudah dilakukan."
   ]
  },
  {
   "cell_type": "code",
   "execution_count": 49,
   "metadata": {},
   "outputs": [],
   "source": [
    "from sklearn.model_selection import cross_val_score"
   ]
  },
  {
   "cell_type": "code",
   "execution_count": 51,
   "metadata": {},
   "outputs": [
    {
     "name": "stdout",
     "output_type": "stream",
     "text": [
      "[1.  1.  1.  0.8 1.  1. ]\n",
      "0.9666666666666667\n"
     ]
    },
    {
     "name": "stderr",
     "output_type": "stream",
     "text": [
      "C:\\Users\\HP\\AppData\\Local\\Programs\\Python\\Python38-32\\lib\\site-packages\\sklearn\\linear_model\\_logistic.py:938: ConvergenceWarning: lbfgs failed to converge (status=1):\n",
      "STOP: TOTAL NO. of ITERATIONS REACHED LIMIT.\n",
      "\n",
      "Increase the number of iterations (max_iter) or scale the data as shown in:\n",
      "    https://scikit-learn.org/stable/modules/preprocessing.html\n",
      "Please also refer to the documentation for alternative solver options:\n",
      "    https://scikit-learn.org/stable/modules/linear_model.html#logistic-regression\n",
      "  n_iter_i = _check_optimize_result(\n"
     ]
    }
   ],
   "source": [
    "cv_score = cross_val_score(\n",
    "    LogisticRegression(),\n",
    "    xtr,\n",
    "    ytr,\n",
    "    cv = 6\n",
    ")\n",
    "\n",
    "print(cv_score)\n",
    "print(np.mean(cv_score))"
   ]
  }
 ],
 "metadata": {
  "kernelspec": {
   "display_name": "Python 3 (ipykernel)",
   "language": "python",
   "name": "python3"
  },
  "language_info": {
   "codemirror_mode": {
    "name": "ipython",
    "version": 3
   },
   "file_extension": ".py",
   "mimetype": "text/x-python",
   "name": "python",
   "nbconvert_exporter": "python",
   "pygments_lexer": "ipython3",
   "version": "3.10.5"
  }
 },
 "nbformat": 4,
 "nbformat_minor": 4
}
