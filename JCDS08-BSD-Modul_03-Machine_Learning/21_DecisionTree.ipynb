{
 "cells": [
  {
   "cell_type": "code",
   "execution_count": 1,
   "metadata": {},
   "outputs": [],
   "source": [
    "import pandas as pd\n",
    "import numpy as np\n",
    "import matplotlib.pyplot as plt"
   ]
  },
  {
   "cell_type": "markdown",
   "metadata": {},
   "source": [
    "# Decision Tree"
   ]
  },
  {
   "cell_type": "code",
   "execution_count": 2,
   "metadata": {},
   "outputs": [
    {
     "data": {
      "text/html": [
       "<div>\n",
       "<style scoped>\n",
       "    .dataframe tbody tr th:only-of-type {\n",
       "        vertical-align: middle;\n",
       "    }\n",
       "\n",
       "    .dataframe tbody tr th {\n",
       "        vertical-align: top;\n",
       "    }\n",
       "\n",
       "    .dataframe thead th {\n",
       "        text-align: right;\n",
       "    }\n",
       "</style>\n",
       "<table border=\"1\" class=\"dataframe\">\n",
       "  <thead>\n",
       "    <tr style=\"text-align: right;\">\n",
       "      <th></th>\n",
       "      <th>bbm</th>\n",
       "      <th>jenis</th>\n",
       "    </tr>\n",
       "  </thead>\n",
       "  <tbody>\n",
       "    <tr>\n",
       "      <th>0</th>\n",
       "      <td>pertamax</td>\n",
       "      <td>mobil</td>\n",
       "    </tr>\n",
       "    <tr>\n",
       "      <th>1</th>\n",
       "      <td>solar</td>\n",
       "      <td>truk</td>\n",
       "    </tr>\n",
       "    <tr>\n",
       "      <th>2</th>\n",
       "      <td>pertamax</td>\n",
       "      <td>mobil</td>\n",
       "    </tr>\n",
       "    <tr>\n",
       "      <th>3</th>\n",
       "      <td>solar</td>\n",
       "      <td>truk</td>\n",
       "    </tr>\n",
       "    <tr>\n",
       "      <th>4</th>\n",
       "      <td>pertamax</td>\n",
       "      <td>mobil</td>\n",
       "    </tr>\n",
       "    <tr>\n",
       "      <th>5</th>\n",
       "      <td>solar</td>\n",
       "      <td>truk</td>\n",
       "    </tr>\n",
       "  </tbody>\n",
       "</table>\n",
       "</div>"
      ],
      "text/plain": [
       "        bbm  jenis\n",
       "0  pertamax  mobil\n",
       "1     solar   truk\n",
       "2  pertamax  mobil\n",
       "3     solar   truk\n",
       "4  pertamax  mobil\n",
       "5     solar   truk"
      ]
     },
     "execution_count": 2,
     "metadata": {},
     "output_type": "execute_result"
    }
   ],
   "source": [
    "df = pd.DataFrame([\n",
    "    {'bbm': 'pertamax', 'jenis': 'mobil'},\n",
    "    {'bbm': 'solar', 'jenis': 'truk'},\n",
    "    {'bbm': 'pertamax', 'jenis': 'mobil'},\n",
    "    {'bbm': 'solar', 'jenis': 'truk'},\n",
    "    {'bbm': 'pertamax', 'jenis': 'mobil'},\n",
    "    {'bbm': 'solar', 'jenis': 'truk'},\n",
    "])\n",
    "df"
   ]
  },
  {
   "cell_type": "markdown",
   "metadata": {},
   "source": [
    "```bash\n",
    "     BBM?\n",
    "      |\n",
    "  ---------\n",
    "  |       |\n",
    "pmax    solar\n",
    "j=car   j=truk\n",
    "```\n",
    "- __Root / Root node__: initial questions => BBM apa?\n",
    "- __Node / Internal node__: question branch\n",
    "- __Leaves / Leave nodes__: conclusion\n",
    "- __Decision Tree__: minimum 1 root, 1 node, 2 conclusion\n",
    "- __Stump__: Decision Tree minimum 1 root & 2 conclusion\n",
    "\n",
    "<hr>"
   ]
  },
  {
   "cell_type": "code",
   "execution_count": 3,
   "metadata": {},
   "outputs": [
    {
     "data": {
      "text/html": [
       "<div>\n",
       "<style scoped>\n",
       "    .dataframe tbody tr th:only-of-type {\n",
       "        vertical-align: middle;\n",
       "    }\n",
       "\n",
       "    .dataframe tbody tr th {\n",
       "        vertical-align: top;\n",
       "    }\n",
       "\n",
       "    .dataframe thead th {\n",
       "        text-align: right;\n",
       "    }\n",
       "</style>\n",
       "<table border=\"1\" class=\"dataframe\">\n",
       "  <thead>\n",
       "    <tr style=\"text-align: right;\">\n",
       "      <th></th>\n",
       "      <th>ujian</th>\n",
       "      <th>lulus</th>\n",
       "    </tr>\n",
       "  </thead>\n",
       "  <tbody>\n",
       "    <tr>\n",
       "      <th>0</th>\n",
       "      <td>0</td>\n",
       "      <td>0</td>\n",
       "    </tr>\n",
       "    <tr>\n",
       "      <th>1</th>\n",
       "      <td>0</td>\n",
       "      <td>0</td>\n",
       "    </tr>\n",
       "    <tr>\n",
       "      <th>2</th>\n",
       "      <td>0</td>\n",
       "      <td>0</td>\n",
       "    </tr>\n",
       "    <tr>\n",
       "      <th>3</th>\n",
       "      <td>1</td>\n",
       "      <td>0</td>\n",
       "    </tr>\n",
       "    <tr>\n",
       "      <th>4</th>\n",
       "      <td>1</td>\n",
       "      <td>1</td>\n",
       "    </tr>\n",
       "    <tr>\n",
       "      <th>5</th>\n",
       "      <td>1</td>\n",
       "      <td>1</td>\n",
       "    </tr>\n",
       "  </tbody>\n",
       "</table>\n",
       "</div>"
      ],
      "text/plain": [
       "   ujian  lulus\n",
       "0      0      0\n",
       "1      0      0\n",
       "2      0      0\n",
       "3      1      0\n",
       "4      1      1\n",
       "5      1      1"
      ]
     },
     "execution_count": 3,
     "metadata": {},
     "output_type": "execute_result"
    }
   ],
   "source": [
    "# ikut ujian & lulus tidaknya\n",
    "df = pd.DataFrame({\n",
    "    'ujian': [0, 0, 0, 1, 1, 1],\n",
    "    'lulus': [0, 0, 0, 0, 1, 1]\n",
    "})\n",
    "df"
   ]
  },
  {
   "cell_type": "markdown",
   "metadata": {},
   "source": [
    "```bash\n",
    "     Ikut ujian?\n",
    "         |\n",
    " yes --------- no\n",
    "     |       |\n",
    "  lulus?   lulus?\n",
    "   2+ 1-   0+ 3-\n",
    "```"
   ]
  },
  {
   "cell_type": "markdown",
   "metadata": {},
   "source": [
    "### 1. Gini Impurity\n",
    "\n",
    "- Gini impurity menghitung kemurnian suatu feature, semakin kecil gini artinya feature tersebut dapat mengklasifikasikan target lebih baik. Feature terbaik dapat dijadikan sebagai __root node__.\n",
    "- __Gini impurity__ = $1 - P_\\textrm{true}^2 - P_\\textrm{false}^2$, dengan $P$ adalah probability.\n",
    "- Di kasus ini: gini ikut Ujian ($gU_1$), gini tak ikut Ujian ($gU_0$), gini Feature Ujian ($gU$)\n",
    "\n",
    "<hr>\n",
    "\n",
    "- __Gini Ujian 1 ($gU_1$)__ = $1 - P_\\textrm{true}^2 - P_\\textrm{false}^2$ = $1 - (2/3)^2 - (1/3)^2$ = __0.4444__\n",
    "\n",
    "- __Gini Ujian 0 ($gU_0$)__ = $1 - P_\\textrm{true}^2 - P_\\textrm{false}^2$ = $1 - (0/3)^2 - (3/3)^2$ = __0__\n",
    "\n",
    "- __Gini Ujian ($gU$)__ = $\\displaystyle \\sum \\frac {n_i} {n_\\textrm{total}} \\cdot gU_i$ = $\\displaystyle \\frac {3} {6} \\cdot 0.4444 + \\frac {3} {6} \\cdot 0 =$ __0.2222__ "
   ]
  },
  {
   "cell_type": "markdown",
   "metadata": {},
   "source": [
    "<hr>\n",
    "\n",
    "```bash\n",
    "     Ikut ujian?\n",
    "         |\n",
    " yes --------- no\n",
    "     |       |\n",
    "  lulus?   lulus?\n",
    "   2+ 1-   0+ 3-\n",
    "```"
   ]
  },
  {
   "cell_type": "markdown",
   "metadata": {},
   "source": [
    "### 2. Entropy & Gain\n",
    "\n",
    "- Entropy = $\\displaystyle \\sum -P_i \\cdot ^2 \\log(P_i)$\n",
    "- Gain = $\\textrm{Entropy} - \\textrm{Entropy}_i$\n",
    "\n",
    "<hr>\n",
    "\n",
    "- __Entropy Ujian 1 Lulus 1__ = $\\displaystyle -1 \\cdot (2/3) \\cdot ^2 \\log(2/3)$ = __0.3899__\n",
    "- __Entropy Ujian 1 Lulus 0__ = $\\displaystyle -1 \\cdot (1/3) \\cdot ^2 \\log(1/3)$ = __0.5283__\n",
    "- __Entropy Ujian 1__ = Entropy Ujian 1 Lulus 1 + Entropy Ujian 1 Lulus 0 = 0.3899 + 0.5283 = __0.9182__\n",
    "\n",
    "<hr>\n",
    "\n",
    "- __Entropy Ujian 0 Lulus 1__ = $\\displaystyle -1 \\cdot (0/3) \\cdot ^2 \\log(0/3)$ = __0__\n",
    "- __Entropy Ujian 0 Lulus 0__ = $\\displaystyle -1 \\cdot (3/3) \\cdot ^2 \\log(3/3)$ = __-0__\n",
    "- __Entropy Ujian 0__ = Entropy Ujian 0 Lulus 1 + Entropy Ujian 0 Lulus 0 = 0 + (-0) = __0__\n",
    "\n",
    "<hr>\n",
    "\n",
    "- __Entropy Ujian__ = $\\displaystyle -1 \\cdot (3/6) \\cdot ^2 \\log(3/6) + -1 \\cdot (3/6) \\cdot ^2 \\log(3/6)$ = __0.5__\n",
    "- __Gain Ujian 1__ = Entropy Ujian - Entropy Ujian 1 = 0.5 - 0.9182 = __-0.1482__\n",
    "- __Gain Ujian 0__ = Entropy Ujian - Entropy Ujian 0 = 0.5 - 0 = __0__"
   ]
  },
  {
   "cell_type": "code",
   "execution_count": 21,
   "metadata": {},
   "outputs": [
    {
     "data": {
      "text/plain": [
       "-0.4182"
      ]
     },
     "execution_count": 21,
     "metadata": {},
     "output_type": "execute_result"
    }
   ],
   "source": [
    "np.log(np.e)   # log natural (ln)\n",
    "np.log10(1000) # log base 10\n",
    "np.log2(4)     # log base 2\n",
    "-1 * ((3/6)) * np.log2(3/6)\n",
    "0.5 - 0.9182"
   ]
  },
  {
   "cell_type": "markdown",
   "metadata": {},
   "source": [
    "<hr>\n",
    "\n",
    "### 3. Sklearn Decision Tree\n",
    "\n",
    "- __A. Gini criterion__"
   ]
  },
  {
   "cell_type": "code",
   "execution_count": 30,
   "metadata": {},
   "outputs": [],
   "source": [
    "from sklearn.tree import (\n",
    "    DecisionTreeClassifier, \n",
    "    plot_tree,\n",
    "    export_graphviz\n",
    ")            "
   ]
  },
  {
   "cell_type": "code",
   "execution_count": 23,
   "metadata": {},
   "outputs": [],
   "source": [
    "model = DecisionTreeClassifier(criterion='gini')"
   ]
  },
  {
   "cell_type": "code",
   "execution_count": 24,
   "metadata": {},
   "outputs": [
    {
     "data": {
      "text/plain": [
       "DecisionTreeClassifier(ccp_alpha=0.0, class_weight=None, criterion='gini',\n",
       "                       max_depth=None, max_features=None, max_leaf_nodes=None,\n",
       "                       min_impurity_decrease=0.0, min_impurity_split=None,\n",
       "                       min_samples_leaf=1, min_samples_split=2,\n",
       "                       min_weight_fraction_leaf=0.0, presort='deprecated',\n",
       "                       random_state=None, splitter='best')"
      ]
     },
     "execution_count": 24,
     "metadata": {},
     "output_type": "execute_result"
    }
   ],
   "source": [
    "model.fit(df[['ujian']], df['lulus'])"
   ]
  },
  {
   "cell_type": "code",
   "execution_count": 29,
   "metadata": {},
   "outputs": [
    {
     "name": "stdout",
     "output_type": "stream",
     "text": [
      "[0 0 0 1 1 1]\n",
      "[[1.         0.        ]\n",
      " [1.         0.        ]\n",
      " [1.         0.        ]\n",
      " [0.33333333 0.66666667]\n",
      " [0.33333333 0.66666667]\n",
      " [0.33333333 0.66666667]]\n"
     ]
    }
   ],
   "source": [
    "print(model.predict(df[['ujian']]))\n",
    "print(model.predict_proba(df[['ujian']]))"
   ]
  },
  {
   "cell_type": "code",
   "execution_count": 28,
   "metadata": {},
   "outputs": [
    {
     "data": {
      "text/plain": [
       "[Text(167.4, 163.07999999999998, 'X[0] <= 0.5\\ngini = 0.444\\nsamples = 6\\nvalue = [4, 2]'),\n",
       " Text(83.7, 54.360000000000014, 'gini = 0.0\\nsamples = 3\\nvalue = [3, 0]'),\n",
       " Text(251.10000000000002, 54.360000000000014, 'gini = 0.444\\nsamples = 3\\nvalue = [1, 2]')]"
      ]
     },
     "execution_count": 28,
     "metadata": {},
     "output_type": "execute_result"
    },
    {
     "data": {
      "image/png": "[encoded data removed]",
      "text/plain": [
       "<Figure size 432x288 with 1 Axes>"
      ]
     },
     "metadata": {
      "needs_background": "light"
     },
     "output_type": "display_data"
    }
   ],
   "source": [
    "plot_tree(model.fit(df[['ujian']], df['lulus']))"
   ]
  },
  {
   "cell_type": "code",
   "execution_count": 33,
   "metadata": {},
   "outputs": [],
   "source": [
    "export_graphviz(\n",
    "    model.fit(df[['ujian']], df['lulus']),\n",
    "    feature_names = ['Ujian'],\n",
    "    class_names = ['Tak Lulus', 'Lulus'],\n",
    "    out_file = 'tree.dot',\n",
    "    rounded=True, filled=True\n",
    ")\n",
    "\n",
    "# return = .dot file => jpg/png/svg \n",
    "# https://dreampuf.github.io/GraphvizOnline"
   ]
  },
  {
   "cell_type": "markdown",
   "metadata": {},
   "source": [
    "![hasil](data:image/png;base64,iVBORw0KGgoAAAANSUhEUgAAATUAAAEZCAYAAAD2cbJJAAAgAElEQVR4Xu2dCdgdRZWGCxR0wiY7RMKSAIZI2HcQSNgMYIQEwjKoM0jYwhB02ESUUZBd9mWUNehAIMpiCAQYBYImBJLIEiADQYbFEBARkphRmJF53qPnt/5Od9++3dV9+9576nl4gPt3V1efOv3VqVNV37fURx999LqzYhYwC5gFOsMC05b66KOPPuqMd7G3MAuYBcwCboKBmnmBWcAs0EkWMFDrpN60dzELmAUsUgvuA1OmTAlep1VoFoizwK677mqGWdICFqmF9opNN93UPffcc6GrtfrMAr0ssOqqq7p33nnHrGKgVr4PAGqjRo1yxx57bPkPsyd0pQXuuusu981vftNALb73LVIL/VUAagcffLA766yzQldt9ZkFxAI/+MEPDNSSfcFALfR3opHat7/97dBVW31mAQO1xj5goNbYRs1dYZFac/ayq5u3gEVqqTYzUGvepdLvMFALbVGrL2oBAzUDtUq/CgO1Ss3dlQ8zUDNQq9TxDdQqNXdXPsxAzUCtUsc3UKvU3F35MAM1A7VKHb8dQW3cuHHujjvucDfeeKNbc801xV7PP/+8+6d/+id3wQUXuCFDhlRqQ3tYugUM1AzUKv1GWgVq//Ef/+GOOOKIXu96zDHHuEsvvdT9wz/8g/x+9tlnO3+rif4dQOsWUHv99ddlD+FPfvITt9tuu8l+r+23394ttdRSqX7yf//3f+473/mO2FALoH/VVVe55ZZbrlIfM1AzUKvU4VoFarzk73//e3fUUUfJMa1bb73VbbPNNku8+xtvvOFOPPFEd/zxx7s99tij4cdcqfEiD4MV69VXX3U//vGP3bBhw9zWW29dqDkvvfSS+/KXv+zGjBnjDjvsMDdr1ix36qmnun/7t38TgEsrzzzzjLvuuuvcOuus03PZnnvuWbhNeV7IQM1ALY/f5L6nlaAGCBBNPP74447IjfOB0fI///M/7uKLLxZQi/t77hcPeOP//u//uunTp7vbbrvNbbLJJnJCY4011ij0BOokQps3b15PdIW9iGR/+ctfuhtuuMGtvPLKsc/gXgDtwAMPdGuttVahdoS42UDNQC2EH2Wuo5WgplPMX/3qV5lB7e2335apJx/21VdfLUAH8D3yyCPummuucaeffrrbeeed5f3nz58vgHjTTTe5Dz/80H3+85933/ve99xGG220xD1Myb773e+6Rx991J1zzjlu9OjR7uMf/3iqHRcsWODuvfde99BDD8n52d13371n6py5AxIuJOI7/PDDJVJj2q0FVpX999/f3X///T3vGa1ixowZ7qCDDnLrr7++/Jsor5UDgoGagVrR76Gp+9sJ1D71qU+5d99911177bVu6tSpPUAIqAEs5Oj0Y//jH//oTjjhBNe/f3+Zsi1atMh97WtfcyussIL7/ve/7/70pz+5p556SoCD69Zdd103dOhQN3HiRIke+Xfc9NGfYv7hD39w//zP/+wGDRrkll566V52/6//+i93yCGHuKeffjq1P6J5RL0YoN9ll13cPffc44YPH95Th9Z73HHH9QI7vYBc2qRJk9wDDzzgpk2b5n7961+7z3zmM+6yyy5z++yzT0um7wZqBmpNgVLRi9sJ1DTaYKr6ox/9qFd0px870RuRGlEUzCMjRoyQaEWjQqaJ3MvUTe8577zzJAdGmTt3rjv00EPdKaecIqAULUSD5P+YBm677bZFzZ94vy6kEJFq5MnF2uaRI0e6b33rW6nP/8tf/iJ5OBYXuI/Fhri8ZWkv8beKDdQM1Mr2sV71dyqo6UtqZAWQkYcaOHBgDxhGgZB7WLz4x3/8R/elL31J/h1XXnvtNXfLLbfIosCRRx4pq5HRSK1oJ4YANW3DW2+9JVEdESWroR/72MeKNq+p+w3UDNSacpiiF3cyqP3ud7+TqeZvf/tbidomT57snnzyycKgpjZnisv0kKkqESG5Lt2OUnT6Se6MFU5yfD5jLKuaRJ5nnnmm5NuyljvvvNM9+OCDvbbMZL236HUGagZqRX2oqfvrAGo//elP3e233y65n2hZuHChbKj913/9157VvizTTwCN6IQointJ+hOl+IsSeSO1aBt19fPmm292AwYMcF/5ylfc2muv3VQ/RC9Oyp2RO2TqmbZQEPdg3hs7n3/++W7ZZZct1LZmbzZQM1Br1mcKXd9qUNNp1n333deT1/JfiMiE1U424erHmAXU2CZy9NFHyzaLz372s1JlEqhdccUVPdFQlulnksFD7lP785//LLkw2qMbZnVLB+8GUCRt6Yi2j/uuv/56GTRaoRNgoGagVgikmr251aBGRPUv//Ivbs6cORJFsAIJeL3//vuOKdi///u/y7YM9n9piQO1X/ziF7L6ycolG3o5NsV+MV0lnD17tmNBgPwS4NavXz/Z8sFUjoQ701N26bNayAKBbvgNnStrpn9eeOEFaf/Xv/51t++++0qUyQLGRRdd1LP5dvz48QL4AP8WW2zhXn75Zdmsiy2I6ChEaAAbWzsabVNppn1ZrzVQM1DL6itBrms1qPES5KZIvDMFJYdE2XLLLSVPRSK+b9++vd41CmrRI1fsN/vGN74hG1DJPZGb4t9vvvmmgASgBoAxTdTCVHWrrbbqtU0iabtFEMNnrASwP+OMMxw8/2ym5T2wjR6TmjBhgrwP9gPUsCXAzqII21c4RcCgsdlmm7VkOwevaaBmoJbR3cNcVgdQa/ZN4iK1Zuuw66uzgIGagVp13uaca1dQe+yxx1qykldp53TIwwzUDNQqdeV2ADWmVOSVVlttNVnJvOSSS2Tj6xe/+MVKbWUPy2cBAzUDtXyek/OudgA1tkywQqnnNjn2dMABBwTf8JrThHZbAwsYqBmoVfqRtAOoVWoQe1hwCxioGagFd6q0Cg3UKjV3Vz7MQM1ArVLHN1Cr1Nxd+TADNQO1Sh3fQK1Sc3flwwzUDNQqdXwDtUrN3ZUPM1AzUKvU8Q3UKjV3Vz7MQM1ArVLHbydQi5PGy2Isznty3ArKbf9oVJZ77ZriFjBQM1Ar7kVN1GCg1oSxGlwK1Tj8bRzChxmEw+f77bdfU/vpYCU56aSThLI8joqJJsDqy3nOvffeO5HIUoVbPvnJTzZkyA1ngfiaDNQM1Mr2sV71txOoVWqYJh+m/G2cdOD0A8SUY8eOFWYM/mmk08njfMaSJH45NAguv/xykckD+JLYebkfTQYO8Dei/W7yVZu+3EDNQK1ppylyg4FaEev99V7lK4P+B7YMJYiEbfbCCy8UTrcNNtgg9UEqawf4EeklgRp0TERzMO4iThwHalAWoXIF/RLCMwZqxfu4xBomLPURHmQlmAXqAmookUOhA/cX0zi/IA6811579ZLGW2WVVUQjAO0BIhwiF/4bQZTBgwfL+VCk8JSV9oc//KFI5BE1hS5wv8HhxvN8DQBog8jjnXbaaYkRlbYFiT/OuKKYBR9aHKjB/wZ/GnWSI4zTUaAOIjhUsqBg+vSnP22gFrrDw9ZnoBbWnvVg6YhO3d555x35sJVnDUHe9957T6IeSByhHlpppZWE8BHiR7RAUUkCtCBBZPqHyAikkxQUlQABmGTjIhsk9piqMU1KK5tvvnks2Cj1NosQ1KNFWXThaUsTPPnv//5vB/MvTL2oXcWBGky4gBVKV8sss0ysOAzj/Y033uh22mkn0fykLQZqob+Y4PUZqIU2aR0iNRhdyf0wfUPtiaJc/IiF7LDDDvJbHI8aYAGoII0H0FEAOupUKbwiFN1Z7K0anUSUPmjqcwEYIkgVZfHrBLiR3UNEZc0115R2R0ENsELejr9Dx530PkxNAXrYfNE1NVDL0nstv8ZALXQX1AHU4NwnAmHqqQLCfNwIBfMxw9qaBmok5X3QiIJfXUENsALI11lnnR5tzzhQI0cGIzCq8cjbxb0PU1PyeayKAp4afVqkFvqLCV6fgVpok9YB1PgAoaxmigW9EBoF5557rmxdYMqpEU5SpFYU1IpOPzV3dvLJJ/eSrZs3b55EbtCJn3XWWUusgM6YMcM999xzco+ujkZBDRV4IjnAasUVV5Tuj4IadmNFlGcBYhQDtdBfSmn1GaiFNm0dQI13Ygp52WWXyfQLMEM4hNwYCwJaygK1ojYlB0jSHu0AP3emGp0AWlwuj2sRTUkqaCSwKLDHHnskXkOej9zh6aef7p5++unE66JK70XfuZn7bUtHqrUM1JpxpizX1gHUiEb4wBFLWX311RObnQRqKKYTqfTp0yd2mlr29JNpJCSWbKOIbulgFZZcG3m1aGFaSQ7ML/zGVBogZAMv20P4zS9ooRLRsjCCsApao6hIsdKr5YMPPpCFBezJSij9DHNwK4qBmoFapX5XB1B74oknhMmWqIOVO9X35CPkw2VKxQdLRHLrrbfKtgbybEyxYMElQuF3clNcxyrntGnTZKFgvfXWE1BgKwe7+1FaKkMmDnAiskLKjlXQl156SU4GsOqqm2/5jYiOKPSEE06I7ee4nFr0wiwgbdPPSj+jIg+zSK2I9eLurQOo8QGiwo52Jzkmf5/azjvvLEK8TE39LReTJk2S6OiBBx7oea27775bohP/N/6flVUtZcrekaxnOgnoIlfHf6Njqtqhc+fO7QE5v01+vxiohfbw2tdnoBa6i+oAakRSRFuICPvHiQA7duNzBhJws9KeFrDpp00/K/XcVoMa+7RQiEIhnegmWkhwM/1sdMyoUqPZw5qygIGagVpTDlP04laDGrkozjCS54LVguQ4hdzY5MmTZUMtUnhZDoQXtYXdX44FDNQM1MrxrIRaWw1qNItjUjfccINsROUYFMn9ESNGyGZTThgYoFXqEsEfZqBmoBbcqdIqrAOoVfrC9rDKLWCgZqBWqdMZqFVq7q58mIGagVqljm+gVqm5u/JhBmoGapU6voFapebuyocZqBmoVer4BmqVmrsrH2agZqBWqeMbqKWb+y9/+YuDxJFzp6zScvIhjhet0k5rs4cZqBmoVeqyBmqNQQ1mXXj+4TJLInustNMaPIyzoZzEgIsOHrZWMnTQVAM1A7VKvw8DtWzmhkUkytuW7c7qroItZOrUqcJ4y5lTDs5vvPHGPQQB1bWk95MM1AzUKvU9A7Vs5q47qAFod911l7vyyiuFWBPNhrpsWjZQM1DL9pUFuqouoAZ7LOy3fJiQIqLMBHUPh9lhdiWnBVPHs88+67bffnshReT4FDqYKsYCd9hXv/rVHqaMgw8+WOiKmDaqyDAstOTFqJ9pJacYmJ5xHaIlaB1wVAtgUG0ETB0HarCJIGeHUhUcZ5xf5RwrxJaADPRHtPOpp56Sd+rbt68oPK266qqBeu/v1UAKAM0RPGtEaXUqBmoGapX6Yx1ADaZbWG45AwqfGoSHfPxnnnmmgBpHqAA7AARlqeuuu05+g+Jn3XXXleuhFOJ4FfxrABcKUieeeKLwtHEYHi41QIzn8Hd41ThMj0gLfG477rijQ4iYfBR5M6Tq4GMD/OJAjXsBOuqlzVAmoQa1yy67CLBwphVAQ7pvww03lGcAmABzFNRUjSqNuZY2JNEmAfpwyEGWCXjedNNNovmJAAvv2a9fv0p9KvowAzUDtUodsA6gBpAQlQFkysZBghsAA9SuuuoqBxcZ0dQnP/lJofweNmyYU6Up1d0kwlItACVJVEVzZcUFiCBrBGBWWGEFASaUq5RkEuPD60Y+igP2KnkXjdQQKmZVlL/rNA8wBHAnTJggB/SJCIkQV155ZYncuGf33XcPHqmhfwq7LbKAsAfDsguoAeqAM6CSxihctsMZqBmole1jveqvA6jByMHHzzQQUEInU4kV/cYS0UGZTcT22GOP9azqxbG86m/c769YAk6AItNZIqbo/3O9giR/13t9UANYiYD4J67wHtAowcq7aNEieSfAuqwcV5JEHyA6cuRIUXMfPnx4pX7lP8xAzUCtUuerA6jxwuwHI0IiWqMwbRsyZIgAAdMr5POYViGbR/TBtE+3KoQGtThA9EGN9hGhMe1ECSqp0G6AhSkuU1CYcOM444pOPxXUEEQmgtVCdIv0IMBGBNeqYqBmoFap79UF1PSlAQKmb4Ab005yRIiX8OHycajgL7mrskGNhL+qQ/mghoYC+9bIq7Gg8IlPfKKnz958801Rw2LarIXroBVHlAURFtUxDdXRqlrFIgV5Ny1ZtAxCtSGtHgM1A7Uq/KznGXUANT4+ckCf+9znpF3kn5jasWqJQAliJfCrsbpH0chEQW3x4sVu7NixsmgA2FCKTD/R6ySnBkgQEVLicmosbKDJST6L6TLTaICLaInn0y7sS9E2klOLk8sr0umAJnYi2mVLh+qDAnZoIbA6q+SbRZ6T914DNQO1vL6T6766gNqYMWMEtNiOgI4m0zvk35g+8cH+6U9/EqEVgIOPlBwcK6AoSLFVAuBjq8c555wjkROye9RJYVGAZD1RICuq06dP71GaAqwuuugiyZ0BZNTP/3MkiihsueWWk8gLMWHAFxEYFjD4O1ERq7L777+/rJ4CIuSuUI968cUXJZeGwDE5QqaCrI4Cumk6nrk68W9Az9T8tNNOk/egzayIsnrLii8DRKuKgZqBWqW+VxdQA8Rmz54te84GDx4sq6FENADU448/Lit5ABu5IbZesCeMKR5ydICFbofYZ599BDgANP0N6T2ADQBTpSl+u/3222WfGspUACIJdYovpKxTuOh9PJt9arr/DR0F9tmxjYKVT1ZYARgiUHJmRKGsphL5xS2ChOh09sMxbQdoeR9sqO0JUX/eOgzUDNTy+k6u++oAarkaHuimuNXPQFVbNX+zgIGagVqlH4OBWu8tHpUav0seZqBmoFapq3czqMXl2Co1fpc8zEDNQK1SV+9WUIvmyjB6qyl6Ku34Ch9moGagVqG7OdlywMFvVuqsmAXKsICBmoFaGX6VWKeBWqXm7sqHGagZqFXq+AZqlZq7Kx9moGagVqnjG6hVau6ufJiBmoFapY5voFapubvyYQZqBmqVOn47gtoHH3wgpItwl0EKybGkupa0EwlVtVnPwQIuWqpc6TVQM1CrytflOe0KatB6Q93N0aPQB8RDdkBWpgzOnLICDVebHsrP2g4IAKZMmeIuvvhi4ZvjCNfxxx/vRo8evYScn9IccWxs5513zvqIQtcZqBmoFXKgZm9uR1DjHbOCRbP2CH191nZyDpXzr7BqNAtqsJZcfvnlbtSoUQJiEGAikQfLCNTiPjWSgVroHi5c34SlPmJYshLMAgZqwUwZW1EWUEM0hQiLw+/9+/dvCtSYit9///0yDVfw0qhv4sSJcmB/4MCBPW0zUCu3v3PUbqCWw2ipt1QJasqDpg2CUYKoxM87qbjIG2+8ITRCME4ss8wyEoVwvXLt+2DBB80UFCYNWDqIVNAkIPJh6qO/qeBJmgpUaPs2AjUlkISTjfeD7aPZSC2uzUxHjzrqKBE09kkpDdRC93Dh+gzUCpswUkGVoEaQ/fDDDwtvGvxnEEEqDQ/qSzDcQi1EYhuabCiAuA5hEfJne+21Vw8tdRQsNDqZOXNmj/4ApInkmaAJV02CRipQ/lQNU0WBOMn+CtDRv6eBGvZAlg9acMRSAOGQoIZyFZxzcMlpMVAL/QUVrs9ArbAJWwhqPBp1J8AM7jT/gwN4KJBEIvUG8J177rluu+2262GxVf1OkulxYAFwIWunAEZ90d8aqUCFZohNAzWiKcAczjO44kKBGmAJoDGVRRvVLwZqob+gwvUZqBU2YYtBjcezHYPpJKAGCyxsGXD4Q/joRxVEWuSZYJsFrDijqupOeUANzYFGKlChVwSTQG3+/PlC/Q2jLsn9OPGYvH2tOTpAEsJKA7W8lqzkPgO10GaucvqpbdcPGDBDXAX9TFhqyStp4TcAaPnll5cpKHvSiNSKgJrm2RqpQPk2LmP6yXuzWkkekOkmJRSovffeeyLuArU3VOTRYpFa6C+ocH0GaoVNWINIjSb8/Oc/lzwZIsLsOSOZT16JAhU2OTWiGDbW6tSMvxUBNaT1mlGBCmHruEgtiyRens2x5AvZGkJEi1BzXDFQC9GrQeswUAtqzhZuvkUYBVAjsiCnxP4sFfvlwyQyIx+GJF6cMlTS9PPmm28WoNRVUqZ4TF31N3JqaSpQa6+9dlATx7Vz4cKFEpmyuKGFrRlMwWk3ESsR9GqrrZa5LQAa2qgHHnhgIqBRmYFaZpNWdaGBWmhLt2L6qe8AaLE5FJ1PP0FPFMeHjRI7Sk2osSNujHIUgioDBgxwb7/9tihNcd3pp58uuSO9j60gCJwwdUTIhW0NKFEh2EKeLk0FKrSKeqMtHdEpub/6CZgj5sJ7IMW3zTbbxHY/W1RYOWZRReXxuJCB4ze/+Y2cLiBvZ6AW+usJUp+BWhAzepW0EtQQ/iWyQsLN30pB1HH++eeLFB7ghLI5G0w52sMWDfJsqhHKq+jeNgALeTu0L3fbbTdZPQXUJk+eLLqgqKOzhSRNBSq0fYuAGnYg2T9r1izZXKtaqH4b2c+H0hb7+aKFKSi/+5J8FqmF7uHC9RmoFTZhpIJWglrod6ljfVlBLa3taIwyfUb/tKh+p4Fa7bzEQC10lxiohbZo7/qKghp7zpg+s+ds6623LtxYA7XCJgxdgYFaaIsaqIW2aDhQY+vHfffdJzlE/6hTkRYbqBWxXin3GqiFNquBWmiLxoNanMJ7uU/+e+3Gp1aVpXM9x0Atl9lSbjJQC21Rqy9qAeNTS/UJA7XQn4yBWmiLWn0Gak35gIFaU+bKcLGBWgYj2SWFLGCRmkVqhRyo2ZsN1Jq1mF3frAUM1AzUmvWZQtcbqBUyn92cwQIGagZqGdwk3CUGauFsaTXFW8BAzUCt0m8jNKixWRTiQzaMwjTB0Sal0a70xVr8MA6rT58+XTjj2Gf2zW9+s2UtarWkoIGagVqlzl8GqC1YsEAOWPNR+yy0lb5YzodFdTrTqkmjBwJIXn75ZTmXCg15Vt2BJFoiONLySgHSllZKChqoGajl/Bzz3RYa1LQVcdTa+VpY7V2AGsSVMFsofdHZZ58tTBkK0GxmBWRQafIP1kdbqgAJm25WUKMODuZDlwRFEofY0TZVlo281ih6XCvvc7nPQM1ArYj/NH2vgVpvk3F4HFojnwopCmrc8c4777innnrK7bnnnok2zwtqVKiMu0UiNL9hBmpNfxpV3WD71EJbOi+o8fFDSc1HB+nhscceK+K56ABQ4iI1GG3TZO/mzJkj/GFKl7PRRhu5k046SRTHeQa0QuToiKCIkPbee29heS27xIEaz+RsJu+JyAnTu+2331643RA7gZctCmrRqW2SAlVWUPOnqkq/tHjx4h65QP2NKC8KarwTlE4UnUbzLih4+b/xjiheXXDBBfL7kCFD5BwqlEhZi0VqFqll9ZUg1+UBNRYC4CdDO2DYsGHuueeek/+GkpuPZdlll10C1OBOS5O9Iw8HrxpTLjQEyEfx0Z955pkCakwJUaICPPnQyNkBenF5Jv+DTTNSVsrsJFBjEQAAhsxyrbXWErZefhs/frzbcMMNlwA1FlEQGJ46darYL41lN2ukht1UvEWpzpken3rqqe7DDz9MpT9/8MEHhXUYrjoVnKFt/AZxJ79NmjRJJAbpC7joGMTof/olazFQM1DL6itBrmsW1Pgw+XhwbFhrYZxVMkOUoJJArZHsHXUQlfHxbLDBBvJujz76qIAFoEa9TAlHjBghf4Mc8ZlnnnH77rtvEDukVZIEagDt3LlzhdAS2T6ACJAHLHbYYYdeoIaeKSvCkGESyaneadJzs4Ia99O+3/72tz0AFvdbmlYC0a+CWpTFg+iNviYyI/p8//33BQRhHc5aDNQM1LL6SpDrmgU1nBrl7wMOOCB1NS5poSBJ9g4V9u9///syFTrrrLPcVltt1evDB+BImMPyOnLkyMKJ82aMlwRqWgfR0r333isRG9TjGgEqkLCgAFsvq6Aw8mYpdQE15PZGjx4tNkdTwqcLz/IeXGOgZqCW1VeCXNcsqGVNOMeBWiPZOwBPpzq8HLoE5HBUN4D7ieQAOMDt6KOPjgW3qqafTIMRO7nppptEkg61KujHo6DGNBO9AP3AEZNpVOoCarST/Cl5Q1ZkSTP4udNG72Gg1tBCtlDQ0ERNXtAsqGmkRj4L8PDppVkIYAqKClIU1LLI3mnTAQtyOgAYUzwWBLQw/UV3gOkcQiRseYgK9jZpgoaXx0Vq5PfI6wE+RCIAlQJRFNSY2pGnAvhgr73wwgtjNTn9htQJ1LRdDCos5BBVowORNWqzSM0itYYfWcgLmgU1PmaAhPwQCXFlZCUndvfdd8tqZNxCQSPZO1btUGPXfV+AlwqNsMcLBlgERFSgZcqUKSKsUvbmXt6X5yN+4j+LyIuohRzfkUceKV2SBmrUwVQOYEPGjmgnDYwbgRpTXraU7LrrrjK4kLNkNRrBZrUdeTb9LS2nhtIW9VBYgR41apQMJvyGnQcPHiyDlf6dhQn+Tq4zSzFQM1DL4ifBrmkW1HiwfpyIDLOKt8Yaa4hiExtWN9lkE9GzJC/Gytltt90mvzWSvWMrCCAGQAwdOlT2gZGcZh8YuRy2gpCMZ8oJsJG/4qPm44pTIg9lIMALWT6excofuT4KII4QCjYAFHhn1K/IC7ICipxf3759BfjY6kH7afcdd9whOUlWD7Gdr6KlbfY33yKNx4qvTsEBrHnz5sl7s1IMsPA8gI120D6m50zjWZUmoiKn98orrywhKagr0izMcIwLYJwxY4ZMp1mpZoAiR4hGKSvTRKOs9vKeqIBl1Ug1UDNQC/U9ZqonD6jpiM0+J8AM4OG/kaBLoo7mb2myd0wl+XBmz54t00uiA1ZD2bLBh88eNbZDAC5Mf4h4Tj75ZFkdLav4+7b0Gf7er8cff1xyewAb02F0RQEggAa9Un9llu0ugA7Xp1F7Z1Fvpy3UwzQW27moDx0AACAASURBVJDzApTuueceWVll2g7Q8TvXAYJxkoIMEtyj+9XIYTIAMcVET5V3YAEEYGWlmS0iRJkAMumHrMVAzUAtq68EuS4vqAV5uFXSFRYwUDNQq9TRDdQqNXdXPsxAzUCtUsc3UKvU3F35MAM1A7VKHd9ArVJzd+XDDNQM1Cp1fAO1Ss3dlQ8zUDNQq9TxDdQqNXdXPsxAzUCtUsc3UKvU3F35MAM1A7VKHd9ArVJzd+XDDNQM1Cp1fAO1Ss3dlQ8zUDNQq9TxFdQ48mPFLFCGBTgnzIkHjr5ZWcICxtIR2ikANc4IWjELlGkBZBIN1GItbKAW2vEefvjh0FWWXt9DDz3kzjvvPDksn4WbrPQGVfiA66+/vocogLOb7VTgxrNikZr5QMQCMFhsvPHGcvCaA+7dVubPn+/WW289OYTeSoHkbrN7ie9rkVqJxm2LqmFfhRYHJg+YP7qxwGeGHeBLK5N2qRtt24J3NlBrgdFr80iN0hBggTKnWwvRGhxop512mlCeW2lrCxiotXX3FWz8uHHjhBixm6M0NSHMuWyVIFpbaaWVClrWbm+hBQzUWmj8lj4aWm3IF1mthTa82wv03LDrQqyJVKGVtrWAgVrbdl3BhkMfDdutRWl/NyRq8NB6v/rqq44tE1ba0gIGam3ZbQUbTZRGDgklJjjyrfzVAih7ffrTn3bHHXec0J1baUsLGKi1ZbcVbDRCIAiyoDbFVg4rf7cAKlUXX3yxKNZXGa2xaINkHjoOaCFccMEFlQpMd5APGKgV6UyVSVPhj7S6VLuyyPNC3KtRGqImCAdb6W0BojX2rbGAguBwWokTxYm7HtUsBG/SCqD29ttvi3wg2q+XXnqpgVo+5zRQy2e3v94FqJGDQcpu9dVXl9+iQr04Pk6NrJqvQFTkuUXuRRUJSTmL0pKtSB8iwUdurZG6FhJ7Tz75pDviiCNEvg9Q0qJ9v/zyy7vDDjssU7fxbFZgDdQymSvuIgO13KZzTqYJjK7s89ISpz7OGT2k6JC+a2XRKG277bYT8WQr8RZAg5TcGtHV1Vdf3dBMGrGjHO+DGjdS14MPPihSeFmKgVoWK6VeY6BW2ISRCuJAjUsAP4R3p0+fLtEcSt+cuSR6Q0iYolNUXx/Tn7a+++67ci3itwsXLhRNTPZXIVycpXDOcfTo0RalZTAWmqoISM+dO9f169cv9Y40UPNvZJMv+Tpymmh+fv7zn5ftI77mZxTU/vznP7sbb7xRcmwUzntuttlmIkxNQfT5Zz/7mUyVEUoGPFUzNsNrduIlBmqhezUO1IiQ3nvvPUkCEyGhkE6C/tprr3Uc0SGSO+igg9z999/vGO0pU6dOld8mTJggvzHiU/d+++3ndtppJ2ECQV19l112kQ8jTpncfzeN0lA3p04r6RZAUJl9a4DEdddd1zSoKdjstttusuCgCvT9+/d3p556qlu0aJEA0worrCAq9HqYPgpqkyZNEnV4BJWXXnppSWW89dZbIoDM1Hf8+PHiP6QUaDPnVxFK5rr111+/G7vZQC10rydFajwHULvyyiuFDYMtFVpURZypjoJa9Lc777xTVsf4EJZaaim5lbwLHxwg5U+B496J6wBBy6Vl73HAhqNTr7zySmq0lrRghIo8fQ6oLViwQCLrESNGyGBFwVeI3Dl3uvLKK/f85ufUuB8Q035nIYPB79BDD5V2wa5CFKf3z5w5033hC1+Quhk8u7AYqIXu9EaghgOro2cFNSKz73znO/JPXGm0sqpR2o477uhuv/320K/csfUR+TD4AE5sVk4qcdNPpo233HKLgJi/NYToigUI/IBFGxaQfH+IRmovvPCCpAxGjhwpILXiiiv2NGPKlCmOSDCuENlF83sd21G9X8xALXRHlwFqW221lYzUgBuMGs0WzjQSJViU1qzlnETWJ510knvppZccU8e4kpRTA5DWWGONHlBjYYnoj0iM/pg8ebKsnKaBGs/jPnJmACErrJpH5b5HHnlE8rN9+vRp/uU68w4DtdD9Wgao7bDDDjLqkpe58MILe+XP3nzzTZnacI4zrpDbGTBggCNKI/9ipTkLfPDBBxKt7b777gI+zYCafy3AdMwxxzhymoDSxz/+8SW2/3B92uon6YczzjjDLbPMMgK2TF3xi2g6g8j8V7/6ldt1112be9nOuNpALWQ/4kw42axZs5aYYvIcPgpWIPl33759ex6t+bMrrriixxHnzJnjRo0aJfvgcE5yamwIveaaa9zhhx8uSWMAiynOsGHD3Nprrx37KrovjYWFQYMGhXzdrqmLSJejU0S6TBejJcvq5+OPPy45TQBI859xA2AU1JhiDh48uCdnhl+wuIRfLLvssrL/jUievBqLDhTuoRiodY2Llveif/jDH9yYMWNkTxqrTzibFnaMA0jnnnuuANEee+zRk/An2mJaSUTA6tVrr73mZsyYIUv//H7wwQfL7nKmLJzV3H///SXyYpVr+PDh4ti6eOC/nUZpRHqWS8vf75qTZBEHUIoW+oqBZptttnEMTKutttoS1zCo0I+AIxHb7NmzJcnPIgBAxrYR7gOwAEkGPzb+MgDiT7CHQLVO/7OlhxwfU9tLLrlEVlMBPnyBDb9sF6HuLiW8tEgtv6v3vtPfW6Z/wXlZoaSQE2PE1+IfnSF5DEkj+4soEBWy5YOpBh8LIAaosU+NnAx71dgcyt9ZSWMqE1fY30Ry2XJpxXs5zpZJx6TijkUxwLACzVYMkvv8m8EMkAPU2LP2la98xemRu80331wGIgYuBkP+DVixxYR7dW8b9bJNiMFSc3XN7F0sbpna1WCgVrsuCdQgy6UFMuTfqiFaQ8uBaMyi3rC2DVybgVpgg9amOqYnRGkvvviiLBRYKW4B1XOwyLe4LUuswUCtROO2rGryd+TnyAHdeuutLWtHpz0YuzLtI1dqpzJq27sGarXtmgINYyECVluL0goYMeFWpp7s5rdoLbxtA9VooBbIkLWphmiCPWvshyJhbSW8BVjEYXuM8dGFt22AGg3UAhixVlUAZKyiWZRWXrewZ5BjSxatlWfjAjUbqBUwXu1u1SiNPWxMQa2UZwGEnzk2BcBZqZUFDNRq1R0FG8NeOTbrWpRW0JAZbr/33nuFDcPUuDIYq9pLDNSqtXd5T9MojRXPNEaJ8lrQfTUTrcFZZrqptep7A7VadUeBxnB8BwYHzpHavrQChmziVnb/cxLAorUmjFb+pQZq5du4/CdwzIrd7lCDc5zHSnUWYJWZM5lQaluphQUM1GrRDU00gqnOAQcc0OsO9k4hEtKIobWJx9ilGS3w8MMPu6FDhy4RrUHfDtdZtK8yVmuX5beAgVp+27XmTtg4oBmChYGtG0Rpm266qYOJA5ohK9VbgAPq0P6weECBkADiAX6bN29e9Q3q7icaqLVT/zP6Kxc97QbcoIuGtcOitNb15BNPPCGbnaFbpy8QQoFRg8KgY6VSCxioVWrugg9jOoNEWrTAWw+PF5GbleotwGozPGgoREULg02XqjpV3xF/faKBWqssn+e55NPSRHFh04VXy8Atj3Wbvwcwg9QzbYpJzg0qcCuVWcBArTJTB3gQuRo0CiAnTCvk2J599tkAT7QqkiwA0yzstY0KJKEIt1ipzAIGapWZOsCD0Cjg1AAEkHEFBlxEcVHqZmOolfIsAMU2QtKLFy9OzJvRF+iGMhhZqcwCBmqVmTrAg/iIUAmKKygMwXF/3333GaAFsHWWKhTYiJw50RFXED959NFHs1Rn14SxgIFaGDtWUws5M3jtowVVIUghUSz61Kc+VU1j7CliAYCNTc8IH8dF0Ntuu61jddRKZRYwUKvM1AEeFKcYxRSH1bVp06YZoAWwcZ4qFNhQZdetHH49tq0jj1Vz32Ogltt0Fd+IkC3RmF9QmALQpk6daoBWcX9EH0f/cA6UfwNufkE60SLoyjrIQK0yUxd8UHSP2sc+9jFhuCXHZh9MQeMGup3N0TvttJNshGY6qsW2dQQycLZqDNSy2an1V7EnCt0BCqucANovf/lLA7TWd02vFgBs0D/BloKsHgVRalaurVRiAQO1Sswc4CFsC2BjLfmZgQMHyrYNi9ACGLaEKgA2Fg/mzJkj/YX4sG3rKMHQ8VUuCWq+inhlzbAHNbTAtdde655++mlRZkeBu0+fPg3vqfsFn/3sZ2WvV+hSBx9m/xqH2lFNh17dTnmE7uW/1nfMMcdEK14S1Dj28cMf/rCcFlituS3A6E8ebfnll3dxq6C5K27RjRz6JtosA9Q4hzl+/PgWvdnfH0uUtnDhQtnDZlF1+O7Ybrvt3KRJk7KB2uTJk93MmTPDt8JqzG0Bjtpcdtllue+v043z588XhpEyQY0jTCTo61A6qe/qYE/a8NWvftXhRwZqdemRLm9Ht4Fal3d3Ka9voFaKWa3SvBYwUMtrObtPLWCgZr5QKwsYqNWqO9qyMQZqbdltndtoA7XO7duq3sxArSpL23MyWcBALZOZ7KIUCxiomXvUygIGarXqjrZsjIFaW3Zb5zbaQK1z+7aqN+tqUOP83fe+9z33xhtvOKiVl1tuucx2f/755+XM3gUXXBAreJK5IruwlwU6CdTGjRvn7rjjDhGRRtQ4a3nrrbfckUce6UaNGmWnDbIazbvOQK3GoMauczaJcjbwueeek0PrJ598sltrrbVSuzrvfTn8J/gtBmrOVQVq7777rhzXQrqPY2mnnHKK22+//dzSSy+duV+feeYZ0VngqB5ECnFlwYIFoqi19957i7B2XIFE86yzzhLK+W9961uZnx93YVeDWiHLVXAzx3kuv/xyd91117mNNtrI/fjHP5Zd0jhQ2sif974KXqnhIzoJ1Bq+bAsv+N3vfidnI2Hf/frXvy7nUMeOHesOO+ww+SfLcTvqAKw4nH/77bfHghqzIXyYgRm/TQI17v/a177mjjvuOAO1FvpFqY/Gyb70pS+JEzDyUCAU5L85E4kDxDle3vtKfZkmKjdQa8JYOS8lkr/++utlanzLLbfIsTTKnXfeKYpkt9122xKko9FHEVkx2OKDRHpJoDZlyhRHNHfPPfdIuiYO1F544QVRsCel079/fwO1pH7VKRiUPD//+c97Xbb55pvLoWZC3R/96EeOEYfcGAXCxWuuucadfvrpkmP77ne/K+IY55xzjhs9erTwlSGm4V8HR1bo8rOf/Uymmj/5yU/cZpttJtXzTih9T58+XdqNmEq05L0vdPvz1tcuoPb666+7s88+2/30pz91TOP8QkS91157CWjAa3f11Ve7VVZZxb366qs9/kbkQh+Sy0VS75JLLpFoHLCgfyGOgC2XqCl0ef/9991RRx0lz+MdIEOgEHGRx0PlKimi0rbg/3/84x/lMP6YMWNiQY2+5DujTnKEOkj770MdRHCHH364fGswzdj0M6HHYX3F2DgLgrF0Aob98pe/LHN3RhiMDnhB1YNzQbUMpzwGPuGEE9y6667rhg4d6iZOnChgwr+33nprAbWHHnrIHXHEEe7+++8X4r9ogQjwkEMOEUqgtMIUgGdDv+0XnA3ygFtvvdWtt956PX9CBo+2+GAX4r7QH07e+toB1KJTN1hF8DU+UCIfcp4wpxD1/PrXvxbpwpVWWklyZeedd557++233TbbbCOgxSDJ9G/QoEHu/PPPF7PNmjVLfBVWnDhwwf+I1BvRKDF4x0VQ6ptQHlGPlt///vfyvK222qoX2EX7ElpylMmOPvpoAeA4UONbAqwOPfRQh5oZ9UZBjUGaRRQYgaGepy0GailfDqDw2muvyXwe0GJuzwhAKMwIufLKK8vdXMeUTYFFOxznGzZsmFwzd+5c6RwSqQAVRa9jFA4dqanT4jx8EKuuumovUANMiQCiz817X14AKuO+dgA1BkxyP0RikHJSGORGjhzpHnzwQbfDDjvIb/Qdvub3If6G7+A3AB0FX6NO9UsFl7jIJoTNeRYpDCJKHzT1uQBM3EDLswFuZjIEB+R1NXjwwROwYtDl78gAJr0PU1OA/qCDDhKKcwO1Br2LozDikTtQ58GhXnrpJXGoFVZYIRXUfLCK6xQDtRCf15J1tAOoITfIIMfUk8idwsfN6rQfQSeBmj+IxoFfXUENsALI11lnnZ4BNQ7UyJGRsiFdw9Q27n3oZ6JaFhqYpeiAbJFayndFdEUIT+6A6SRRDwYk5MYhtSRFakVBrcj0U3NnOAzTz9VXX72nvUw5aJsfJegf895XDjzlq7UdQI0P8IwzzpB0Bfsc0VYld8vWBaacmkooC9SKTj81d0bOlohLy7x58yRy22233XpSNH4vzpgxQ7YWcY8uUkVBjcUsIjm+tRVXXFFuj4IadmMGxbMAMYqBWobvhQ/8rrvukpHzgQcekKQo+2kIdcljlA1qGZqYeklc7kyn0ORpkhYK8t5XtL2h7m8HUONdGbQg5uSjBsxICZAbY0FAS1mgVtTW5ACZ2m655Za9cmekZvg+yDnH5fIIAL797W8nPp78MIsCe+yxR+I15PnIHZLLTss3x6VXsr53x+5TY1Qhv/GNb3wjdc9NUqR2xRVXSD4gbqRRpya/VkZOjfqJLPlQmNJEt3Qwkp544omx75X3vqwOU/Z17QBqRCP4Db7lR9FR2ySBmp/r5Z7odWVPPxnw8W+2UUS3dLCwRq6NvFq0MK0kB+YXfiP/BhCygZftIfzmF2jLiWhZGNlzzz3dgAED3Msvv9xLtf6DDz6QhQXsycxq0003jV3dz+J/HQtqTAMIg1n53GSTTXpsgbH4je0aJD1JTjJVJfIhFEb8l9GKRYVjjz1WgIPICAADSI4//njZcf2LX/xCQIeVSKa4WTYrZukQvQbHY78Q7bryyiulbewHIlfBFFQ337JkzujJdHSLLbaQbR9Z7mumLVVe2w6g9sQTT7gDDjjAEXWwcsf0k8IWGz5c+oqtGUQkpA/oI7blMMU69dRTJULhd3JTXMcq57Rp06SvWekGFNjKwe5+/MufWYTqC8CJyGrfffeVlAy5ZmYypGx08y2/EdHh5+wGiCtxObXodVlA2qafGXqWiAVlJfIEJHb9wu/8QxTE1JSCg9J5rHBqodNZ3vZVafjv7bffXjpfC/triu6tiXslRDnuvvtu2Y1NchmQxfH86GDChAkSNTDiAmqULPdlMGFLLmkHUOMDZF8jAxs5Jn+fGivSLE4xNfW3XHAShOhI/Q3j0rdEJ/5v/D8rq74PJq1EFu0gbM2ACOjiO/w3W5j0mJTmpQE5v03+cw3UivZCxvs1n7bhhhv2bFzlVn5nj5EmMv2tEhmrtstKtkA7gBqRFNEW0bsfoQN2RMmcgQy9zadks3dU9R05/WT0ZKTksK6uwGivEe4zQn7hC19wn/jEJzqqMzvhZeoOaqQsiPKJmjUy9u1Ogpvp5wYbbNAJ3dGW79CRoAazBas3/MN0UTfakuBlNXTEiBFu4403bssO6/RG1x3UyEVxhpE8F6kKkuMUBktOgLAn8otf/GLwHGun93vI9+tIUGOayfI0Cfb//M//lDN35MHImZEfsGlnSBcKW1fdQY23JYVxww03yOIMi0gk9xko2WzKCYPQi0ZhLdz5tXUkqHV+t3XuG7YDqHWu9TvjzQzUOqMfO+YtDNQ6pitb9iIGai0zvT04zgIGauYXRS1goFbUgnZ/UAsYqAU1Z1dWZqDWld1e35c2UKtv37RLywzU2qWnuqSdBmpd0tElvqaBWkDjspWEfUzshVMaZ9s+0pyBDdSas1f0ao7IKbmo0tRHWZWLPaH+dxuoBewjQA0aGpgOoDmOstYGfFShqvRsKIf+aeeBBx4o5/7idsgXelCOmw3UchjNu4W+hS6cs8gQNJZ1brRYK51w0d18883SPs5nQyLB4f1+/foVrVpYbfAjzttGyoSlPuIr9QpsAuyanjlzZuEHd3IFcZQzdXpfOhvHh6HhzTffFMELDmVzKB5dhlYWA7Uw1o9SaoWpNUwtwAqbl2Gagfp89uzZAsKwliA4Ez3a2OxTDdSatViG6+sMapxdhMsKBSPd+Q6VDuR+sDUov36G1yzlEgO1MGatM6hBRcQ//lFF5PlgD8YHIaIoUtoS1CCdu+iii4SgERqez33uc6L+fPDBBwvtDpEIf3/ssceEMQHONF6UcPyNN94QfUP4q5gmokcIjcwaa6wh1DCo/JATw8AUohjO8iEMobJ4cGKRr4ASiOkmZIHUr7xXcaDG2UDk6zhoT7uiUz4olqGIhq0X5lBl6k1SvS7S6dF7UcS66aabhCpHz8mGrL+ZutoF1NL6i6kVPkBfP/vss3JED6ZX/Aj2YlWYwnfxG6X/wX/hYMNPVTkdQlD8E38gulbZPa5DiYlvgPOnpBL8ASkO1IjG4eQjGuIb4lA+h/Nh6yV64pugnSiq4YN9+/YV/y87L8yzaReDLWSSRYkm2hLUrrrqKnEOOgUHUs1EDrCj8YluIR8pnc0HC/cZ4LXddtuJIDCiLCTyOQsKuy0SXsqjBoEk13GeDwO/+OKLMi2j4zlHChgp4ykMngi6QtyIo6j2QRTU6DRGIGiUIZQEIJnKcz4VllHqhgqag9KQDtK5ONOZZ54Zq3rdiFZZQaQRJTJRG5xgKAHxrr4UXzNAFPLadgA1BrK0/mJqxeDEh4pcHj7Cb/gA03v6F6IF7A2pJMCFSBAkpJBPwvABQSQgxnP4O/km+gvfJbLecccdRV2diIe8FPqbkEwCfpQoqHEvv1EvPgaTDRJ3qErR9yxwAWgM1ERKPAPABJijoFZEfyPqK3yP2Aqg5x19OvS8ftWWoEbnAFgcIqYQfQEQ5IiI0iDpYxQj6tAOAIhU3g4nQLfQFzUBiBgRfUGTqEKQSotxr8rn8RECVKwwqXJVFNReeeUVcUbq10iIvCT0R7wLjgz5I0CmlDUAJR9EWZGa75g4EgDKINHqlbJ2ADWAJK2/GHQhWCSaQjAbv8FfVD5PxYTxYdWgVeZXBmuVdVRw8hXQ8Bfk+JQ5l2uUhZmBWXU8o6DG7IRVUf6uaQe+AwAXolFmGfgnESI+ykDMPQzyZUVq+j3xDvg5tiBaLcr025agxgdPBzKyobUY9yH6Kupwsfsah3HTQ35jyurrF6rRNeKJ/r+OJDjHuHHjeu6N1o++IaNtXAHIAFyciefQsbDtKvto3tEqy326/M9HyDsQbZZBTZ6lLXpNO4AaqYQs/UVEh+8RsZFyUD+Ko67W37CDv2IJOOF3upIe/X+uV5AEfPReH9QAVqIg/okrtIuVb9IqixYtEh9kcK2CbQRbQrrJoI+tSP2QSipS2hLUeGFGHQABgAPcCKUBNz5URi5GneHDh0tnIdcFCKpCTmhQiwJitH7+n3ycPwJHO03bzTtRmAYMGTIk1rFCTT+1DUlRQhHHyntvO4Aa75bWX6RE0AQlBQJlPFNDpn1lgVocIPqgRnuJ0Jh2+pJ40T6i3URnAAxT0KRtPiGnn9oGptpQN6FwpdFrXh9qW1DjhQmRmYsT6ZDgZyQC6QEPpp8IrmgHlA1qTD0BL5KrUVBjusCSNVTPPiMqUw1GYVWt4p1wLKYDgBsRVNFRK6tjZAHerHUVua5dQE3fMdpfJNjJ8dKvKpATjfBDR2paH2kEwIyFBh/UEIbB/8irsaDgJ+LZ0kNE6ac5uA6tBHLJzHAQjami0Ga+ia4ENXJaOI92DtM7VisBMpKedC4AxxQuDtToLHIS/ubYvNNP1eLk33QKDhSXU4OckmklEaSqw9NuCrmV559/XlZxFaxpP85ZhqBL1EF19QmZsiTpvSqcmme0A6iRU0vqL1SXUGAi36viPFFQW7x4sRs7dqwsGmj/Fpl+snmVRS9WMokIKXE5NRai0OdAgo5vg6kf3wL5Pp5Pu1Bbo2gbyanFaYCG9gfagi1YwWWVuEhpy0jtnHPOkQQsU06AjZwFy9BEaBdffLFM9Qj9WTJnRQigI1JjxWjQoEHS4eykV0kyphJ0Nls6ADuiPj50wHP//feXuT6LEMjnsVpEmEyd5DBYXeWZ3E9kSOcw0rBgQWTGbwAeozc5C/aHMS3GiT788EMJ9VkNHTNmjHwEqPmwSsp0AY1E1fws0sn+va+//rosCuA8OGufPn1EzYgIl8S2Su+Fel6z9bQLqCX1FyvgABt9ij/hD+QqycGxAsoGU6J5gI+tHvgyPswqIHVSWHUkWU8USF/5vorvkvsldwaQUT//zxYjojCkH4m8SLkAvswgWHDi76y4stKIT/MtsLiGLzLgssqP36LazuDLQgffF0CTJk7cbP9yPc/lPdgbSVsofCusyDJD4R2KlLYENTpx4sSJAmRsxyBvQWfQeawUsQzO/iBGQ1Y8WaomAQqA4Ay+dBkrUuQ//N8IuX/zm9/0UqNWgVdADYAkymK0Zkme/WXk7nS09evSPArOp/vfVO5O9wjhfIAYO6uZTgN8rK4BOkX37ESdg6kFuRJWvSioHvGBMToWdaYijqj3tguopfUXkoxEvAAbqRG2XrCyzBQPjU3AQtXJ99lnHwEOAE1/Q64RYOPD9yUcWcRidZ4BE0BkmxLFV4dXjc3ofTybfWq6/w1xGPyW40msNvLdsBUKn2Z2w6wBPyfyC71oxfYRfJ8ZDbMqQJMBnRxyCH9vS1AL8fHkqSNp9TNPXXZPvAXaAdRa2Xdxq5+tbE8dn22g1kSvGKg1YayclxqopRvOQK2xYxmoNbaRXBGXY6tiH0/G5nXMZQZqyV0Zl2PrmI4P+CIGahmNGd0bRkKzipXJjM3rmMsM1OK7Mpor46pGx+A6ximafBEDtSYNZpeXawEDtXLt2w21G6h1Qy+30TsaqLVRZ9W0qQZqNe2Ybm2WgVq39ny49zZQC2dLqymABQzUAhixy6swUOtyB6jb6xuo1a1H2q89HQ9q7aauE11l9SmTqnIvdnqzS11LlSu9nQhqnKmFdJFTHJxA4VhSXUvaiYSqTyKaqAAAEABJREFU2px2MidLG7oC1NpBXUc7K4lbPqQCFHvuHn74YaE34rydf8zMd5o4NoksTlXkmk4FNY7t8bH5bDFF7FTWvQpqHJ2LO8iOH3KUiqOAUBnlAWj8j2OGnJnmXDVHuI4//ng5Ux3lRlRCCo6NcaQvS+l4UGsEFlmMVOU1SaAWUgEKWmkO/xM5QP9MNEj90M34B9oN1ML1fCOwCPekYjWltRMCBgZBzidDR88Z7DwMHpzMwf840A6IMTPgQDvnQaMaBQZqKf1ZZ3Udv9lx7QypAMVheh2FlQEEhgj+m8P6Pt2zgVoxgPDv7gRQ0/eJo/PKaimm4jDbMA3Xw+vKbANJhU+nT50dBWrRuT1sBj6lMUwTsBnAXLDSSitJKAvdEKMJBgPxVYQC4/hgAbun5ow0Z+Xzpft5rEYqUFk7M+t1WcE3rwIUilYwmsAYouR/TAfgb1OKm9VWW02a2+2g5vsE9tDcou+b0PnA/IJOBjRCUPvAHEMUwvXQX1GioObnTvVkgJ/L9E8LpKlAZfWrrNdlAd8ioJbUDqajUMn7ftlxoMYLEVVAyQJtEB2uUyPm9ZAtAnTMx+Gv6t+/fw/HOtEGRIzQrMC7FgU1Ql44neC+IozWEBr6FaIYuKj4rZEK1Prrr9+rj0LQHDcCtaIKUNSPIDW8cb56FPZV5mAFu24HNc09QouDXyjxKJ0OfQ4ceVALYSdoshkoue7VV1+VyHevvfaSv8eBGr9BewX1DwOU5ovg7OM32I/5rZEKVJSqJwrESSCStPjTSlBDuQrOOV+msaMiNe0MJO9wEMJSpOsoUBDDgXbcccdJp8NVBdMozqAAplGHGigKFnGdF/2tkQpUaALHOPD1nbKoApSCFPoOPusvz9AowY8Quh3UsAsEn4AZXHf+B4cOBgVSz9dee034wGBfxkfVbqrfycAa529xH2z0t0YqULAmhyytADUGDwCNwCTKetuRoKb5HmiGYebEUZhCQQipIEenYhhGSNhscb6BAwf2+nDzgFojFagyDrQ3itSKKEAZqDmJwgEoVn+zFlWwx68gNIQtg0UVCB/9qEJXBmGbxQ+Re1N1pzygxupiIxWorCuCWd+1FaCGmhSroMywovJ4HQlqGkWQIyMkZ8oHPTLsocrUClUxU01llGV69eSTTxYGtWbFSKqYfqpz5lGA0twZUxRf85Q6WaJn2dxP1Fqk9ldrqx0AM8RwiHRhqYXrXwu/AUDLL7+8TEFZWWYALgJq0GpnUYHyAavdpp/vvfeerL6zrSiOebljQY3pJjkLBCLQD1i4cGGPwIRyr0NvzJIwSB9HpJcnUmtGBSrrSNjoukaRmn9/s6CrA0Q0d6biMSzVE2HYQsGSvaRpEAYD9pyRz9WcKrlY/JMokH1b0HirqHARUENHohkVqEa+leXvVUZqpI5Y6COiVTGiaBs7FtSIMHAOlG8IyYnaNOyHD56ojX0uml9oBtQYbVULEYDk/xlp+Y2cWpoKlC9tl8VhslyTFdTyKkARUZDQZmSMbulAcNlXk7JI7e89pmkQIgtyt+RzlSSUD5PITBez4pSh0qafCLSoL82ZM0dWTokI+Y2cWpoK1Nprr53FrTJfUxWoAWjkxQ888MBEQKPRHQtq/ssxGvoJejYDgvQ4Gcvr5EsQWGF1CoDo16+fRB5RdR2MyqopQMYmQraCoKKNg7JVhJEWcQocLkkFqgyhkjhQy6oAxfScaJUVXZbHmf5EC2DIAEBEduWVV8o7osaFKLTqVEanuFxTRv4w7kur84kCQEvTIH6CniiOwRA7oo6EH3FaA+UoVu8HDBjgONXCajvXIQTEjEJnIGjB0mcsOMyYMUO2JjGo4tes1LMQlqQCFZp9OQuo0UbegwGQkwAqzAKYI+bCFBh1NWZVcYUtKqwckxNfccUVey5h4EDwiDr1ZEFHgxpTJFZIWOX0BYHZR8YoiZQYkQb/xlkAOQCCPWskdOPUdYjyACycCSUdVl5QoqIetnRg8DQVqMzDXxMXJm2+zaIANW7cONnqwkcEQCHFFlf0yBUfnuYhUa/SPVUGavEdhl/dfPPN4iP+VgoGSOQFyfWivkRfsU2DHCX7J8mzqaYrNeveNlZFUYTiegr9gaQiwABoAJB83GkqUE24VqZLG4Fa9Gyyv38UOxAMzJo1S7471a71H8x+PsAQkI4WpqD87kvydTSoZeqRDrgo6/Qz6VWJxPiYAP8kUMtqJpt+ZrVU51zXCNSyvCmzH3KPzITiZgtZ6tBrDNSasVZNry0KaiyPE4GShyk6NTFQq6mTlNisoqDGoMqpAPacbb311oVbaqBW2IStr6AIqLGfilGSKUF0v0+eNzNQy2O19r6nCKix5eW+++6T9IeeSilqDQO1ohaswf3GpzbfsaJHsp0D9qFLns23odtQ5/qMT63OvWNta0sL1Hn1sy0N2oWN7ho+tS7s27Z8ZQO1tuy2WjXaQK1W3WGNMVAzHyhqAQO1oha0+4NawEAtqDm7sjIDta7s9vq+tIFaffumXVrWclBjFzIUPxyr4PhIaCqVdugIpU2CrYBD5exMX3XVVVvSdNrCETP2GsGtxkbeKtvSjqBmPtzbVVutntVyUGMvFB/PyJEjezGAtuSLbvKhcVJeSVWkSd1xbIlzb5xZ5exqlMAxqc6k5+sxnKgyT5bXA9QWLFggZ/Mg2szalix1Z7mmHUGtnX04iarIJwvN0m/+NYBaK9WzWg5qGCPPBrtmDV3G9TgzHz9MHuygpgACHJDnYDxU45wd5RwgozkHmtNKHLtIlnbjQDCLcICayMqn6c5yf9w1vAeH3g3UslmwXX2Yt2PT7IUXXihnUDlMD4tL0c3bRTbxZrN48lUGagUsuHjxYpEM23bbbXtqiYIafwD84KOPUhVHH50X1NSB4PdS/q4Cr9UDzgZq2a3YzqCmgzFgViRC863V8aBGlALFMRTI8+bNEz4qTvBDC5QUqTENSVOIgiiSiIjIBHYJWBD23ntvoWth5LnxxhuFsYIyZMgQObahxH3ZXbX5K+NAjVqYYqKtSZvZLU8UR3sYVXRUjIKaf7rAZ0OItioLqPk7xbWuPn36SBtg9IjW70dqMAlnVd+CDwyWCWVbQNELBhDeN0up6/Qzjw9DHpmmMJVmqzT/zmLHZq+J06iI1uEzO2uKg4EdRhtYcPy0R171rBDfbumRGs4Arc+WW24pHwZnE+GHgo6FhDj0PtFRTrnO0hSiINGDjoi6MATTQD4gDAx4IIyBYg5cT+SzSH5DS5TWUWmOkDVPlQRqcG5hB8J7uLiYkiLWAfUMDKeUKKjBLYWYB+8ItbPyVuUBNe5RfcWZM2f2TCsBWwYP7OVPNaPTzyzqW+TioOXhMD1kni+//LL0AXZvZ1DL48PKlZakMNXIVmn+He3/ohTezURqtJujZuRrdVbATAQKLzgJ05h+s6hnNfPtJn2vpYMazJ38Q0SFPidABNEe0vVJoIbhGilEAQCAAxQ7FHia+PD23Xdf+TgBMRXmff/99wVEGuW0mh3d4q5PAjU6i2iVCBLWXgVyJNQOOeSQJUANjjfEQUaPHp3KDMqNWSI1bWtcrizLb1nUt7iGqAwgU847yCcRyWlnUMvjw40UpgDKNFul+XcIP43WkSVS03viSBey0OVnUc8K8e2WCmqsgrBNg484jTk1KR+RphDFx3LKKacI4Rwrp/5KH/Q7gAG/84I+u2YZDuHXmQRqeg2j2iOPPCJbWFDQ8VdFcQzeC4pjwnqinix8VHUBNSJBBHDIy6D8lRZdJvVD3aafRX04SWEKweM0W6X5dxk+XBdQC/HtlgpqWalr4kAti0IUfPtEBTgA4IZWgYIb98OUS7KblUForldZZZWWTT9xbqZ45PmGDx/utthiCwnjAWYVUwbUEHthqs60FCZbWHgblbqAGu3U96RfKLC5ktPMyu1WN1Ar4sONFKYa2SrNv32fqHL6qWkSGJP9RalQkRr1Z/12WzL91FHunXfekemnrxjDggFzcLYfREEtq0IUL0U0x4ZVpnFworMA4S9H4xgkrhkZ4eQvO2pLitTGjx/vLr/8cpl+Qtms7xwFNRyUaTngR+6LHBzXp5U6gZq2kzwnmgmAG/khFnGylLqBWl4fzqIwlcVWjfw7i02zXFOXSM1va95vt9RIjQYiAEtuix3q6thMU3B4+NzjFgqyKERBRgeXuXLFcyqBpDqdwzaLwYMH9yhOscpEVMTHlTW3k8UR4q5hJZFVXt2nxjVIpmmkCOiS8E8DNd4B/nqSr4yIUUGU6HMbgRofBvYB9O+++27h2fd1P1HpIqL1f4vm2fQZaepbXEOuVPn4VWeUKXRW4Za6gVpeH26kMEV6Ic1Waf5dxgmPRqBGEEKemlkEURk5QwZpVtC1n/FV/S2vehZ+WvTbLR3UMAQrh0899ZQbO3asQ2md5V+mYCoLpqsi5JmYitHZjRSi+AD58JlyAmwo+fAMgIsPl/8mJ7XmmmvK9gKiHz7m0JJiPsAQnbDSBwjh1IhPMO1icQQwI5dG5MUWFECEBRMitR133NENGjRInIVd/PyNCHbu3LmyuMEqMKE+qk5xRTffYltdkNHrVFsR56MuVT5iqwGDCpEhkS6DDspZ7LljQYecGIsbKE8RKWZR30Jdiz5mVXfo0KGOCJ0Bbc899+ylAJY2YNQR1PL4MKmGNIUpUiH4RJKt6J8k/w6tYuZvvgVM0dfVwhSZqBOfZsaDMhuBCr6Kv5A3Jf3D+xJMMBsaOHCgyEvmUc9iuxNC0UW+3dJBDePgqHQg6t+sWPp5Fh0h1IhMV5hKpilEAXx85BMnThTwYmqJjuXJJ58sK21EgQAkq6FMcUm8AzZs+SirxOU1/L1fOAYdBQDx4bPiySLKokWLZCc3/62KV7SRZDuOokpD/BY9apX1mBZCz4ATK5KAE3vlcD7ydUS3gBp70WgXkSxRJU6sRTdkNlLfwtaAGEe9qJMRlxU++stXX2o3UMvjw/R1msIUUTPXJNmKPkry75A+nDUfx6KG7iYgPYSkH3lfNpTzzQJ0/E5um6gur3oWi2dFv91KQC1kJ1hdnW2BOkZqnW3xzns7A7XO69O2fiMDtbbuvlo03kCtFt1gjVALGKiZLxS1gIFaUQva/UEtYKAW1JxdWZmBWld2e31f2kCtvn3TLi0zUGuXnuqSdhqodUlHl/iaBmolGteqbt4CBmrN28zu6G0BAzXziFpZwECtVt3Rlo0xUGvLbuvcRhuodW7fVvVmBmpVWdqek8kCBmqZzGQXpVggF6hxtMaKWaAsC3BmljOAu+yyS/BHQGzA0SSOpVnpTAtwHJPBkbPLkTJhqY84fu8VznsZoHWmI9TtrcoENUgPrHS2BWDAzgRqiEFYMQtUZQGffy/UM82HQ1my/vXE+M+SkVr9X8NaaBYwC5gFEi1goGbOYRYwC3SUBQzUOqo77WXMAmYBAbVLzQ5mAbOAWaBTLPD/sRzWpHmUhigAAAAASUVORK5CYII=)"
   ]
  },
  {
   "cell_type": "markdown",
   "metadata": {},
   "source": [
    "<hr>\n",
    "\n",
    "- __B. Entropy criterion__"
   ]
  },
  {
   "cell_type": "code",
   "execution_count": 34,
   "metadata": {},
   "outputs": [],
   "source": [
    "model = DecisionTreeClassifier(criterion='entropy')"
   ]
  },
  {
   "cell_type": "code",
   "execution_count": 35,
   "metadata": {},
   "outputs": [
    {
     "data": {
      "text/plain": [
       "DecisionTreeClassifier(ccp_alpha=0.0, class_weight=None, criterion='entropy',\n",
       "                       max_depth=None, max_features=None, max_leaf_nodes=None,\n",
       "                       min_impurity_decrease=0.0, min_impurity_split=None,\n",
       "                       min_samples_leaf=1, min_samples_split=2,\n",
       "                       min_weight_fraction_leaf=0.0, presort='deprecated',\n",
       "                       random_state=None, splitter='best')"
      ]
     },
     "execution_count": 35,
     "metadata": {},
     "output_type": "execute_result"
    }
   ],
   "source": [
    "model.fit(df[['ujian']], df['lulus'])"
   ]
  },
  {
   "cell_type": "code",
   "execution_count": 36,
   "metadata": {},
   "outputs": [
    {
     "name": "stdout",
     "output_type": "stream",
     "text": [
      "[0 0 0 1 1 1]\n",
      "[[1.         0.        ]\n",
      " [1.         0.        ]\n",
      " [1.         0.        ]\n",
      " [0.33333333 0.66666667]\n",
      " [0.33333333 0.66666667]\n",
      " [0.33333333 0.66666667]]\n"
     ]
    }
   ],
   "source": [
    "print(model.predict(df[['ujian']]))\n",
    "print(model.predict_proba(df[['ujian']]))"
   ]
  },
  {
   "cell_type": "code",
   "execution_count": 37,
   "metadata": {},
   "outputs": [
    {
     "data": {
      "text/plain": [
       "[Text(167.4, 163.07999999999998, 'X[0] <= 0.5\\nentropy = 0.918\\nsamples = 6\\nvalue = [4, 2]'),\n",
       " Text(83.7, 54.360000000000014, 'entropy = 0.0\\nsamples = 3\\nvalue = [3, 0]'),\n",
       " Text(251.10000000000002, 54.360000000000014, 'entropy = 0.918\\nsamples = 3\\nvalue = [1, 2]')]"
      ]
     },
     "execution_count": 37,
     "metadata": {},
     "output_type": "execute_result"
    },
    {
     "data": {
      "image/png": "[encoded data removed]",
      "text/plain": [
       "<Figure size 432x288 with 1 Axes>"
      ]
     },
     "metadata": {
      "needs_background": "light"
     },
     "output_type": "display_data"
    }
   ],
   "source": [
    "plot_tree(model.fit(df[['ujian']], df['lulus']))"
   ]
  },
  {
   "cell_type": "code",
   "execution_count": 38,
   "metadata": {},
   "outputs": [],
   "source": [
    "export_graphviz(\n",
    "    model.fit(df[['ujian']], df['lulus']),\n",
    "    feature_names = ['Ujian'],\n",
    "    class_names = ['Tak Lulus', 'Lulus'],\n",
    "    out_file = 'tree.dot'\n",
    ")\n",
    "\n",
    "# return = .dot file => jpg/png/svg \n",
    "# https://dreampuf.github.io/GraphvizOnline"
   ]
  },
  {
   "cell_type": "markdown",
   "metadata": {},
   "source": [
    "![tree](data:image/png;base64,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)"
   ]
  }
 ],
 "metadata": {
  "kernelspec": {
   "display_name": "Python 3 (ipykernel)",
   "language": "python",
   "name": "python3"
  },
  "language_info": {
   "codemirror_mode": {
    "name": "ipython",
    "version": 3
   },
   "file_extension": ".py",
   "mimetype": "text/x-python",
   "name": "python",
   "nbconvert_exporter": "python",
   "pygments_lexer": "ipython3",
   "version": "3.10.5"
  }
 },
 "nbformat": 4,
 "nbformat_minor": 4
}
